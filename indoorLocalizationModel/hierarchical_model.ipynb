{
 "cells": [
  {
   "cell_type": "code",
   "execution_count": 1,
   "metadata": {},
   "outputs": [],
   "source": [
    "import pandas as pd\n",
    "import numpy as np\n",
    "%matplotlib inline\n",
    "import matplotlib.pyplot as plt\n",
    "from os import listdir\n",
    "import seaborn as sns\n",
    "sns.set_style(\"white\")"
   ]
  },
  {
   "cell_type": "code",
   "execution_count": 2,
   "metadata": {},
   "outputs": [
    {
     "name": "stderr",
     "output_type": "stream",
     "text": [
      "Using TensorFlow backend.\n"
     ]
    }
   ],
   "source": [
    "from keras.preprocessing import sequence\n",
    "import tensorflow as tf\n",
    "from keras.models import Sequential\n",
    "from keras.layers import Dense\n",
    "from keras.layers import LSTM\n",
    "from keras.layers import Flatten\n",
    "from keras.layers import Dropout\n",
    "from keras.callbacks import EarlyStopping\n",
    "from keras import optimizers\n",
    "from keras.regularizers import l1,l2,l1_l2\n",
    "\n",
    "from keras.optimizers import Adam\n",
    "from keras.models import load_model\n",
    "from keras.callbacks import ModelCheckpoint"
   ]
  },
  {
   "cell_type": "code",
   "execution_count": 3,
   "metadata": {},
   "outputs": [],
   "source": [
    "from keras.models import model_from_json"
   ]
  },
  {
   "cell_type": "code",
   "execution_count": 4,
   "metadata": {},
   "outputs": [
    {
     "data": {
      "text/html": [
       "<div>\n",
       "<style scoped>\n",
       "    .dataframe tbody tr th:only-of-type {\n",
       "        vertical-align: middle;\n",
       "    }\n",
       "\n",
       "    .dataframe tbody tr th {\n",
       "        vertical-align: top;\n",
       "    }\n",
       "\n",
       "    .dataframe thead th {\n",
       "        text-align: right;\n",
       "    }\n",
       "</style>\n",
       "<table border=\"1\" class=\"dataframe\">\n",
       "  <thead>\n",
       "    <tr style=\"text-align: right;\">\n",
       "      <th></th>\n",
       "      <th>5160399000.0</th>\n",
       "      <th>5160532000.0</th>\n",
       "      <th>5160665000.0</th>\n",
       "      <th>5160798000.0</th>\n",
       "      <th>5160931000.0</th>\n",
       "      <th>5161064000.0</th>\n",
       "      <th>5161197000.0</th>\n",
       "      <th>5161330000.0</th>\n",
       "      <th>5161463000.0</th>\n",
       "      <th>5161596000.0</th>\n",
       "      <th>...</th>\n",
       "      <th>5178354000.0</th>\n",
       "      <th>5178487000.0</th>\n",
       "      <th>5178620000.0</th>\n",
       "      <th>5178753000.0</th>\n",
       "      <th>5178886000.0</th>\n",
       "      <th>5179019000.0</th>\n",
       "      <th>5179152000.0</th>\n",
       "      <th>5179285000.0</th>\n",
       "      <th>5179418000.0</th>\n",
       "      <th>target</th>\n",
       "    </tr>\n",
       "  </thead>\n",
       "  <tbody>\n",
       "    <tr>\n",
       "      <td>0</td>\n",
       "      <td>2.914357</td>\n",
       "      <td>6.005487</td>\n",
       "      <td>11.112679</td>\n",
       "      <td>7.764572</td>\n",
       "      <td>10.354005</td>\n",
       "      <td>8.717390</td>\n",
       "      <td>11.811617</td>\n",
       "      <td>10.967102</td>\n",
       "      <td>8.950447</td>\n",
       "      <td>10.052719</td>\n",
       "      <td>...</td>\n",
       "      <td>10.745898</td>\n",
       "      <td>4.313584</td>\n",
       "      <td>7.970730</td>\n",
       "      <td>10.971555</td>\n",
       "      <td>8.633639</td>\n",
       "      <td>10.180341</td>\n",
       "      <td>6.006283</td>\n",
       "      <td>7.642098</td>\n",
       "      <td>7.705844</td>\n",
       "      <td>0</td>\n",
       "    </tr>\n",
       "    <tr>\n",
       "      <td>1</td>\n",
       "      <td>3.761473</td>\n",
       "      <td>14.935231</td>\n",
       "      <td>16.227498</td>\n",
       "      <td>12.060745</td>\n",
       "      <td>16.125729</td>\n",
       "      <td>17.732527</td>\n",
       "      <td>13.959423</td>\n",
       "      <td>12.714860</td>\n",
       "      <td>13.893367</td>\n",
       "      <td>14.138119</td>\n",
       "      <td>...</td>\n",
       "      <td>13.872319</td>\n",
       "      <td>12.760485</td>\n",
       "      <td>12.790868</td>\n",
       "      <td>12.352849</td>\n",
       "      <td>12.534128</td>\n",
       "      <td>12.468156</td>\n",
       "      <td>14.160435</td>\n",
       "      <td>13.076671</td>\n",
       "      <td>7.591130</td>\n",
       "      <td>0</td>\n",
       "    </tr>\n",
       "    <tr>\n",
       "      <td>2</td>\n",
       "      <td>11.028217</td>\n",
       "      <td>7.848927</td>\n",
       "      <td>9.656009</td>\n",
       "      <td>8.383288</td>\n",
       "      <td>11.324592</td>\n",
       "      <td>17.601830</td>\n",
       "      <td>19.012004</td>\n",
       "      <td>17.310340</td>\n",
       "      <td>13.895299</td>\n",
       "      <td>11.305647</td>\n",
       "      <td>...</td>\n",
       "      <td>27.018198</td>\n",
       "      <td>27.772122</td>\n",
       "      <td>22.960824</td>\n",
       "      <td>13.482299</td>\n",
       "      <td>5.201821</td>\n",
       "      <td>3.631783</td>\n",
       "      <td>12.813917</td>\n",
       "      <td>17.920611</td>\n",
       "      <td>13.337409</td>\n",
       "      <td>0</td>\n",
       "    </tr>\n",
       "    <tr>\n",
       "      <td>3</td>\n",
       "      <td>5.023361</td>\n",
       "      <td>-0.372701</td>\n",
       "      <td>1.719409</td>\n",
       "      <td>-0.158471</td>\n",
       "      <td>-0.600181</td>\n",
       "      <td>0.961100</td>\n",
       "      <td>3.194176</td>\n",
       "      <td>1.285016</td>\n",
       "      <td>3.058122</td>\n",
       "      <td>5.045652</td>\n",
       "      <td>...</td>\n",
       "      <td>1.885107</td>\n",
       "      <td>3.122816</td>\n",
       "      <td>4.586187</td>\n",
       "      <td>0.488737</td>\n",
       "      <td>0.719062</td>\n",
       "      <td>-0.952412</td>\n",
       "      <td>0.980869</td>\n",
       "      <td>0.961448</td>\n",
       "      <td>-1.371234</td>\n",
       "      <td>0</td>\n",
       "    </tr>\n",
       "    <tr>\n",
       "      <td>4</td>\n",
       "      <td>-1.578160</td>\n",
       "      <td>14.208589</td>\n",
       "      <td>17.693789</td>\n",
       "      <td>17.783248</td>\n",
       "      <td>14.259180</td>\n",
       "      <td>15.064771</td>\n",
       "      <td>14.936807</td>\n",
       "      <td>12.608595</td>\n",
       "      <td>10.680211</td>\n",
       "      <td>14.231489</td>\n",
       "      <td>...</td>\n",
       "      <td>12.773221</td>\n",
       "      <td>12.403332</td>\n",
       "      <td>14.344437</td>\n",
       "      <td>16.841927</td>\n",
       "      <td>16.502607</td>\n",
       "      <td>13.367102</td>\n",
       "      <td>10.853990</td>\n",
       "      <td>14.107845</td>\n",
       "      <td>11.783126</td>\n",
       "      <td>0</td>\n",
       "    </tr>\n",
       "    <tr>\n",
       "      <td>...</td>\n",
       "      <td>...</td>\n",
       "      <td>...</td>\n",
       "      <td>...</td>\n",
       "      <td>...</td>\n",
       "      <td>...</td>\n",
       "      <td>...</td>\n",
       "      <td>...</td>\n",
       "      <td>...</td>\n",
       "      <td>...</td>\n",
       "      <td>...</td>\n",
       "      <td>...</td>\n",
       "      <td>...</td>\n",
       "      <td>...</td>\n",
       "      <td>...</td>\n",
       "      <td>...</td>\n",
       "      <td>...</td>\n",
       "      <td>...</td>\n",
       "      <td>...</td>\n",
       "      <td>...</td>\n",
       "      <td>...</td>\n",
       "      <td>...</td>\n",
       "    </tr>\n",
       "    <tr>\n",
       "      <td>1687</td>\n",
       "      <td>32.358960</td>\n",
       "      <td>40.647417</td>\n",
       "      <td>39.412518</td>\n",
       "      <td>39.342760</td>\n",
       "      <td>41.315755</td>\n",
       "      <td>40.715680</td>\n",
       "      <td>43.086733</td>\n",
       "      <td>43.751558</td>\n",
       "      <td>41.296649</td>\n",
       "      <td>35.822778</td>\n",
       "      <td>...</td>\n",
       "      <td>38.024862</td>\n",
       "      <td>37.526201</td>\n",
       "      <td>41.985361</td>\n",
       "      <td>43.111458</td>\n",
       "      <td>40.785819</td>\n",
       "      <td>40.047145</td>\n",
       "      <td>42.223945</td>\n",
       "      <td>40.051310</td>\n",
       "      <td>36.898072</td>\n",
       "      <td>17</td>\n",
       "    </tr>\n",
       "    <tr>\n",
       "      <td>1688</td>\n",
       "      <td>33.578679</td>\n",
       "      <td>36.577034</td>\n",
       "      <td>41.970282</td>\n",
       "      <td>43.009397</td>\n",
       "      <td>38.711283</td>\n",
       "      <td>38.097511</td>\n",
       "      <td>42.928920</td>\n",
       "      <td>42.469824</td>\n",
       "      <td>43.022902</td>\n",
       "      <td>41.727019</td>\n",
       "      <td>...</td>\n",
       "      <td>39.053493</td>\n",
       "      <td>36.223812</td>\n",
       "      <td>43.160209</td>\n",
       "      <td>45.197478</td>\n",
       "      <td>42.456888</td>\n",
       "      <td>45.012606</td>\n",
       "      <td>42.016903</td>\n",
       "      <td>43.436745</td>\n",
       "      <td>43.085810</td>\n",
       "      <td>17</td>\n",
       "    </tr>\n",
       "    <tr>\n",
       "      <td>1689</td>\n",
       "      <td>36.387863</td>\n",
       "      <td>40.704578</td>\n",
       "      <td>45.547653</td>\n",
       "      <td>41.529156</td>\n",
       "      <td>39.982318</td>\n",
       "      <td>43.948524</td>\n",
       "      <td>43.428312</td>\n",
       "      <td>41.839868</td>\n",
       "      <td>40.422883</td>\n",
       "      <td>40.722008</td>\n",
       "      <td>...</td>\n",
       "      <td>39.479800</td>\n",
       "      <td>38.435553</td>\n",
       "      <td>40.920215</td>\n",
       "      <td>42.578626</td>\n",
       "      <td>42.640025</td>\n",
       "      <td>40.485374</td>\n",
       "      <td>37.557278</td>\n",
       "      <td>42.243883</td>\n",
       "      <td>38.311483</td>\n",
       "      <td>17</td>\n",
       "    </tr>\n",
       "    <tr>\n",
       "      <td>1690</td>\n",
       "      <td>33.754645</td>\n",
       "      <td>37.989886</td>\n",
       "      <td>44.204047</td>\n",
       "      <td>42.246398</td>\n",
       "      <td>40.540868</td>\n",
       "      <td>42.653116</td>\n",
       "      <td>44.121682</td>\n",
       "      <td>41.359135</td>\n",
       "      <td>38.402004</td>\n",
       "      <td>38.351411</td>\n",
       "      <td>...</td>\n",
       "      <td>40.550616</td>\n",
       "      <td>38.882939</td>\n",
       "      <td>40.271028</td>\n",
       "      <td>41.177553</td>\n",
       "      <td>38.528560</td>\n",
       "      <td>41.839293</td>\n",
       "      <td>36.851613</td>\n",
       "      <td>36.211286</td>\n",
       "      <td>37.334487</td>\n",
       "      <td>17</td>\n",
       "    </tr>\n",
       "    <tr>\n",
       "      <td>1691</td>\n",
       "      <td>38.289796</td>\n",
       "      <td>38.432963</td>\n",
       "      <td>42.930091</td>\n",
       "      <td>38.503815</td>\n",
       "      <td>42.502572</td>\n",
       "      <td>45.686307</td>\n",
       "      <td>44.833912</td>\n",
       "      <td>43.642687</td>\n",
       "      <td>42.482849</td>\n",
       "      <td>35.491961</td>\n",
       "      <td>...</td>\n",
       "      <td>41.034995</td>\n",
       "      <td>39.146740</td>\n",
       "      <td>41.919983</td>\n",
       "      <td>44.355420</td>\n",
       "      <td>39.830242</td>\n",
       "      <td>42.873818</td>\n",
       "      <td>41.592733</td>\n",
       "      <td>43.183435</td>\n",
       "      <td>42.012014</td>\n",
       "      <td>17</td>\n",
       "    </tr>\n",
       "  </tbody>\n",
       "</table>\n",
       "<p>1692 rows × 145 columns</p>\n",
       "</div>"
      ],
      "text/plain": [
       "      5160399000.0  5160532000.0  5160665000.0  5160798000.0  5160931000.0  \\\n",
       "0         2.914357      6.005487     11.112679      7.764572     10.354005   \n",
       "1         3.761473     14.935231     16.227498     12.060745     16.125729   \n",
       "2        11.028217      7.848927      9.656009      8.383288     11.324592   \n",
       "3         5.023361     -0.372701      1.719409     -0.158471     -0.600181   \n",
       "4        -1.578160     14.208589     17.693789     17.783248     14.259180   \n",
       "...            ...           ...           ...           ...           ...   \n",
       "1687     32.358960     40.647417     39.412518     39.342760     41.315755   \n",
       "1688     33.578679     36.577034     41.970282     43.009397     38.711283   \n",
       "1689     36.387863     40.704578     45.547653     41.529156     39.982318   \n",
       "1690     33.754645     37.989886     44.204047     42.246398     40.540868   \n",
       "1691     38.289796     38.432963     42.930091     38.503815     42.502572   \n",
       "\n",
       "      5161064000.0  5161197000.0  5161330000.0  5161463000.0  5161596000.0  \\\n",
       "0         8.717390     11.811617     10.967102      8.950447     10.052719   \n",
       "1        17.732527     13.959423     12.714860     13.893367     14.138119   \n",
       "2        17.601830     19.012004     17.310340     13.895299     11.305647   \n",
       "3         0.961100      3.194176      1.285016      3.058122      5.045652   \n",
       "4        15.064771     14.936807     12.608595     10.680211     14.231489   \n",
       "...            ...           ...           ...           ...           ...   \n",
       "1687     40.715680     43.086733     43.751558     41.296649     35.822778   \n",
       "1688     38.097511     42.928920     42.469824     43.022902     41.727019   \n",
       "1689     43.948524     43.428312     41.839868     40.422883     40.722008   \n",
       "1690     42.653116     44.121682     41.359135     38.402004     38.351411   \n",
       "1691     45.686307     44.833912     43.642687     42.482849     35.491961   \n",
       "\n",
       "      ...  5178354000.0  5178487000.0  5178620000.0  5178753000.0  \\\n",
       "0     ...     10.745898      4.313584      7.970730     10.971555   \n",
       "1     ...     13.872319     12.760485     12.790868     12.352849   \n",
       "2     ...     27.018198     27.772122     22.960824     13.482299   \n",
       "3     ...      1.885107      3.122816      4.586187      0.488737   \n",
       "4     ...     12.773221     12.403332     14.344437     16.841927   \n",
       "...   ...           ...           ...           ...           ...   \n",
       "1687  ...     38.024862     37.526201     41.985361     43.111458   \n",
       "1688  ...     39.053493     36.223812     43.160209     45.197478   \n",
       "1689  ...     39.479800     38.435553     40.920215     42.578626   \n",
       "1690  ...     40.550616     38.882939     40.271028     41.177553   \n",
       "1691  ...     41.034995     39.146740     41.919983     44.355420   \n",
       "\n",
       "      5178886000.0  5179019000.0  5179152000.0  5179285000.0  5179418000.0  \\\n",
       "0         8.633639     10.180341      6.006283      7.642098      7.705844   \n",
       "1        12.534128     12.468156     14.160435     13.076671      7.591130   \n",
       "2         5.201821      3.631783     12.813917     17.920611     13.337409   \n",
       "3         0.719062     -0.952412      0.980869      0.961448     -1.371234   \n",
       "4        16.502607     13.367102     10.853990     14.107845     11.783126   \n",
       "...            ...           ...           ...           ...           ...   \n",
       "1687     40.785819     40.047145     42.223945     40.051310     36.898072   \n",
       "1688     42.456888     45.012606     42.016903     43.436745     43.085810   \n",
       "1689     42.640025     40.485374     37.557278     42.243883     38.311483   \n",
       "1690     38.528560     41.839293     36.851613     36.211286     37.334487   \n",
       "1691     39.830242     42.873818     41.592733     43.183435     42.012014   \n",
       "\n",
       "      target  \n",
       "0          0  \n",
       "1          0  \n",
       "2          0  \n",
       "3          0  \n",
       "4          0  \n",
       "...      ...  \n",
       "1687      17  \n",
       "1688      17  \n",
       "1689      17  \n",
       "1690      17  \n",
       "1691      17  \n",
       "\n",
       "[1692 rows x 145 columns]"
      ]
     },
     "execution_count": 4,
     "metadata": {},
     "output_type": "execute_result"
    }
   ],
   "source": [
    "df = pd.read_csv('df_processed_3_Test.csv')\n",
    "df"
   ]
  },
  {
   "cell_type": "code",
   "execution_count": 5,
   "metadata": {},
   "outputs": [
    {
     "data": {
      "text/html": [
       "<div>\n",
       "<style scoped>\n",
       "    .dataframe tbody tr th:only-of-type {\n",
       "        vertical-align: middle;\n",
       "    }\n",
       "\n",
       "    .dataframe tbody tr th {\n",
       "        vertical-align: top;\n",
       "    }\n",
       "\n",
       "    .dataframe thead th {\n",
       "        text-align: right;\n",
       "    }\n",
       "</style>\n",
       "<table border=\"1\" class=\"dataframe\">\n",
       "  <thead>\n",
       "    <tr style=\"text-align: right;\">\n",
       "      <th></th>\n",
       "      <th>0</th>\n",
       "      <th>1</th>\n",
       "      <th>2</th>\n",
       "      <th>3</th>\n",
       "      <th>4</th>\n",
       "      <th>5</th>\n",
       "      <th>6</th>\n",
       "      <th>7</th>\n",
       "      <th>8</th>\n",
       "      <th>9</th>\n",
       "      <th>...</th>\n",
       "      <th>1682</th>\n",
       "      <th>1683</th>\n",
       "      <th>1684</th>\n",
       "      <th>1685</th>\n",
       "      <th>1686</th>\n",
       "      <th>1687</th>\n",
       "      <th>1688</th>\n",
       "      <th>1689</th>\n",
       "      <th>1690</th>\n",
       "      <th>1691</th>\n",
       "    </tr>\n",
       "  </thead>\n",
       "  <tbody>\n",
       "    <tr>\n",
       "      <td>5160399000.0</td>\n",
       "      <td>2.914357</td>\n",
       "      <td>3.761473</td>\n",
       "      <td>11.028217</td>\n",
       "      <td>5.023361</td>\n",
       "      <td>-1.578160</td>\n",
       "      <td>10.730852</td>\n",
       "      <td>-2.266973</td>\n",
       "      <td>5.056445</td>\n",
       "      <td>8.874357</td>\n",
       "      <td>14.170042</td>\n",
       "      <td>...</td>\n",
       "      <td>37.201162</td>\n",
       "      <td>37.898221</td>\n",
       "      <td>37.403532</td>\n",
       "      <td>39.270168</td>\n",
       "      <td>37.763319</td>\n",
       "      <td>32.358960</td>\n",
       "      <td>33.578679</td>\n",
       "      <td>36.387863</td>\n",
       "      <td>33.754645</td>\n",
       "      <td>38.289796</td>\n",
       "    </tr>\n",
       "    <tr>\n",
       "      <td>5160532000.0</td>\n",
       "      <td>6.005487</td>\n",
       "      <td>14.935231</td>\n",
       "      <td>7.848927</td>\n",
       "      <td>-0.372701</td>\n",
       "      <td>14.208589</td>\n",
       "      <td>10.303402</td>\n",
       "      <td>6.500441</td>\n",
       "      <td>9.149654</td>\n",
       "      <td>1.357946</td>\n",
       "      <td>16.585755</td>\n",
       "      <td>...</td>\n",
       "      <td>40.765222</td>\n",
       "      <td>36.766684</td>\n",
       "      <td>38.861594</td>\n",
       "      <td>42.297977</td>\n",
       "      <td>42.986529</td>\n",
       "      <td>40.647417</td>\n",
       "      <td>36.577034</td>\n",
       "      <td>40.704578</td>\n",
       "      <td>37.989886</td>\n",
       "      <td>38.432963</td>\n",
       "    </tr>\n",
       "    <tr>\n",
       "      <td>5160665000.0</td>\n",
       "      <td>11.112679</td>\n",
       "      <td>16.227498</td>\n",
       "      <td>9.656009</td>\n",
       "      <td>1.719409</td>\n",
       "      <td>17.693789</td>\n",
       "      <td>14.076690</td>\n",
       "      <td>9.329949</td>\n",
       "      <td>12.000304</td>\n",
       "      <td>2.632181</td>\n",
       "      <td>21.061900</td>\n",
       "      <td>...</td>\n",
       "      <td>44.195838</td>\n",
       "      <td>40.862483</td>\n",
       "      <td>42.263165</td>\n",
       "      <td>44.650282</td>\n",
       "      <td>45.358623</td>\n",
       "      <td>39.412518</td>\n",
       "      <td>41.970282</td>\n",
       "      <td>45.547653</td>\n",
       "      <td>44.204047</td>\n",
       "      <td>42.930091</td>\n",
       "    </tr>\n",
       "    <tr>\n",
       "      <td>5160798000.0</td>\n",
       "      <td>7.764572</td>\n",
       "      <td>12.060745</td>\n",
       "      <td>8.383288</td>\n",
       "      <td>-0.158471</td>\n",
       "      <td>17.783248</td>\n",
       "      <td>14.812628</td>\n",
       "      <td>8.979470</td>\n",
       "      <td>6.226616</td>\n",
       "      <td>0.530728</td>\n",
       "      <td>17.924436</td>\n",
       "      <td>...</td>\n",
       "      <td>40.519546</td>\n",
       "      <td>40.822754</td>\n",
       "      <td>39.306398</td>\n",
       "      <td>41.789605</td>\n",
       "      <td>41.275350</td>\n",
       "      <td>39.342760</td>\n",
       "      <td>43.009397</td>\n",
       "      <td>41.529156</td>\n",
       "      <td>42.246398</td>\n",
       "      <td>38.503815</td>\n",
       "    </tr>\n",
       "    <tr>\n",
       "      <td>5160931000.0</td>\n",
       "      <td>10.354005</td>\n",
       "      <td>16.125729</td>\n",
       "      <td>11.324592</td>\n",
       "      <td>-0.600181</td>\n",
       "      <td>14.259180</td>\n",
       "      <td>14.892475</td>\n",
       "      <td>9.513154</td>\n",
       "      <td>9.926775</td>\n",
       "      <td>0.743850</td>\n",
       "      <td>18.454823</td>\n",
       "      <td>...</td>\n",
       "      <td>40.869606</td>\n",
       "      <td>42.080346</td>\n",
       "      <td>41.623347</td>\n",
       "      <td>42.206673</td>\n",
       "      <td>42.310629</td>\n",
       "      <td>41.315755</td>\n",
       "      <td>38.711283</td>\n",
       "      <td>39.982318</td>\n",
       "      <td>40.540868</td>\n",
       "      <td>42.502572</td>\n",
       "    </tr>\n",
       "    <tr>\n",
       "      <td>...</td>\n",
       "      <td>...</td>\n",
       "      <td>...</td>\n",
       "      <td>...</td>\n",
       "      <td>...</td>\n",
       "      <td>...</td>\n",
       "      <td>...</td>\n",
       "      <td>...</td>\n",
       "      <td>...</td>\n",
       "      <td>...</td>\n",
       "      <td>...</td>\n",
       "      <td>...</td>\n",
       "      <td>...</td>\n",
       "      <td>...</td>\n",
       "      <td>...</td>\n",
       "      <td>...</td>\n",
       "      <td>...</td>\n",
       "      <td>...</td>\n",
       "      <td>...</td>\n",
       "      <td>...</td>\n",
       "      <td>...</td>\n",
       "      <td>...</td>\n",
       "    </tr>\n",
       "    <tr>\n",
       "      <td>5179019000.0</td>\n",
       "      <td>10.180341</td>\n",
       "      <td>12.468156</td>\n",
       "      <td>3.631783</td>\n",
       "      <td>-0.952412</td>\n",
       "      <td>13.367102</td>\n",
       "      <td>16.893251</td>\n",
       "      <td>8.862821</td>\n",
       "      <td>12.565569</td>\n",
       "      <td>2.880302</td>\n",
       "      <td>17.345304</td>\n",
       "      <td>...</td>\n",
       "      <td>40.803439</td>\n",
       "      <td>40.583451</td>\n",
       "      <td>40.988317</td>\n",
       "      <td>41.738260</td>\n",
       "      <td>42.734140</td>\n",
       "      <td>40.047145</td>\n",
       "      <td>45.012606</td>\n",
       "      <td>40.485374</td>\n",
       "      <td>41.839293</td>\n",
       "      <td>42.873818</td>\n",
       "    </tr>\n",
       "    <tr>\n",
       "      <td>5179152000.0</td>\n",
       "      <td>6.006283</td>\n",
       "      <td>14.160435</td>\n",
       "      <td>12.813917</td>\n",
       "      <td>0.980869</td>\n",
       "      <td>10.853990</td>\n",
       "      <td>15.434263</td>\n",
       "      <td>8.331217</td>\n",
       "      <td>8.797950</td>\n",
       "      <td>0.716322</td>\n",
       "      <td>13.984768</td>\n",
       "      <td>...</td>\n",
       "      <td>38.368183</td>\n",
       "      <td>38.115521</td>\n",
       "      <td>38.137407</td>\n",
       "      <td>39.088355</td>\n",
       "      <td>39.366534</td>\n",
       "      <td>42.223945</td>\n",
       "      <td>42.016903</td>\n",
       "      <td>37.557278</td>\n",
       "      <td>36.851613</td>\n",
       "      <td>41.592733</td>\n",
       "    </tr>\n",
       "    <tr>\n",
       "      <td>5179285000.0</td>\n",
       "      <td>7.642098</td>\n",
       "      <td>13.076671</td>\n",
       "      <td>17.920611</td>\n",
       "      <td>0.961448</td>\n",
       "      <td>14.107845</td>\n",
       "      <td>15.846285</td>\n",
       "      <td>11.437863</td>\n",
       "      <td>13.239949</td>\n",
       "      <td>0.230257</td>\n",
       "      <td>13.833375</td>\n",
       "      <td>...</td>\n",
       "      <td>40.230528</td>\n",
       "      <td>39.356291</td>\n",
       "      <td>40.831732</td>\n",
       "      <td>41.145439</td>\n",
       "      <td>41.427592</td>\n",
       "      <td>40.051310</td>\n",
       "      <td>43.436745</td>\n",
       "      <td>42.243883</td>\n",
       "      <td>36.211286</td>\n",
       "      <td>43.183435</td>\n",
       "    </tr>\n",
       "    <tr>\n",
       "      <td>5179418000.0</td>\n",
       "      <td>7.705844</td>\n",
       "      <td>7.591130</td>\n",
       "      <td>13.337409</td>\n",
       "      <td>-1.371234</td>\n",
       "      <td>11.783126</td>\n",
       "      <td>13.994480</td>\n",
       "      <td>9.454811</td>\n",
       "      <td>6.726787</td>\n",
       "      <td>-0.191584</td>\n",
       "      <td>13.680927</td>\n",
       "      <td>...</td>\n",
       "      <td>37.458661</td>\n",
       "      <td>39.164321</td>\n",
       "      <td>38.616038</td>\n",
       "      <td>39.851155</td>\n",
       "      <td>40.610516</td>\n",
       "      <td>36.898072</td>\n",
       "      <td>43.085810</td>\n",
       "      <td>38.311483</td>\n",
       "      <td>37.334487</td>\n",
       "      <td>42.012014</td>\n",
       "    </tr>\n",
       "    <tr>\n",
       "      <td>target</td>\n",
       "      <td>0.000000</td>\n",
       "      <td>0.000000</td>\n",
       "      <td>0.000000</td>\n",
       "      <td>0.000000</td>\n",
       "      <td>0.000000</td>\n",
       "      <td>0.000000</td>\n",
       "      <td>0.000000</td>\n",
       "      <td>0.000000</td>\n",
       "      <td>0.000000</td>\n",
       "      <td>0.000000</td>\n",
       "      <td>...</td>\n",
       "      <td>17.000000</td>\n",
       "      <td>17.000000</td>\n",
       "      <td>17.000000</td>\n",
       "      <td>17.000000</td>\n",
       "      <td>17.000000</td>\n",
       "      <td>17.000000</td>\n",
       "      <td>17.000000</td>\n",
       "      <td>17.000000</td>\n",
       "      <td>17.000000</td>\n",
       "      <td>17.000000</td>\n",
       "    </tr>\n",
       "  </tbody>\n",
       "</table>\n",
       "<p>145 rows × 1692 columns</p>\n",
       "</div>"
      ],
      "text/plain": [
       "                   0          1          2         3          4          5     \\\n",
       "5160399000.0   2.914357   3.761473  11.028217  5.023361  -1.578160  10.730852   \n",
       "5160532000.0   6.005487  14.935231   7.848927 -0.372701  14.208589  10.303402   \n",
       "5160665000.0  11.112679  16.227498   9.656009  1.719409  17.693789  14.076690   \n",
       "5160798000.0   7.764572  12.060745   8.383288 -0.158471  17.783248  14.812628   \n",
       "5160931000.0  10.354005  16.125729  11.324592 -0.600181  14.259180  14.892475   \n",
       "...                 ...        ...        ...       ...        ...        ...   \n",
       "5179019000.0  10.180341  12.468156   3.631783 -0.952412  13.367102  16.893251   \n",
       "5179152000.0   6.006283  14.160435  12.813917  0.980869  10.853990  15.434263   \n",
       "5179285000.0   7.642098  13.076671  17.920611  0.961448  14.107845  15.846285   \n",
       "5179418000.0   7.705844   7.591130  13.337409 -1.371234  11.783126  13.994480   \n",
       "target         0.000000   0.000000   0.000000  0.000000   0.000000   0.000000   \n",
       "\n",
       "                   6          7         8          9     ...       1682  \\\n",
       "5160399000.0  -2.266973   5.056445  8.874357  14.170042  ...  37.201162   \n",
       "5160532000.0   6.500441   9.149654  1.357946  16.585755  ...  40.765222   \n",
       "5160665000.0   9.329949  12.000304  2.632181  21.061900  ...  44.195838   \n",
       "5160798000.0   8.979470   6.226616  0.530728  17.924436  ...  40.519546   \n",
       "5160931000.0   9.513154   9.926775  0.743850  18.454823  ...  40.869606   \n",
       "...                 ...        ...       ...        ...  ...        ...   \n",
       "5179019000.0   8.862821  12.565569  2.880302  17.345304  ...  40.803439   \n",
       "5179152000.0   8.331217   8.797950  0.716322  13.984768  ...  38.368183   \n",
       "5179285000.0  11.437863  13.239949  0.230257  13.833375  ...  40.230528   \n",
       "5179418000.0   9.454811   6.726787 -0.191584  13.680927  ...  37.458661   \n",
       "target         0.000000   0.000000  0.000000   0.000000  ...  17.000000   \n",
       "\n",
       "                   1683       1684       1685       1686       1687  \\\n",
       "5160399000.0  37.898221  37.403532  39.270168  37.763319  32.358960   \n",
       "5160532000.0  36.766684  38.861594  42.297977  42.986529  40.647417   \n",
       "5160665000.0  40.862483  42.263165  44.650282  45.358623  39.412518   \n",
       "5160798000.0  40.822754  39.306398  41.789605  41.275350  39.342760   \n",
       "5160931000.0  42.080346  41.623347  42.206673  42.310629  41.315755   \n",
       "...                 ...        ...        ...        ...        ...   \n",
       "5179019000.0  40.583451  40.988317  41.738260  42.734140  40.047145   \n",
       "5179152000.0  38.115521  38.137407  39.088355  39.366534  42.223945   \n",
       "5179285000.0  39.356291  40.831732  41.145439  41.427592  40.051310   \n",
       "5179418000.0  39.164321  38.616038  39.851155  40.610516  36.898072   \n",
       "target        17.000000  17.000000  17.000000  17.000000  17.000000   \n",
       "\n",
       "                   1688       1689       1690       1691  \n",
       "5160399000.0  33.578679  36.387863  33.754645  38.289796  \n",
       "5160532000.0  36.577034  40.704578  37.989886  38.432963  \n",
       "5160665000.0  41.970282  45.547653  44.204047  42.930091  \n",
       "5160798000.0  43.009397  41.529156  42.246398  38.503815  \n",
       "5160931000.0  38.711283  39.982318  40.540868  42.502572  \n",
       "...                 ...        ...        ...        ...  \n",
       "5179019000.0  45.012606  40.485374  41.839293  42.873818  \n",
       "5179152000.0  42.016903  37.557278  36.851613  41.592733  \n",
       "5179285000.0  43.436745  42.243883  36.211286  43.183435  \n",
       "5179418000.0  43.085810  38.311483  37.334487  42.012014  \n",
       "target        17.000000  17.000000  17.000000  17.000000  \n",
       "\n",
       "[145 rows x 1692 columns]"
      ]
     },
     "execution_count": 5,
     "metadata": {},
     "output_type": "execute_result"
    }
   ],
   "source": [
    "df = df.T\n",
    "df"
   ]
  },
  {
   "cell_type": "code",
   "execution_count": 6,
   "metadata": {},
   "outputs": [],
   "source": [
    "sequences = list()\n",
    "for i in range(df.shape[1]):\n",
    "    values = df.iloc[:-1,i].values\n",
    "    sequences.append(values)\n",
    "targets = df.iloc[-1, :].values"
   ]
  },
  {
   "cell_type": "code",
   "execution_count": 7,
   "metadata": {},
   "outputs": [
    {
     "data": {
      "text/plain": [
       "array([[1., 0., 0., ..., 0., 0., 0.],\n",
       "       [1., 0., 0., ..., 0., 0., 0.],\n",
       "       [1., 0., 0., ..., 0., 0., 0.],\n",
       "       ...,\n",
       "       [0., 0., 0., ..., 0., 0., 1.],\n",
       "       [0., 0., 0., ..., 0., 0., 1.],\n",
       "       [0., 0., 0., ..., 0., 0., 1.]])"
      ]
     },
     "execution_count": 7,
     "metadata": {},
     "output_type": "execute_result"
    }
   ],
   "source": [
    "from sklearn.preprocessing import LabelEncoder, OneHotEncoder\n",
    "from keras.utils import np_utils\n",
    "\n",
    "# encode class values as integers\n",
    "encoder = LabelEncoder()\n",
    "encoder.fit(targets)\n",
    "encoded_y = encoder.transform(targets)\n",
    "# convert integers to dummy variables (i.e. one hot encoded)\n",
    "dummy_y = np_utils.to_categorical(encoded_y)\n",
    "dummy_y"
   ]
  },
  {
   "cell_type": "code",
   "execution_count": 8,
   "metadata": {},
   "outputs": [],
   "source": [
    "targets = dummy_y"
   ]
  },
  {
   "cell_type": "code",
   "execution_count": 9,
   "metadata": {},
   "outputs": [],
   "source": [
    "X_test, y_test = sequences, targets"
   ]
  },
  {
   "cell_type": "code",
   "execution_count": 10,
   "metadata": {},
   "outputs": [
    {
     "name": "stderr",
     "output_type": "stream",
     "text": [
      "/home/wuh007/anaconda3/envs/keras/lib/python3.6/site-packages/sklearn/externals/joblib/__init__.py:15: DeprecationWarning: sklearn.externals.joblib is deprecated in 0.21 and will be removed in 0.23. Please import this functionality directly from joblib, which can be installed with: pip install joblib. If this warning is raised when loading pickled models, you may need to re-serialize those models with scikit-learn 0.21+.\n",
      "  warnings.warn(msg, category=DeprecationWarning)\n"
     ]
    }
   ],
   "source": [
    "# Feature Scaling\n",
    "from sklearn.preprocessing import StandardScaler, MinMaxScaler\n",
    "from sklearn.externals.joblib import dump, load\n",
    "# sc = StandardScaler()\n",
    "sc = load('std_scaler.bin')\n",
    "X_test = sc.transform(X_test)"
   ]
  },
  {
   "cell_type": "code",
   "execution_count": 11,
   "metadata": {},
   "outputs": [
    {
     "data": {
      "text/plain": [
       "(1692, 144)"
      ]
     },
     "execution_count": 11,
     "metadata": {},
     "output_type": "execute_result"
    }
   ],
   "source": [
    "X_test.shape"
   ]
  },
  {
   "cell_type": "code",
   "execution_count": 12,
   "metadata": {},
   "outputs": [],
   "source": [
    "X_test = np.reshape(X_test, (X_test.shape[0], X_test.shape[1], 1))"
   ]
  },
  {
   "cell_type": "code",
   "execution_count": 13,
   "metadata": {},
   "outputs": [
    {
     "data": {
      "text/plain": [
       "(1692, 144, 1)"
      ]
     },
     "execution_count": 13,
     "metadata": {},
     "output_type": "execute_result"
    }
   ],
   "source": [
    "X_test.shape"
   ]
  },
  {
   "cell_type": "code",
   "execution_count": 14,
   "metadata": {},
   "outputs": [],
   "source": [
    "class Model:\n",
    "    def __init__(self, path_model, path_weight):\n",
    "        self.model = self.loadmodel(path_model, path_weight)\n",
    "        self.graph = tf.get_default_graph()    \n",
    "    \n",
    "    @staticmethod\n",
    "    def loadmodel(path_model, path_weight):\n",
    "        json_file = open(path_model, 'r')\n",
    "        loaded_model_json = json_file.read()\n",
    "        json_file.close()\n",
    "        model = model_from_json(loaded_model_json)\n",
    "        model.load_weights(path_weight)\n",
    "        return model\n",
    "\n",
    "    def predict(self, X):\n",
    "        with self.graph.as_default():\n",
    "            return self.model.predict(X)"
   ]
  },
  {
   "cell_type": "code",
   "execution_count": 15,
   "metadata": {},
   "outputs": [],
   "source": [
    "# work_dir_model = '/home/hongyu/Documents/Spring2020/ECE_research/3_section/models_mixed/'\n",
    "# work_dir_weight = '/home/hongyu/Documents/Spring2020/ECE_research/3_section/weights_mixed/'\n",
    "\n",
    "work_dir_model = '/home/wuh007/Desktop/signal/signal_analysis/data_18points/3_section/models_mixed/'\n",
    "work_dir_weight = '/home/wuh007/Desktop/signal/signal_analysis/data_18points/3_section/weights_mixed/'"
   ]
  },
  {
   "cell_type": "code",
   "execution_count": 16,
   "metadata": {},
   "outputs": [],
   "source": [
    "# np.argwhere(y_pred.argmax(axis=1) == 0)"
   ]
  },
  {
   "cell_type": "code",
   "execution_count": 17,
   "metadata": {},
   "outputs": [],
   "source": [
    "# y_pred[y_pred.argmax(axis=1) == 0]"
   ]
  },
  {
   "cell_type": "code",
   "execution_count": 18,
   "metadata": {},
   "outputs": [
    {
     "name": "stdout",
     "output_type": "stream",
     "text": [
      "WARNING:tensorflow:From /home/wuh007/anaconda3/envs/keras/lib/python3.6/site-packages/tensorflow/python/framework/op_def_library.py:263: colocate_with (from tensorflow.python.framework.ops) is deprecated and will be removed in a future version.\n",
      "Instructions for updating:\n",
      "Colocations handled automatically by placer.\n",
      "WARNING:tensorflow:From /home/wuh007/anaconda3/envs/keras/lib/python3.6/site-packages/keras/backend/tensorflow_backend.py:3138: calling dropout (from tensorflow.python.ops.nn_ops) with keep_prob is deprecated and will be removed in a future version.\n",
      "Instructions for updating:\n",
      "Please use `rate` instead of `keep_prob`. Rate should be set to `rate = 1 - keep_prob`.\n"
     ]
    }
   ],
   "source": [
    "model_3sec = Model(work_dir_model + 'LSTM3sec_model.json', work_dir_weight + 'LSTM3sec_weight.h5')\n",
    "model_TopToTwo = Model(work_dir_model + 'LSTM_TopToTwo_model.json', work_dir_weight + 'LSTM_TopToTwo_weight.h5')\n",
    "model_MiddleToTwo = Model(work_dir_model + 'LSTM_MiddleToTwo_model.json', work_dir_weight + 'LSTM_MiddleToTwo_weight.h5')\n",
    "model_ButtomToTwo = Model(work_dir_model + 'LSTM_ButtomToTwo_model.json', work_dir_weight + 'LSTM_ButtomToTwo_weight.h5')\n",
    "\n",
    "model_TopTopToThree = Model(work_dir_model + 'LSTM_TopTopToThree_model.json', work_dir_weight + 'LSTM_TopTopToThree_weight.h5')\n",
    "model_TopButtomToThree = Model(work_dir_model + 'LSTM_TopButtomToThree_model.json', work_dir_weight + 'LSTM_TopButtomToThree_weight.h5')\n",
    "\n",
    "model_MiddleTopToThree = Model(work_dir_model + 'LSTM_MiddleTopToThree_model.json', work_dir_weight + 'LSTM_MiddleTopToThree_weight.h5')\n",
    "model_MiddleButtomToThree = Model(work_dir_model + 'LSTM_MiddleButtomToThree_model.json', work_dir_weight + 'LSTM_MiddleButtomToThree_weight.h5')\n",
    "\n",
    "model_ButtomTopToThree = Model(work_dir_model + 'LSTM_ButtomTopToThree_model.json', work_dir_weight + 'LSTM_ButtomTopToThree_weight.h5')\n",
    "model_ButtomButtomToThree = Model(work_dir_model + 'LSTM_ButtomButtomToThree_model.json', work_dir_weight + 'LSTM_ButtomButtomToThree_weight.h5')"
   ]
  },
  {
   "cell_type": "code",
   "execution_count": 19,
   "metadata": {},
   "outputs": [
    {
     "data": {
      "text/plain": [
       "array([[-0.99063015],\n",
       "       [-0.89059682],\n",
       "       [-0.70649538],\n",
       "       [-0.87725951],\n",
       "       [-0.76233795],\n",
       "       [-0.89350874],\n",
       "       [-0.76272074],\n",
       "       [-0.78733247],\n",
       "       [-0.83600327],\n",
       "       [-0.7779857 ],\n",
       "       [-0.74402156],\n",
       "       [-1.02369236],\n",
       "       [-1.14812201],\n",
       "       [-1.16277141],\n",
       "       [-1.15074772],\n",
       "       [-0.92205267],\n",
       "       [-0.91593185],\n",
       "       [-0.8610631 ],\n",
       "       [-0.95833558],\n",
       "       [-1.11209724],\n",
       "       [-0.83975244],\n",
       "       [-1.01136548],\n",
       "       [-1.03390043],\n",
       "       [-0.93042182],\n",
       "       [-0.95902365],\n",
       "       [-1.02660282],\n",
       "       [-0.84842312],\n",
       "       [-0.97348321],\n",
       "       [-0.90468305],\n",
       "       [-1.00794762],\n",
       "       [-1.0666574 ],\n",
       "       [-1.04514777],\n",
       "       [-0.84641719],\n",
       "       [-0.86705859],\n",
       "       [-1.06837128],\n",
       "       [-1.15196067],\n",
       "       [-1.05990771],\n",
       "       [-0.91861774],\n",
       "       [-0.92560881],\n",
       "       [-0.99787076],\n",
       "       [-0.91557598],\n",
       "       [-1.0369491 ],\n",
       "       [-1.05320889],\n",
       "       [-0.82866508],\n",
       "       [-0.78794566],\n",
       "       [-0.73720308],\n",
       "       [-0.84586748],\n",
       "       [-0.89759839],\n",
       "       [-0.871662  ],\n",
       "       [-0.82624636],\n",
       "       [-0.86273952],\n",
       "       [-0.93951928],\n",
       "       [-0.82950508],\n",
       "       [-0.97121227],\n",
       "       [-1.02544186],\n",
       "       [-0.97607633],\n",
       "       [-0.87167003],\n",
       "       [-0.88829791],\n",
       "       [-0.86523443],\n",
       "       [-0.82819523],\n",
       "       [-0.91499383],\n",
       "       [-0.85784538],\n",
       "       [-0.84327838],\n",
       "       [-0.79636076],\n",
       "       [-0.68193829],\n",
       "       [-0.92100703],\n",
       "       [-0.60145629],\n",
       "       [-0.64287506],\n",
       "       [-0.70809622],\n",
       "       [-0.41648739],\n",
       "       [-0.28133845],\n",
       "       [-0.5562991 ],\n",
       "       [-0.00455405],\n",
       "       [-0.16748401],\n",
       "       [-0.59282585],\n",
       "       [-0.48787968],\n",
       "       [-0.61811484],\n",
       "       [-0.52622341],\n",
       "       [-0.60517012],\n",
       "       [-0.67591722],\n",
       "       [-0.56342736],\n",
       "       [-0.7155333 ],\n",
       "       [-0.75343041],\n",
       "       [-0.75788138],\n",
       "       [-0.71260032],\n",
       "       [-1.06267032],\n",
       "       [-1.00304225],\n",
       "       [-0.96562135],\n",
       "       [-0.90970738],\n",
       "       [-0.75878776],\n",
       "       [-0.93722872],\n",
       "       [-0.73581899],\n",
       "       [-0.85690232],\n",
       "       [-1.13516694],\n",
       "       [-1.03040863],\n",
       "       [-0.9872073 ],\n",
       "       [-1.05456061],\n",
       "       [-0.98822619],\n",
       "       [-0.90896186],\n",
       "       [-0.82979107],\n",
       "       [-0.7395816 ],\n",
       "       [-0.84987798],\n",
       "       [-0.95527618],\n",
       "       [-0.98306089],\n",
       "       [-0.94926357],\n",
       "       [-1.03621871],\n",
       "       [-1.03568684],\n",
       "       [-0.74204941],\n",
       "       [-0.69603049],\n",
       "       [-0.90520262],\n",
       "       [-0.85149988],\n",
       "       [-0.86098928],\n",
       "       [-0.9955803 ],\n",
       "       [-0.90113108],\n",
       "       [-0.68844719],\n",
       "       [-0.56365101],\n",
       "       [-0.91908432],\n",
       "       [-0.92805171],\n",
       "       [-0.79969021],\n",
       "       [-0.7154163 ],\n",
       "       [-0.74873116],\n",
       "       [-0.8402631 ],\n",
       "       [-1.14771631],\n",
       "       [-0.83777495],\n",
       "       [-0.67228469],\n",
       "       [-0.85364983],\n",
       "       [-0.61169127],\n",
       "       [-0.72752368],\n",
       "       [-0.74337283],\n",
       "       [-0.84457163],\n",
       "       [-0.96441292],\n",
       "       [-0.87236073],\n",
       "       [-1.12693902],\n",
       "       [-1.10269674],\n",
       "       [-0.86577999],\n",
       "       [-0.75577843],\n",
       "       [-1.15765311],\n",
       "       [-0.96830531],\n",
       "       [-0.81485461],\n",
       "       [-0.91189323],\n",
       "       [-0.8085911 ],\n",
       "       [-0.98224016],\n",
       "       [-0.89406705],\n",
       "       [-0.83181187]])"
      ]
     },
     "execution_count": 19,
     "metadata": {},
     "output_type": "execute_result"
    }
   ],
   "source": [
    "X_test[0]"
   ]
  },
  {
   "cell_type": "code",
   "execution_count": 70,
   "metadata": {},
   "outputs": [
    {
     "data": {
      "text/plain": [
       "array([[5.0843680e-01, 4.8435178e-01, 7.2113457e-03],\n",
       "       [8.1167686e-01, 1.1194020e-01, 7.6382972e-02],\n",
       "       [1.0188451e-02, 7.9662569e-02, 9.1014892e-01],\n",
       "       ...,\n",
       "       [2.9628596e-15, 1.4826810e-08, 1.0000000e+00],\n",
       "       [2.9897646e-17, 4.3845588e-10, 1.0000000e+00],\n",
       "       [7.2739205e-14, 4.7277226e-08, 1.0000000e+00]], dtype=float32)"
      ]
     },
     "execution_count": 70,
     "metadata": {},
     "output_type": "execute_result"
    }
   ],
   "source": [
    "y_pred_3sec"
   ]
  },
  {
   "cell_type": "code",
   "execution_count": 75,
   "metadata": {},
   "outputs": [
    {
     "data": {
      "text/plain": [
       "array([False,  True,  True, ..., False, False, False])"
      ]
     },
     "execution_count": 75,
     "metadata": {},
     "output_type": "execute_result"
    }
   ],
   "source": [
    "y_pred_3sec[y_pred_3sec.max(axis=1) > 0.90].argmax(axis=1) == 0"
   ]
  },
  {
   "cell_type": "code",
   "execution_count": 69,
   "metadata": {},
   "outputs": [
    {
     "ename": "IndexError",
     "evalue": "boolean index did not match indexed array along dimension 0; dimension is 1692 but corresponding boolean dimension is 1015",
     "output_type": "error",
     "traceback": [
      "\u001b[0;31m---------------------------------------------------------------------------\u001b[0m",
      "\u001b[0;31mIndexError\u001b[0m                                Traceback (most recent call last)",
      "\u001b[0;32m<ipython-input-69-1e8e5448c24c>\u001b[0m in \u001b[0;36m<module>\u001b[0;34m\u001b[0m\n\u001b[1;32m      1\u001b[0m \u001b[0my_pred_3sec\u001b[0m \u001b[0;34m=\u001b[0m \u001b[0mmodel_3sec\u001b[0m\u001b[0;34m.\u001b[0m\u001b[0mpredict\u001b[0m\u001b[0;34m(\u001b[0m\u001b[0mX_test\u001b[0m\u001b[0;34m)\u001b[0m\u001b[0;34m\u001b[0m\u001b[0;34m\u001b[0m\u001b[0m\n\u001b[0;32m----> 2\u001b[0;31m \u001b[0my_pred_TopToTwo\u001b[0m \u001b[0;34m=\u001b[0m \u001b[0mmodel_TopToTwo\u001b[0m\u001b[0;34m.\u001b[0m\u001b[0mpredict\u001b[0m\u001b[0;34m(\u001b[0m\u001b[0mX_test\u001b[0m\u001b[0;34m[\u001b[0m\u001b[0my_pred_3sec\u001b[0m\u001b[0;34m[\u001b[0m\u001b[0my_pred_3sec\u001b[0m\u001b[0;34m.\u001b[0m\u001b[0mmax\u001b[0m\u001b[0;34m(\u001b[0m\u001b[0maxis\u001b[0m\u001b[0;34m=\u001b[0m\u001b[0;36m1\u001b[0m\u001b[0;34m)\u001b[0m \u001b[0;34m>\u001b[0m \u001b[0;36m0.90\u001b[0m\u001b[0;34m]\u001b[0m\u001b[0;34m.\u001b[0m\u001b[0margmax\u001b[0m\u001b[0;34m(\u001b[0m\u001b[0maxis\u001b[0m\u001b[0;34m=\u001b[0m\u001b[0;36m1\u001b[0m\u001b[0;34m)\u001b[0m \u001b[0;34m==\u001b[0m \u001b[0;36m0\u001b[0m\u001b[0;34m]\u001b[0m\u001b[0;34m)\u001b[0m\u001b[0;34m\u001b[0m\u001b[0;34m\u001b[0m\u001b[0m\n\u001b[0m\u001b[1;32m      3\u001b[0m \u001b[0my_pred_MiddleToTwo\u001b[0m \u001b[0;34m=\u001b[0m \u001b[0mmodel_MiddleToTwo\u001b[0m\u001b[0;34m.\u001b[0m\u001b[0mpredict\u001b[0m\u001b[0;34m(\u001b[0m\u001b[0mX_test\u001b[0m\u001b[0;34m[\u001b[0m\u001b[0my_pred_3sec\u001b[0m\u001b[0;34m.\u001b[0m\u001b[0margmax\u001b[0m\u001b[0;34m(\u001b[0m\u001b[0maxis\u001b[0m\u001b[0;34m=\u001b[0m\u001b[0;36m1\u001b[0m\u001b[0;34m)\u001b[0m \u001b[0;34m==\u001b[0m \u001b[0;36m1\u001b[0m\u001b[0;34m]\u001b[0m\u001b[0;34m)\u001b[0m\u001b[0;34m\u001b[0m\u001b[0;34m\u001b[0m\u001b[0m\n\u001b[1;32m      4\u001b[0m \u001b[0my_pred_ButtomToTwo\u001b[0m \u001b[0;34m=\u001b[0m \u001b[0mmodel_ButtomToTwo\u001b[0m\u001b[0;34m.\u001b[0m\u001b[0mpredict\u001b[0m\u001b[0;34m(\u001b[0m\u001b[0mX_test\u001b[0m\u001b[0;34m[\u001b[0m\u001b[0my_pred_3sec\u001b[0m\u001b[0;34m.\u001b[0m\u001b[0margmax\u001b[0m\u001b[0;34m(\u001b[0m\u001b[0maxis\u001b[0m\u001b[0;34m=\u001b[0m\u001b[0;36m1\u001b[0m\u001b[0;34m)\u001b[0m \u001b[0;34m==\u001b[0m \u001b[0;36m2\u001b[0m\u001b[0;34m]\u001b[0m\u001b[0;34m)\u001b[0m\u001b[0;34m\u001b[0m\u001b[0;34m\u001b[0m\u001b[0m\n",
      "\u001b[0;31mIndexError\u001b[0m: boolean index did not match indexed array along dimension 0; dimension is 1692 but corresponding boolean dimension is 1015"
     ]
    }
   ],
   "source": [
    "y_pred_3sec = model_3sec.predict(X_test)\n",
    "y_pred_TopToTwo = model_TopToTwo.predict(X_test[y_pred_3sec[y_pred_3sec.max(axis=1) > 0.90].argmax(axis=1) == 0])\n",
    "y_pred_MiddleToTwo = model_MiddleToTwo.predict(X_test[y_pred_3sec.argmax(axis=1) == 1])\n",
    "y_pred_ButtomToTwo = model_ButtomToTwo.predict(X_test[y_pred_3sec.argmax(axis=1) == 2])"
   ]
  },
  {
   "cell_type": "code",
   "execution_count": 56,
   "metadata": {},
   "outputs": [],
   "source": [
    "y_pred_TopTopToThree = model_TopTopToThree.predict(X_test[y_pred_3sec.argmax(axis=1) == 0][y_pred_TopToTwo.argmax(axis=1) == 0])\n",
    "y_pred_TopButtomToThree = model_TopButtomToThree.predict(X_test[y_pred_3sec.argmax(axis=1) == 0][y_pred_TopToTwo.argmax(axis=1) == 1])\n",
    "\n",
    "y_pred_MiddleTopToThree = model_MiddleTopToThree.predict(X_test[y_pred_3sec.argmax(axis=1) == 1][y_pred_MiddleToTwo.argmax(axis=1) == 0])\n",
    "y_pred_MiddleButtomToThree = model_MiddleButtomToThree.predict(X_test[y_pred_3sec.argmax(axis=1) == 1][y_pred_MiddleToTwo.argmax(axis=1) == 1])\n",
    "\n",
    "y_pred_ButtomTopToThree = model_ButtomTopToThree.predict(X_test[y_pred_3sec.argmax(axis=1) == 2][y_pred_ButtomToTwo.argmax(axis=1) == 0])\n",
    "y_pred_ButtomButtomToThree = model_ButtomButtomToThree.predict(X_test[y_pred_3sec.argmax(axis=1) == 2][y_pred_ButtomToTwo.argmax(axis=1) == 1])"
   ]
  },
  {
   "cell_type": "code",
   "execution_count": null,
   "metadata": {},
   "outputs": [],
   "source": [
    "y_pred_TopTopToThree = model_TopTopToThree.predict(X_test[y_pred_3sec.argmax(axis=1) == 0][y_pred_TopToTwo.argmax(axis=1) == 0])\n",
    "y_pred_TopButtomToThree = model_TopButtomToThree.predict(X_test[y_pred_3sec.argmax(axis=1) == 0][y_pred_TopToTwo.argmax(axis=1) == 1])\n",
    "\n",
    "y_pred_MiddleTopToThree = model_MiddleTopToThree.predict(X_test[y_pred_3sec.argmax(axis=1) == 1][y_pred_MiddleToTwo.argmax(axis=1) == 0])\n",
    "y_pred_MiddleButtomToThree = model_MiddleButtomToThree.predict(X_test[y_pred_3sec.argmax(axis=1) == 1][y_pred_MiddleToTwo.argmax(axis=1) == 1])\n",
    "\n",
    "y_pred_ButtomTopToThree = model_ButtomTopToThree.predict(X_test[y_pred_3sec.argmax(axis=1) == 2][y_pred_ButtomToTwo.argmax(axis=1) == 0])\n",
    "y_pred_ButtomButtomToThree = model_ButtomButtomToThree.predict(X_test[y_pred_3sec.argmax(axis=1) == 2][y_pred_ButtomToTwo.argmax(axis=1) == 1])"
   ]
  },
  {
   "cell_type": "code",
   "execution_count": 57,
   "metadata": {},
   "outputs": [],
   "source": [
    "y_pred_3sec = model_3sec.predict(X_test)\n",
    "y_pred_TopToTwo = model_TopToTwo.predict(X_test[y_pred_3sec.argmax(axis=1) == 0])\n",
    "y_pred_MiddleToTwo = model_MiddleToTwo.predict(X_test[y_pred_3sec.argmax(axis=1) == 1])\n",
    "y_pred_ButtomToTwo = model_ButtomToTwo.predict(X_test[y_pred_3sec.argmax(axis=1) == 2])\n",
    "\n",
    "y_pred_TopTopToThree = model_TopTopToThree.predict(X_test[y_pred_3sec.argmax(axis=1) == 0][y_pred_TopToTwo.argmax(axis=1) == 0])\n",
    "y_pred_TopButtomToThree = model_TopButtomToThree.predict(X_test[y_pred_3sec.argmax(axis=1) == 0][y_pred_TopToTwo.argmax(axis=1) == 1])\n",
    "y_pred_MiddleTopToThree = model_MiddleTopToThree.predict(X_test[y_pred_3sec.argmax(axis=1) == 1][y_pred_MiddleToTwo.argmax(axis=1) == 0])\n",
    "y_pred_MiddleButtomToThree = model_MiddleButtomToThree.predict(X_test[y_pred_3sec.argmax(axis=1) == 1][y_pred_MiddleToTwo.argmax(axis=1) == 1])\n",
    "y_pred_ButtomTopToThree = model_ButtomTopToThree.predict(X_test[y_pred_3sec.argmax(axis=1) == 2][y_pred_ButtomToTwo.argmax(axis=1) == 0])\n",
    "y_pred_ButtomButtomToThree = model_ButtomButtomToThree.predict(X_test[y_pred_3sec.argmax(axis=1) == 2][y_pred_ButtomToTwo.argmax(axis=1) == 1])"
   ]
  },
  {
   "cell_type": "code",
   "execution_count": 58,
   "metadata": {},
   "outputs": [
    {
     "data": {
      "text/plain": [
       "(array([0, 0, 2, ..., 2, 2, 2]), 1692)"
      ]
     },
     "execution_count": 58,
     "metadata": {},
     "output_type": "execute_result"
    }
   ],
   "source": [
    "y_pred_3s = y_pred_3sec.argmax(axis=1)\n",
    "y_pred_3s, len(y_pred_3s)"
   ]
  },
  {
   "cell_type": "code",
   "execution_count": 59,
   "metadata": {},
   "outputs": [
    {
     "data": {
      "text/plain": [
       "(array([0, 0, 0, ..., 2, 2, 2]), 1692)"
      ]
     },
     "execution_count": 59,
     "metadata": {},
     "output_type": "execute_result"
    }
   ],
   "source": [
    "y_test_3s = y_test.argmax(axis=1)\n",
    "y_test_3s[y_test_3s <= 5] = 0\n",
    "y_test_3s[(y_test_3s <= 11) & (y_test_3s > 5)] = 1\n",
    "y_test_3s[y_test_3s > 11] = 2\n",
    "y_test_3s, len(y_test_3s)"
   ]
  },
  {
   "cell_type": "code",
   "execution_count": 60,
   "metadata": {},
   "outputs": [
    {
     "data": {
      "text/plain": [
       "(array([0.5084368 , 0.81167686, 0.9101489 , ..., 1.        , 1.        ,\n",
       "        1.        ], dtype=float32), 1692)"
      ]
     },
     "execution_count": 60,
     "metadata": {},
     "output_type": "execute_result"
    }
   ],
   "source": [
    "y_pred_3sec.max(axis=1), len(y_pred_3sec)"
   ]
  },
  {
   "cell_type": "code",
   "execution_count": 61,
   "metadata": {},
   "outputs": [],
   "source": [
    "import copy\n",
    "y_pred_3sec_secondmax = copy.deepcopy(y_pred_3sec)\n",
    "y_pred_3sec_secondmax = y_pred_3sec_secondmax.tolist()"
   ]
  },
  {
   "cell_type": "code",
   "execution_count": 62,
   "metadata": {},
   "outputs": [],
   "source": [
    "for i in range(len(y_pred_3sec_secondmax)):\n",
    "    y_pred_3sec_secondmax[i].remove(max(y_pred_3sec_secondmax[i])) \n",
    "y_pred_3sec_secondmax = np.asarray(y_pred_3sec_secondmax)"
   ]
  },
  {
   "cell_type": "code",
   "execution_count": 63,
   "metadata": {},
   "outputs": [
    {
     "data": {
      "text/plain": [
       "(array([4.84351784e-01, 1.11940198e-01, 7.96625689e-02, ...,\n",
       "        1.48268100e-08, 4.38455883e-10, 4.72772257e-08]), 1692)"
      ]
     },
     "execution_count": 63,
     "metadata": {},
     "output_type": "execute_result"
    }
   ],
   "source": [
    "y_pred_3sec_secondmax.max(axis=1), len(y_pred_3sec_secondmax)"
   ]
  },
  {
   "cell_type": "code",
   "execution_count": 64,
   "metadata": {},
   "outputs": [
    {
     "data": {
      "text/plain": [
       "(array([7.2113457e-03, 7.6382972e-02, 1.0188451e-02, ..., 2.9628596e-15,\n",
       "        2.9897646e-17, 7.2739205e-14], dtype=float32), 1692)"
      ]
     },
     "execution_count": 64,
     "metadata": {},
     "output_type": "execute_result"
    }
   ],
   "source": [
    "y_pred_3sec.min(axis=1), len(y_pred_3sec)"
   ]
  },
  {
   "cell_type": "code",
   "execution_count": 65,
   "metadata": {},
   "outputs": [
    {
     "data": {
      "image/png": "[encoded data removed]",
      "text/plain": [
       "<Figure size 432x288 with 1 Axes>"
      ]
     },
     "metadata": {
      "needs_background": "light"
     },
     "output_type": "display_data"
    }
   ],
   "source": [
    "plt.hist(y_pred_3sec.max(axis=1),\n",
    "         bins=40,\n",
    "         density=True,\n",
    "         cumulative=True)\n",
    "        \n",
    "plt.title('Cumulative Distribution')\n",
    "plt.xlabel('Value')\n",
    "plt.ylabel('Frequency')\n",
    "plt.show()"
   ]
  },
  {
   "cell_type": "code",
   "execution_count": 66,
   "metadata": {},
   "outputs": [
    {
     "data": {
      "image/png": "[encoded data removed]",
      "text/plain": [
       "<Figure size 800x480 with 1 Axes>"
      ]
     },
     "metadata": {
      "needs_background": "light"
     },
     "output_type": "display_data"
    }
   ],
   "source": [
    "kwargs = dict(hist_kws={'alpha':.4}, kde_kws={'linewidth':0})\n",
    "\n",
    "plt.figure(figsize=(10,6), dpi= 80)\n",
    "sns.distplot(y_pred_3sec.max(axis=1), bins=20, color=\"dodgerblue\", label=\"softmax_3sec(1st)\", **kwargs)\n",
    "sns.distplot(y_pred_3sec_secondmax.max(axis=1), bins=20, color=\"orange\", label=\"softmax_3sec(2nd)\", **kwargs)\n",
    "sns.distplot(y_pred_3sec.min(axis=1), bins=20, color=\"deeppink\", label=\"softmax_3sec(3rd)\", **kwargs)\n",
    "plt.xlim(0,1)\n",
    "plt.xticks(np.arange(0, 1.0, step=0.05))\n",
    "plt.legend();"
   ]
  },
  {
   "cell_type": "code",
   "execution_count": 67,
   "metadata": {},
   "outputs": [
    {
     "data": {
      "text/plain": [
       "(array([[248,  20,   1],\n",
       "        [ 16, 255,   6],\n",
       "        [  2,  10, 457]]), 1692, 1015)"
      ]
     },
     "execution_count": 67,
     "metadata": {},
     "output_type": "execute_result"
    }
   ],
   "source": [
    "# Creating the Confusion Matrix\n",
    "from sklearn.metrics import confusion_matrix\n",
    "# matrix = confusion_matrix(y_pred_3s, y_test_3s)\n",
    "matrix = confusion_matrix(y_pred_3s[y_pred_3sec.max(axis=1) > 0.90], y_test_3s[y_pred_3sec.max(axis=1) > 0.90])\n",
    "matrix, len(y_test_3s), len(y_test_3s[y_pred_3sec.max(axis=1) > 0.90])"
   ]
  },
  {
   "cell_type": "code",
   "execution_count": 165,
   "metadata": {},
   "outputs": [
    {
     "name": "stdout",
     "output_type": "stream",
     "text": [
      "              precision    recall  f1-score   support\n",
      "\n",
      "           0       0.81      0.77      0.79       595\n",
      "           1       0.74      0.77      0.76       548\n",
      "           2       0.88      0.91      0.90       549\n",
      "\n",
      "    accuracy                           0.81      1692\n",
      "   macro avg       0.81      0.82      0.81      1692\n",
      "weighted avg       0.81      0.81      0.81      1692\n",
      "\n"
     ]
    }
   ],
   "source": [
    "from sklearn.metrics import classification_report\n",
    "\n",
    "report = classification_report(y_pred_3s, y_test_3s)\n",
    "print(report)"
   ]
  },
  {
   "cell_type": "code",
   "execution_count": 136,
   "metadata": {},
   "outputs": [],
   "source": [
    "from sklearn.metrics import roc_curve\n",
    "from sklearn.metrics import auc\n",
    "from sklearn.metrics import precision_recall_curve\n",
    "from sklearn.metrics import precision_score\n",
    "from sklearn.metrics import recall_score\n",
    "from sklearn.metrics import f1_score\n",
    "from sklearn.metrics import average_precision_score"
   ]
  },
  {
   "cell_type": "code",
   "execution_count": 142,
   "metadata": {},
   "outputs": [
    {
     "name": "stdout",
     "output_type": "stream",
     "text": [
      "precision: 0.8150321918617607\n",
      "recall: 0.8138297872340425\n",
      "f1: 0.8141359439420084\n"
     ]
    }
   ],
   "source": [
    "p = precision_score(y_test_3s, y_pred_3s, average='macro')\n",
    "r = recall_score(y_test_3s, y_pred_3s, average='macro')\n",
    "f = f1_score(y_test_3s, y_pred_3s, average='macro')\n",
    "print('precision: {}'.format(p))\n",
    "print('recall: {}'.format(r))\n",
    "print('f1: {}'.format(f))"
   ]
  },
  {
   "cell_type": "code",
   "execution_count": 286,
   "metadata": {},
   "outputs": [
    {
     "name": "stdout",
     "output_type": "stream",
     "text": [
      "[0.81205674 0.74468085 0.88475177] [0.1214539  0.11347518 0.04432624]\n",
      "[0.81205674 0.74468085 0.88475177] [0.1214539  0.11347518 0.04432624]\n",
      "[0.81205674 0.74468085 0.88475177] [0.1214539  0.11347518 0.04432624]\n",
      "[0.81205674 0.74468085 0.88475177] [0.1214539  0.11347518 0.04432624]\n",
      "[0.81349911 0.74285714 0.886121  ] [0.12121212 0.11288889 0.0445236 ]\n",
      "[0.82032668 0.74678899 0.89473684] [0.11861314 0.10889292 0.04105839]\n",
      "[0.87318087 0.78732106 0.91871456] [0.09724951 0.07623762 0.03298969]\n",
      "[0.89176471 0.80269058 0.94117647] [0.08158996 0.0631016  0.03099885]\n",
      "[0.91737892 0.83333333 0.95757576] [0.05882353 0.04846336 0.02766252]\n",
      "[0.93233083 0.89473684 0.98491379] [0.02803738 0.03013699 0.02177858]\n",
      "[] []\n"
     ]
    }
   ],
   "source": [
    "p_score = dict()\n",
    "r_score = dict()\n",
    "f_score = dict()\n",
    "drop_rate = dict()\n",
    "theta1 = dict()\n",
    "theta2 = dict()\n",
    "theta3 = dict()\n",
    "tpr = dict()\n",
    "fpr = dict()\n",
    "\n",
    "def frange(start, stop=None, step=None):\n",
    "\n",
    "    if stop == None:\n",
    "        stop = start + 0.0\n",
    "        start = 0.0\n",
    "\n",
    "    if step == None:\n",
    "        step = 1.0\n",
    "\n",
    "    while True:\n",
    "        if step > 0 and start >= stop:\n",
    "            break\n",
    "        elif step < 0 and start <= stop:\n",
    "            break\n",
    "        yield (\"%g\" % start) # return float number\n",
    "        start = start + step\n",
    "\n",
    "for threshold in frange(0, 1.0, 0.1):\n",
    "    p = precision_score(y_test_3s[y_pred_3sec.max(axis=1) > float(threshold)], y_pred_3s[y_pred_3sec.max(axis=1) > float(threshold)], average='macro')\n",
    "    r = recall_score(y_test_3s[y_pred_3sec.max(axis=1) > float(threshold)], y_pred_3s[y_pred_3sec.max(axis=1) > float(threshold)], average='macro')\n",
    "    f = f1_score(y_test_3s[y_pred_3sec.max(axis=1) > float(threshold)], y_pred_3s[y_pred_3sec.max(axis=1) > float(threshold)], average='macro')\n",
    "    d = (len(y_test_3s) - len(y_test_3s[y_pred_3sec.max(axis=1) > float(threshold)])) / len(y_test_3s)\n",
    "    p_score.update({threshold : p})\n",
    "    r_score.update({threshold : r})\n",
    "    f_score.update({threshold : f})\n",
    "    drop_rate.update({threshold : d})\n",
    "    \n",
    "    cnf_matrix = confusion_matrix(y_test_3s[y_pred_3sec.max(axis=1) > float(threshold)], y_pred_3s[y_pred_3sec.max(axis=1) > float(threshold)])\n",
    "    FP = cnf_matrix.sum(axis=0) - np.diag(cnf_matrix)  \n",
    "    FN = cnf_matrix.sum(axis=1) - np.diag(cnf_matrix)\n",
    "    TP = np.diag(cnf_matrix)\n",
    "    TN = cnf_matrix.sum() - (FP + FN + TP)\n",
    "\n",
    "    FP = FP.astype(float)\n",
    "    FN = FN.astype(float)\n",
    "    TP = TP.astype(float)\n",
    "    TN = TN.astype(float)\n",
    "\n",
    "    # Sensitivity, hit rate, recall, or true positive rate\n",
    "    TPR = TP/(TP+FN)\n",
    "    # Specificity or true negative rate\n",
    "    TNR = TN/(TN+FP) \n",
    "    # Precision or positive predictive value\n",
    "    PPV = TP/(TP+FP)\n",
    "    # Negative predictive value\n",
    "    NPV = TN/(TN+FN)\n",
    "    # Fall out or false positive rate\n",
    "    FPR = FP/(FP+TN)\n",
    "    # False negative rate\n",
    "    FNR = FN/(TP+FN)\n",
    "    # False discovery rate\n",
    "    FDR = FP/(TP+FP)\n",
    "    # Overall accuracy\n",
    "    ACC = (TP+TN)/(TP+FP+FN+TN)\n",
    "    print(TPR, FPR)\n",
    "    theta1.update({threshold : (np.average(ACC)) / (np.exp(d) + np.average(FPR))})\n",
    "    theta2.update({threshold : f / (d + np.average(np.exp(FPR)))})\n",
    "    theta3.update({threshold : np.average(TPR) / (np.exp(d + np.average(FPR)))})\n",
    "    tpr.update({threshold: np.average(TPR)})\n",
    "    fpr.update({threshold: np.average(FPR)})\n"
   ]
  },
  {
   "cell_type": "code",
   "execution_count": 215,
   "metadata": {},
   "outputs": [
    {
     "data": {
      "text/plain": [
       "({'0': inf,\n",
       "  '0.01': inf,\n",
       "  '0.02': inf,\n",
       "  '0.03': inf,\n",
       "  '0.04': inf,\n",
       "  '0.05': inf,\n",
       "  '0.06': inf,\n",
       "  '0.07': inf,\n",
       "  '0.08': inf,\n",
       "  '0.09': inf,\n",
       "  '0.1': inf,\n",
       "  '0.11': inf,\n",
       "  '0.12': inf,\n",
       "  '0.13': inf,\n",
       "  '0.14': inf,\n",
       "  '0.15': inf,\n",
       "  '0.16': inf,\n",
       "  '0.17': inf,\n",
       "  '0.18': inf,\n",
       "  '0.19': inf,\n",
       "  '0.2': inf,\n",
       "  '0.21': inf,\n",
       "  '0.22': inf,\n",
       "  '0.23': inf,\n",
       "  '0.24': inf,\n",
       "  '0.25': inf,\n",
       "  '0.26': inf,\n",
       "  '0.27': inf,\n",
       "  '0.28': inf,\n",
       "  '0.29': inf,\n",
       "  '0.3': inf,\n",
       "  '0.31': inf,\n",
       "  '0.32': inf,\n",
       "  '0.33': inf,\n",
       "  '0.34': inf,\n",
       "  '0.35': inf,\n",
       "  '0.36': inf,\n",
       "  '0.37': 1253.565714816111,\n",
       "  '0.38': 626.6349770602066,\n",
       "  '0.39': 313.51825840391894,\n",
       "  '0.4': 179.2347582912655,\n",
       "  '0.41': 156.96346793261642,\n",
       "  '0.42': 139.50159213288714,\n",
       "  '0.43': 139.50159213288714,\n",
       "  '0.44': 89.69072121049206,\n",
       "  '0.45': 73.97009150956433,\n",
       "  '0.46': 54.89366726502337,\n",
       "  '0.47': 42.19803420052243,\n",
       "  '0.48': 36.25114938906228,\n",
       "  '0.49': 32.54229203964567,\n",
       "  '0.5': 28.19639108015333,\n",
       "  '0.51': 22.031860949398542,\n",
       "  '0.52': 16.940702576083115,\n",
       "  '0.53': 14.57075299150281,\n",
       "  '0.54': 12.570113520026464,\n",
       "  '0.55': 11.158217545244254,\n",
       "  '0.56': 9.970246841173728,\n",
       "  '0.57': 9.011888798710256,\n",
       "  '0.58': 8.383185400267926,\n",
       "  '0.59': 7.7597195580294756,\n",
       "  '0.6': 7.033381271361172,\n",
       "  '0.61': 6.773838871707571,\n",
       "  '0.62': 6.488218435484212,\n",
       "  '0.63': 6.006051830698386,\n",
       "  '0.64': 5.708501410254006,\n",
       "  '0.65': 5.374439556782448,\n",
       "  '0.66': 5.113300378994645,\n",
       "  '0.67': 5.016268442366995,\n",
       "  '0.68': 4.77440396133183,\n",
       "  '0.69': 4.609295573245653,\n",
       "  '0.7': 4.506869701106033,\n",
       "  '0.71': 4.338155739730353,\n",
       "  '0.72': 4.195650151300725,\n",
       "  '0.73': 4.026145133351925,\n",
       "  '0.74': 3.946504479897075,\n",
       "  '0.75': 3.7842014398932324,\n",
       "  '0.76': 3.631138649129839,\n",
       "  '0.77': 3.5164952812917014,\n",
       "  '0.78': 3.395853837393721,\n",
       "  '0.79': 3.2005205374390746,\n",
       "  '0.8': 3.080514703888791,\n",
       "  '0.81': 2.9462967651242096,\n",
       "  '0.82': 2.8449022255324206,\n",
       "  '0.83': 2.748895158531145,\n",
       "  '0.84': 2.7012471599627337,\n",
       "  '0.85': 2.627509817370156,\n",
       "  '0.86': 2.5440194960723366,\n",
       "  '0.87': 2.480503476851378,\n",
       "  '0.88': 2.3986177231080092,\n",
       "  '0.89': 2.3297679562891167,\n",
       "  '0.9': 2.281002586031575,\n",
       "  '0.91': 2.21941907769059,\n",
       "  '0.92': 2.1599420160992175,\n",
       "  '0.93': 2.103795206568953,\n",
       "  '0.94': 2.0339591343434,\n",
       "  '0.95': 1.9576063467081148,\n",
       "  '0.96': 1.907921210116814,\n",
       "  '0.97': 1.8158749558519554,\n",
       "  '0.98': 1.7299197343079964,\n",
       "  '0.99': 1.6142267856122878},\n",
       " {'0': inf,\n",
       "  '0.01': inf,\n",
       "  '0.02': inf,\n",
       "  '0.03': inf,\n",
       "  '0.04': inf,\n",
       "  '0.05': inf,\n",
       "  '0.06': inf,\n",
       "  '0.07': inf,\n",
       "  '0.08': inf,\n",
       "  '0.09': inf,\n",
       "  '0.1': inf,\n",
       "  '0.11': inf,\n",
       "  '0.12': inf,\n",
       "  '0.13': inf,\n",
       "  '0.14': inf,\n",
       "  '0.15': inf,\n",
       "  '0.16': inf,\n",
       "  '0.17': inf,\n",
       "  '0.18': inf,\n",
       "  '0.19': inf,\n",
       "  '0.2': inf,\n",
       "  '0.21': inf,\n",
       "  '0.22': inf,\n",
       "  '0.23': inf,\n",
       "  '0.24': inf,\n",
       "  '0.25': inf,\n",
       "  '0.26': inf,\n",
       "  '0.27': inf,\n",
       "  '0.28': inf,\n",
       "  '0.29': inf,\n",
       "  '0.3': inf,\n",
       "  '0.31': inf,\n",
       "  '0.32': inf,\n",
       "  '0.33': inf,\n",
       "  '0.34': inf,\n",
       "  '0.35': inf,\n",
       "  '0.36': inf,\n",
       "  '0.37': 1254.0439419421411,\n",
       "  '0.38': 626.8773631885929,\n",
       "  '0.39': 313.63050923277814,\n",
       "  '0.4': 179.29560419184475,\n",
       "  '0.41': 157.01170213488928,\n",
       "  '0.42': 139.54546915499472,\n",
       "  '0.43': 139.54546915499472,\n",
       "  '0.44': 89.71474604738891,\n",
       "  '0.45': 73.98903567229067,\n",
       "  '0.46': 54.91282880621198,\n",
       "  '0.47': 42.21309459063576,\n",
       "  '0.48': 36.25995577785048,\n",
       "  '0.49': 32.55087100052438,\n",
       "  '0.5': 28.205271882768507,\n",
       "  '0.51': 22.036482000802593,\n",
       "  '0.52': 16.937301566897226,\n",
       "  '0.53': 14.566027058154086,\n",
       "  '0.54': 12.562753970693812,\n",
       "  '0.55': 11.15122665541827,\n",
       "  '0.56': 9.963816649997556,\n",
       "  '0.57': 9.007134047507396,\n",
       "  '0.58': 8.377982017756194,\n",
       "  '0.59': 7.755367439677302,\n",
       "  '0.6': 7.030175194536459,\n",
       "  '0.61': 6.771116835651314,\n",
       "  '0.62': 6.485669905391458,\n",
       "  '0.63': 6.0033195214213695,\n",
       "  '0.64': 5.704991970236494,\n",
       "  '0.65': 5.370915261714448,\n",
       "  '0.66': 5.108752149984157,\n",
       "  '0.67': 5.011959642823407,\n",
       "  '0.68': 4.769963605870049,\n",
       "  '0.69': 4.604911258703116,\n",
       "  '0.7': 4.502415957736798,\n",
       "  '0.71': 4.333378419475981,\n",
       "  '0.72': 4.190828767016544,\n",
       "  '0.73': 4.021476671088164,\n",
       "  '0.74': 3.941663755111318,\n",
       "  '0.75': 3.7788739285206745,\n",
       "  '0.76': 3.6264423492887374,\n",
       "  '0.77': 3.5118350026600043,\n",
       "  '0.78': 3.39227306043551,\n",
       "  '0.79': 3.1968187050968355,\n",
       "  '0.8': 3.0774399468309555,\n",
       "  '0.81': 2.9438355590732175,\n",
       "  '0.82': 2.84361793959091,\n",
       "  '0.83': 2.7492255676223025,\n",
       "  '0.84': 2.7018632346462557,\n",
       "  '0.85': 2.628350103273156,\n",
       "  '0.86': 2.5455449672507084,\n",
       "  '0.87': 2.4815192161259856,\n",
       "  '0.88': 2.3996669478864865,\n",
       "  '0.89': 2.3312306708557586,\n",
       "  '0.9': 2.2828116919394197,\n",
       "  '0.91': 2.220857656508646,\n",
       "  '0.92': 2.1614365783075056,\n",
       "  '0.93': 2.10519619929539,\n",
       "  '0.94': 2.0343452346249626,\n",
       "  '0.95': 1.9584427388605834,\n",
       "  '0.96': 1.9073712682510455,\n",
       "  '0.97': 1.8146000329542167,\n",
       "  '0.98': 1.7289451473485158,\n",
       "  '0.99': 1.6130988983470052},\n",
       " {'0': 8.742857142857144,\n",
       "  '0.01': 8.742857142857144,\n",
       "  '0.02': 8.742857142857144,\n",
       "  '0.03': 8.742857142857144,\n",
       "  '0.04': 8.742857142857144,\n",
       "  '0.05': 8.742857142857144,\n",
       "  '0.06': 8.742857142857144,\n",
       "  '0.07': 8.742857142857144,\n",
       "  '0.08': 8.742857142857144,\n",
       "  '0.09': 8.742857142857144,\n",
       "  '0.1': 8.742857142857144,\n",
       "  '0.11': 8.742857142857144,\n",
       "  '0.12': 8.742857142857144,\n",
       "  '0.13': 8.742857142857144,\n",
       "  '0.14': 8.742857142857144,\n",
       "  '0.15': 8.742857142857144,\n",
       "  '0.16': 8.742857142857144,\n",
       "  '0.17': 8.742857142857144,\n",
       "  '0.18': 8.742857142857144,\n",
       "  '0.19': 8.742857142857144,\n",
       "  '0.2': 8.742857142857144,\n",
       "  '0.21': 8.742857142857144,\n",
       "  '0.22': 8.742857142857144,\n",
       "  '0.23': 8.742857142857144,\n",
       "  '0.24': 8.742857142857144,\n",
       "  '0.25': 8.742857142857144,\n",
       "  '0.26': 8.742857142857144,\n",
       "  '0.27': 8.742857142857144,\n",
       "  '0.28': 8.742857142857144,\n",
       "  '0.29': 8.742857142857144,\n",
       "  '0.3': 8.742857142857144,\n",
       "  '0.31': 8.742857142857144,\n",
       "  '0.32': 8.742857142857144,\n",
       "  '0.33': 8.742857142857144,\n",
       "  '0.34': 8.742857142857144,\n",
       "  '0.35': 8.742857142857144,\n",
       "  '0.36': 8.742857142857144,\n",
       "  '0.37': 8.731469173593174,\n",
       "  '0.38': 8.720084237340219,\n",
       "  '0.39': 8.730407741648559,\n",
       "  '0.4': 8.730001755239746,\n",
       "  '0.41': 8.753563427174683,\n",
       "  '0.42': 8.74112331772552,\n",
       "  '0.43': 8.74112331772552,\n",
       "  '0.44': 8.717748538425399,\n",
       "  '0.45': 8.751560871563449,\n",
       "  '0.46': 8.855621423044447,\n",
       "  '0.47': 8.9178392206693,\n",
       "  '0.48': 8.970204428198393,\n",
       "  '0.49': 8.960307843858136,\n",
       "  '0.5': 8.926128070136846,\n",
       "  '0.51': 9.11311220468466,\n",
       "  '0.52': 9.296524517563947,\n",
       "  '0.53': 9.517249429204075,\n",
       "  '0.54': 9.77430018952481,\n",
       "  '0.55': 10.018555451307453,\n",
       "  '0.56': 10.262923556778484,\n",
       "  '0.57': 10.470884649823656,\n",
       "  '0.58': 10.693041411722456,\n",
       "  '0.59': 10.674332546594012,\n",
       "  '0.6': 11.144951135704696,\n",
       "  '0.61': 11.277052680391028,\n",
       "  '0.62': 11.266623887603997,\n",
       "  '0.63': 11.460747317330421,\n",
       "  '0.64': 11.415648640977908,\n",
       "  '0.65': 11.58585494567203,\n",
       "  '0.66': 11.945553099027025,\n",
       "  '0.67': 11.861622242420818,\n",
       "  '0.68': 11.9978405268638,\n",
       "  '0.69': 12.281309154122436,\n",
       "  '0.7': 12.48276141735875,\n",
       "  '0.71': 12.615037514875212,\n",
       "  '0.72': 12.768126334332576,\n",
       "  '0.73': 12.880516364349223,\n",
       "  '0.74': 13.035698301053184,\n",
       "  '0.75': 12.87876381257985,\n",
       "  '0.76': 13.266137135929508,\n",
       "  '0.77': 13.226702914003923,\n",
       "  '0.78': 13.658595479578553,\n",
       "  '0.79': 13.928433141644577,\n",
       "  '0.8': 15.16560778416191,\n",
       "  '0.81': 15.409601083400597,\n",
       "  '0.82': 16.037832399701955,\n",
       "  '0.83': 17.085891190669017,\n",
       "  '0.84': 17.396653489063155,\n",
       "  '0.85': 18.225270552761902,\n",
       "  '0.86': 19.318874506499327,\n",
       "  '0.87': 19.683231625715326,\n",
       "  '0.88': 20.450745572941077,\n",
       "  '0.89': 22.49515761493186,\n",
       "  '0.9': 23.57267193379596,\n",
       "  '0.91': 25.08260490623127,\n",
       "  '0.92': 25.8888610711421,\n",
       "  '0.93': 27.91669263983456,\n",
       "  '0.94': 31.288366826213434,\n",
       "  '0.95': 32.96696735823749,\n",
       "  '0.96': 37.982739864976665,\n",
       "  '0.97': 45.862557023933476,\n",
       "  '0.98': 66.49275443798906,\n",
       "  '0.99': 80.98141982090347})"
      ]
     },
     "execution_count": 215,
     "metadata": {},
     "output_type": "execute_result"
    }
   ],
   "source": [
    "theta1, theta2, theta3"
   ]
  },
  {
   "cell_type": "code",
   "execution_count": 245,
   "metadata": {},
   "outputs": [
    {
     "data": {
      "image/png": "[encoded data removed]",
      "text/plain": [
       "<Figure size 800x480 with 1 Axes>"
      ]
     },
     "metadata": {},
     "output_type": "display_data"
    }
   ],
   "source": [
    "tpr_list = tpr.items() # sorted by key, return a list of tuples\n",
    "\n",
    "x, y = zip(*tpr_list) # unpack a list of pairs into two tuples\n",
    "x = list(x)\n",
    "for i in range(0, len(x)): \n",
    "    x[i] = float(x[i])\n",
    "\n",
    "plt.figure(figsize=(10,6), dpi= 80)\n",
    "plt.plot(x, y, label='DR')\n",
    "\n",
    "fpr_list = fpr.items() # sorted by key, return a list of tuples\n",
    "\n",
    "x2, y2 = zip(*fpr_list) # unpack a list of pairs into two tuples\n",
    "# plt.figure(figsize=(10,6), dpi= 80)\n",
    "plt.plot(x, y2, label='FAR')\n",
    "# plt.show()\n",
    "\n",
    "drop_list = drop_rate.items() # sorted by key, return a list of tuples\n",
    "\n",
    "x3, y3 = zip(*drop_list) # unpack a list of pairs into two tuples\n",
    "# plt.figure(figsize=(30, 15), dpi= 80)\n",
    "plt.plot(x, y3, label='drop rate')\n",
    "plt.legend(loc='upper left')\n",
    "plt.xticks(np.arange(min(x), max(x), 0.1))\n",
    "plt.show()"
   ]
  },
  {
   "cell_type": "code",
   "execution_count": 273,
   "metadata": {},
   "outputs": [],
   "source": [
    "# theta1_list = theta1.items() # sorted by key, return a list of tuples\n",
    "\n",
    "# x, y = zip(*theta1_list) # unpack a list of pairs into two tuples\n",
    "# plt.figure(figsize=(30,15), dpi= 80)\n",
    "# plt.plot(x, y)\n",
    "\n",
    "# theta2_list = theta2.items() # sorted by key, return a list of tuples\n",
    "\n",
    "# x2, y2 = zip(*theta2_list) # unpack a list of pairs into two tuples\n",
    "# # plt.figure(figsize=(10,6), dpi= 80)\n",
    "# plt.plot(x2, y2)\n",
    "# # plt.show()\n",
    "\n",
    "# # theta3_list = theta3.items() # sorted by key, return a list of tuples\n",
    "\n",
    "# # x3, y3 = zip(*theta3_list) # unpack a list of pairs into two tuples\n",
    "# # # plt.figure(figsize=(30, 15), dpi= 80)\n",
    "# # plt.plot(x3, y3)\n",
    "# plt.show()"
   ]
  },
  {
   "cell_type": "code",
   "execution_count": 288,
   "metadata": {},
   "outputs": [
    {
     "data": {
      "text/plain": [
       "{'0': 0.8012976480129764,\n",
       " '0.1': 0.8012976480129764,\n",
       " '0.2': 0.8012976480129764,\n",
       " '0.3': 0.8012976480129764,\n",
       " '0.4': 0.798674383865318,\n",
       " '0.5': 0.7887249787211998,\n",
       " '0.6': 0.7628230308525296,\n",
       " '0.7': 0.730616906291621,\n",
       " '0.8': 0.6860314844597,\n",
       " '0.9': 0.6346912823913266,\n",
       " '1': nan}"
      ]
     },
     "execution_count": 288,
     "metadata": {},
     "output_type": "execute_result"
    }
   ],
   "source": [
    "theta1"
   ]
  },
  {
   "cell_type": "code",
   "execution_count": 287,
   "metadata": {},
   "outputs": [
    {
     "data": {
      "text/plain": [
       "[<matplotlib.lines.Line2D at 0x7f56600ccbe0>]"
      ]
     },
     "execution_count": 287,
     "metadata": {},
     "output_type": "execute_result"
    },
    {
     "data": {
      "image/png": "[encoded data removed]",
      "text/plain": [
       "<Figure size 800x480 with 1 Axes>"
      ]
     },
     "metadata": {},
     "output_type": "display_data"
    }
   ],
   "source": [
    "theta1_list = theta1.items()\n",
    "\n",
    "x, y = zip(*theta1_list) # unpack a list of pairs into two tuples\n",
    "x = list(x)\n",
    "for i in range(0, len(x)): \n",
    "    x[i] = float(x[i])\n",
    "plt.figure(figsize=(10,6), dpi= 80)\n",
    "plt.xticks(np.arange(min(x), max(x), 0.05))\n",
    "plt.plot(x, y)\n"
   ]
  },
  {
   "cell_type": "code",
   "execution_count": 266,
   "metadata": {},
   "outputs": [
    {
     "data": {
      "text/plain": [
       "[<matplotlib.lines.Line2D at 0x7f563c6a3c50>]"
      ]
     },
     "execution_count": 266,
     "metadata": {},
     "output_type": "execute_result"
    },
    {
     "data": {
      "image/png": "[encoded data removed]",
      "text/plain": [
       "<Figure size 800x480 with 1 Axes>"
      ]
     },
     "metadata": {},
     "output_type": "display_data"
    }
   ],
   "source": [
    "theta2_list = theta2.items()\n",
    "\n",
    "x, y = zip(*theta2_list) # unpack a list of pairs into two tuples\n",
    "x = list(x)\n",
    "for i in range(0, len(x)): \n",
    "    x[i] = float(x[i])\n",
    "plt.figure(figsize=(10,6), dpi= 80)\n",
    "plt.xticks(np.arange(min(x), max(x), 0.05))\n",
    "plt.plot(x, y)"
   ]
  },
  {
   "cell_type": "code",
   "execution_count": 267,
   "metadata": {},
   "outputs": [
    {
     "data": {
      "text/plain": [
       "[<matplotlib.lines.Line2D at 0x7f5660063ef0>]"
      ]
     },
     "execution_count": 267,
     "metadata": {},
     "output_type": "execute_result"
    },
    {
     "data": {
      "image/png": "[encoded data removed]",
      "text/plain": [
       "<Figure size 800x480 with 1 Axes>"
      ]
     },
     "metadata": {},
     "output_type": "display_data"
    }
   ],
   "source": [
    "theta3_list = theta3.items()\n",
    "\n",
    "x, y = zip(*theta3_list) # unpack a list of pairs into two tuples\n",
    "x = list(x)\n",
    "for i in range(0, len(x)): \n",
    "    x[i] = float(x[i])\n",
    "plt.figure(figsize=(10,6), dpi= 80)\n",
    "plt.xticks(np.arange(min(x), max(x), 0.05))\n",
    "plt.plot(x, y)"
   ]
  },
  {
   "cell_type": "code",
   "execution_count": 160,
   "metadata": {},
   "outputs": [
    {
     "data": {
      "text/plain": [
       "{'0': 0.8150321918617607,\n",
       " '0.01': 0.8150321918617607,\n",
       " '0.02': 0.8150321918617607,\n",
       " '0.03': 0.8150321918617607,\n",
       " '0.04': 0.8150321918617607,\n",
       " '0.05': 0.8150321918617607,\n",
       " '0.06': 0.8150321918617607,\n",
       " '0.07': 0.8150321918617607,\n",
       " '0.08': 0.8150321918617607,\n",
       " '0.09': 0.8150321918617607,\n",
       " '0.1': 0.8150321918617607,\n",
       " '0.11': 0.8150321918617607,\n",
       " '0.12': 0.8150321918617607,\n",
       " '0.13': 0.8150321918617607,\n",
       " '0.14': 0.8150321918617607,\n",
       " '0.15': 0.8150321918617607,\n",
       " '0.16': 0.8150321918617607,\n",
       " '0.17': 0.8150321918617607,\n",
       " '0.18': 0.8150321918617607,\n",
       " '0.19': 0.8150321918617607,\n",
       " '0.2': 0.8150321918617607,\n",
       " '0.21': 0.8150321918617607,\n",
       " '0.22': 0.8150321918617607,\n",
       " '0.23': 0.8150321918617607,\n",
       " '0.24': 0.8150321918617607,\n",
       " '0.25': 0.8150321918617607,\n",
       " '0.26': 0.8150321918617607,\n",
       " '0.27': 0.8150321918617607,\n",
       " '0.28': 0.8150321918617607,\n",
       " '0.29': 0.8150321918617607,\n",
       " '0.3': 0.8150321918617607,\n",
       " '0.31': 0.8150321918617607,\n",
       " '0.32': 0.8150321918617607,\n",
       " '0.33': 0.8150321918617607,\n",
       " '0.34': 0.8150321918617607,\n",
       " '0.35': 0.8150321918617607,\n",
       " '0.36': 0.8150321918617607,\n",
       " '0.37': 0.8148898538713061,\n",
       " '0.38': 0.8147469944962712,\n",
       " '0.39': 0.8150355681613516,\n",
       " '0.4': 0.8153056918700612,\n",
       " '0.41': 0.815776856802705,\n",
       " '0.42': 0.8157212560251837,\n",
       " '0.43': 0.8157212560251837,\n",
       " '0.44': 0.8157378990712324,\n",
       " '0.45': 0.8164651060534838,\n",
       " '0.46': 0.8190384031479742,\n",
       " '0.47': 0.8203851228543438,\n",
       " '0.48': 0.8215785534865626,\n",
       " '0.49': 0.8218194722184471,\n",
       " '0.5': 0.8217617316363947,\n",
       " '0.51': 0.8257821699335502,\n",
       " '0.52': 0.8299107619187805,\n",
       " '0.53': 0.8341402779514501,\n",
       " '0.54': 0.8386477721298881,\n",
       " '0.55': 0.8426966181255294,\n",
       " '0.56': 0.8468610172549965,\n",
       " '0.57': 0.8502408562270708,\n",
       " '0.58': 0.8536442958958727,\n",
       " '0.59': 0.8539935460141516,\n",
       " '0.6': 0.8602686088235222,\n",
       " '0.61': 0.8621232578120702,\n",
       " '0.62': 0.8624080809115641,\n",
       " '0.63': 0.865130408458927,\n",
       " '0.64': 0.8651498487381097,\n",
       " '0.65': 0.8676493465153096,\n",
       " '0.66': 0.8718483299831062,\n",
       " '0.67': 0.8713384355891133,\n",
       " '0.68': 0.8732471283626149,\n",
       " '0.69': 0.8762119755854924,\n",
       " '0.7': 0.8781934715327707,\n",
       " '0.71': 0.8796503376241662,\n",
       " '0.72': 0.8813396332136961,\n",
       " '0.73': 0.8826191449420171,\n",
       " '0.74': 0.8839152143925707,\n",
       " '0.75': 0.882789060293653,\n",
       " '0.76': 0.886127054626273,\n",
       " '0.77': 0.8863469344861487,\n",
       " '0.78': 0.8901777340702837,\n",
       " '0.79': 0.8930576045703081,\n",
       " '0.8': 0.9019919435704206,\n",
       " '0.81': 0.9041157987017897,\n",
       " '0.82': 0.9087378216776512,\n",
       " '0.83': 0.9149100392246786,\n",
       " '0.84': 0.9167156307892368,\n",
       " '0.85': 0.9205740893912937,\n",
       " '0.86': 0.9255992670016516,\n",
       " '0.87': 0.9271015800628813,\n",
       " '0.88': 0.9300969368331037,\n",
       " '0.89': 0.9361338636898312,\n",
       " '0.9': 0.9389747829619385,\n",
       " '0.91': 0.9426257345888094,\n",
       " '0.92': 0.9439981539000546,\n",
       " '0.93': 0.948078374379155,\n",
       " '0.94': 0.9525483012168249,\n",
       " '0.95': 0.9550726764469482,\n",
       " '0.96': 0.9591464935152972,\n",
       " '0.97': 0.9636079979592179,\n",
       " '0.98': 0.9701253607503607,\n",
       " '0.99': 0.9686130862601451}"
      ]
     },
     "execution_count": 160,
     "metadata": {},
     "output_type": "execute_result"
    }
   ],
   "source": [
    "p_score"
   ]
  },
  {
   "cell_type": "code",
   "execution_count": 161,
   "metadata": {},
   "outputs": [
    {
     "data": {
      "text/plain": [
       "{'0': 0.8138297872340425,\n",
       " '0.01': 0.8138297872340425,\n",
       " '0.02': 0.8138297872340425,\n",
       " '0.03': 0.8138297872340425,\n",
       " '0.04': 0.8138297872340425,\n",
       " '0.05': 0.8138297872340425,\n",
       " '0.06': 0.8138297872340425,\n",
       " '0.07': 0.8138297872340425,\n",
       " '0.08': 0.8138297872340425,\n",
       " '0.09': 0.8138297872340425,\n",
       " '0.1': 0.8138297872340425,\n",
       " '0.11': 0.8138297872340425,\n",
       " '0.12': 0.8138297872340425,\n",
       " '0.13': 0.8138297872340425,\n",
       " '0.14': 0.8138297872340425,\n",
       " '0.15': 0.8138297872340425,\n",
       " '0.16': 0.8138297872340425,\n",
       " '0.17': 0.8138297872340425,\n",
       " '0.18': 0.8138297872340425,\n",
       " '0.19': 0.8138297872340425,\n",
       " '0.2': 0.8138297872340425,\n",
       " '0.21': 0.8138297872340425,\n",
       " '0.22': 0.8138297872340425,\n",
       " '0.23': 0.8138297872340425,\n",
       " '0.24': 0.8138297872340425,\n",
       " '0.25': 0.8138297872340425,\n",
       " '0.26': 0.8138297872340425,\n",
       " '0.27': 0.8138297872340425,\n",
       " '0.28': 0.8138297872340425,\n",
       " '0.29': 0.8138297872340425,\n",
       " '0.3': 0.8138297872340425,\n",
       " '0.31': 0.8138297872340425,\n",
       " '0.32': 0.8138297872340425,\n",
       " '0.33': 0.8138297872340425,\n",
       " '0.34': 0.8138297872340425,\n",
       " '0.35': 0.8138297872340425,\n",
       " '0.36': 0.8138297872340425,\n",
       " '0.37': 0.8136786213672953,\n",
       " '0.38': 0.8135269175437267,\n",
       " '0.39': 0.8138985046053606,\n",
       " '0.4': 0.8141590837329856,\n",
       " '0.41': 0.8146415861718354,\n",
       " '0.42': 0.8145739218797624,\n",
       " '0.43': 0.8145739218797624,\n",
       " '0.44': 0.8146605332651844,\n",
       " '0.45': 0.8154807025543112,\n",
       " '0.46': 0.8178600783251945,\n",
       " '0.47': 0.8193349668416631,\n",
       " '0.48': 0.8206326601546635,\n",
       " '0.49': 0.8208006652411499,\n",
       " '0.5': 0.8206175038989438,\n",
       " '0.51': 0.8247045976792959,\n",
       " '0.52': 0.8290809744950612,\n",
       " '0.53': 0.8332345589332238,\n",
       " '0.54': 0.8378817003572373,\n",
       " '0.55': 0.8419946994059967,\n",
       " '0.56': 0.8461459727350737,\n",
       " '0.57': 0.8494444046614514,\n",
       " '0.58': 0.8527576887055889,\n",
       " '0.59': 0.8531157923372472,\n",
       " '0.6': 0.8597388307803838,\n",
       " '0.61': 0.8614832611558745,\n",
       " '0.62': 0.8618620483681432,\n",
       " '0.63': 0.8647739089376376,\n",
       " '0.64': 0.8650190119908919,\n",
       " '0.65': 0.8674744528688686,\n",
       " '0.66': 0.8717804340376034,\n",
       " '0.67': 0.8712048158601863,\n",
       " '0.68': 0.8732722218846831,\n",
       " '0.69': 0.8763798184135075,\n",
       " '0.7': 0.8785439198100765,\n",
       " '0.71': 0.8801611569385622,\n",
       " '0.72': 0.8818938312838863,\n",
       " '0.73': 0.8832406960725617,\n",
       " '0.74': 0.8847645514898873,\n",
       " '0.75': 0.8839471989078289,\n",
       " '0.76': 0.8872565845416523,\n",
       " '0.77': 0.887525663993295,\n",
       " '0.78': 0.8912627676193564,\n",
       " '0.79': 0.8942390400190664,\n",
       " '0.8': 0.902762669429336,\n",
       " '0.81': 0.9042098426281157,\n",
       " '0.82': 0.9081023977577481,\n",
       " '0.83': 0.9137776814247403,\n",
       " '0.84': 0.9153880070546737,\n",
       " '0.85': 0.9192188019851525,\n",
       " '0.86': 0.9236981228301505,\n",
       " '0.87': 0.9255918532514277,\n",
       " '0.88': 0.9287308440887266,\n",
       " '0.89': 0.9347084962462265,\n",
       " '0.9': 0.9373271540921269,\n",
       " '0.91': 0.9412713386091168,\n",
       " '0.92': 0.9425504129283495,\n",
       " '0.93': 0.9467699963389448,\n",
       " '0.94': 0.9521720007773583,\n",
       " '0.95': 0.9541084349291307,\n",
       " '0.96': 0.9596028249772743,\n",
       " '0.97': 0.9649553633548634,\n",
       " '0.98': 0.9712136317036094,\n",
       " '0.99': 0.9699607679616071}"
      ]
     },
     "execution_count": 161,
     "metadata": {},
     "output_type": "execute_result"
    }
   ],
   "source": [
    "r_score"
   ]
  },
  {
   "cell_type": "code",
   "execution_count": 191,
   "metadata": {},
   "outputs": [
    {
     "data": {
      "text/plain": [
       "{'0': 0.8141359439420084,\n",
       " '0.01': 0.8141359439420084,\n",
       " '0.02': 0.8141359439420084,\n",
       " '0.03': 0.8141359439420084,\n",
       " '0.04': 0.8141359439420084,\n",
       " '0.05': 0.8141359439420084,\n",
       " '0.06': 0.8141359439420084,\n",
       " '0.07': 0.8141359439420084,\n",
       " '0.08': 0.8141359439420084,\n",
       " '0.09': 0.8141359439420084,\n",
       " '0.1': 0.8141359439420084,\n",
       " '0.11': 0.8141359439420084,\n",
       " '0.12': 0.8141359439420084,\n",
       " '0.13': 0.8141359439420084,\n",
       " '0.14': 0.8141359439420084,\n",
       " '0.15': 0.8141359439420084,\n",
       " '0.16': 0.8141359439420084,\n",
       " '0.17': 0.8141359439420084,\n",
       " '0.18': 0.8141359439420084,\n",
       " '0.19': 0.8141359439420084,\n",
       " '0.2': 0.8141359439420084,\n",
       " '0.21': 0.8141359439420084,\n",
       " '0.22': 0.8141359439420084,\n",
       " '0.23': 0.8141359439420084,\n",
       " '0.24': 0.8141359439420084,\n",
       " '0.25': 0.8141359439420084,\n",
       " '0.26': 0.8141359439420084,\n",
       " '0.27': 0.8141359439420084,\n",
       " '0.28': 0.8141359439420084,\n",
       " '0.29': 0.8141359439420084,\n",
       " '0.3': 0.8141359439420084,\n",
       " '0.31': 0.8141359439420084,\n",
       " '0.32': 0.8141359439420084,\n",
       " '0.33': 0.8141359439420084,\n",
       " '0.34': 0.8141359439420084,\n",
       " '0.35': 0.8141359439420084,\n",
       " '0.36': 0.8141359439420084,\n",
       " '0.37': 0.813989034442581,\n",
       " '0.38': 0.8138415945839498,\n",
       " '0.39': 0.8141899095851354,\n",
       " '0.4': 0.8144354712101513,\n",
       " '0.41': 0.8148919220465763,\n",
       " '0.42': 0.8148301273999442,\n",
       " '0.43': 0.8148301273999442,\n",
       " '0.44': 0.8148787507817107,\n",
       " '0.45': 0.815689551817765,\n",
       " '0.46': 0.8181455658933995,\n",
       " '0.47': 0.8196273857769977,\n",
       " '0.48': 0.8208320141166595,\n",
       " '0.49': 0.8210170487948266,\n",
       " '0.5': 0.8208759675460812,\n",
       " '0.51': 0.8248775745489206,\n",
       " '0.52': 0.8289145285051478,\n",
       " '0.53': 0.8329643044726844,\n",
       " '0.54': 0.8373911374280417,\n",
       " '0.55': 0.8414671696142767,\n",
       " '0.56': 0.8456002610336175,\n",
       " '0.57': 0.8489962303780088,\n",
       " '0.58': 0.8522283881793219,\n",
       " '0.59': 0.852637313589582,\n",
       " '0.6': 0.8593469298390977,\n",
       " '0.61': 0.8611370780618947,\n",
       " '0.62': 0.8615235145490511,\n",
       " '0.63': 0.8643805007819113,\n",
       " '0.64': 0.8644872205243722,\n",
       " '0.65': 0.8669056054749102,\n",
       " '0.66': 0.8710049941520152,\n",
       " '0.67': 0.8704564813250476,\n",
       " '0.68': 0.8724600494938523,\n",
       " '0.69': 0.8755462149438237,\n",
       " '0.7': 0.8776757320396436,\n",
       " '0.71': 0.8791918944283106,\n",
       " '0.72': 0.8808804128850358,\n",
       " '0.73': 0.8822165462411821,\n",
       " '0.74': 0.8836793122064219,\n",
       " '0.75': 0.8827027517424965,\n",
       " '0.76': 0.8861090593822928,\n",
       " '0.77': 0.8863494596886866,\n",
       " '0.78': 0.8903229706390329,\n",
       " '0.79': 0.8932047323302665,\n",
       " '0.8': 0.9018615940714181,\n",
       " '0.81': 0.9034545057040196,\n",
       " '0.82': 0.9076924493481243,\n",
       " '0.83': 0.913887514807182,\n",
       " '0.84': 0.9155967800189195,\n",
       " '0.85': 0.9195127710489309,\n",
       " '0.86': 0.9242520002143723,\n",
       " '0.87': 0.9259708730779984,\n",
       " '0.88': 0.929137097825938,\n",
       " '0.89': 0.9352953408413428,\n",
       " '0.9': 0.938070565828017,\n",
       " '0.91': 0.9418814500672806,\n",
       " '0.92': 0.9432026064669118,\n",
       " '0.93': 0.9474004844560096,\n",
       " '0.94': 0.952352748694752,\n",
       " '0.95': 0.9545160801173068,\n",
       " '0.96': 0.9593262277230657,\n",
       " '0.97': 0.9642778697399687,\n",
       " '0.98': 0.9706664779128547,\n",
       " '0.99': 0.9692830401430883}"
      ]
     },
     "execution_count": 191,
     "metadata": {},
     "output_type": "execute_result"
    }
   ],
   "source": [
    "f_score"
   ]
  },
  {
   "cell_type": "code",
   "execution_count": 179,
   "metadata": {},
   "outputs": [
    {
     "data": {
      "image/png": "[encoded data removed]",
      "text/plain": [
       "<Figure size 800x480 with 1 Axes>"
      ]
     },
     "metadata": {},
     "output_type": "display_data"
    }
   ],
   "source": [
    "f_list = f_score.items() # sorted by key, return a list of tuples\n",
    "\n",
    "x, y = zip(*f_list) # unpack a list of pairs into two tuples\n",
    "plt.figure(figsize=(10,6), dpi= 80)\n",
    "plt.plot(x, y)\n",
    "plt.show()"
   ]
  },
  {
   "cell_type": "code",
   "execution_count": 163,
   "metadata": {
    "scrolled": false
   },
   "outputs": [
    {
     "data": {
      "text/plain": [
       "{'0': 0.0,\n",
       " '0.01': 0.0,\n",
       " '0.02': 0.0,\n",
       " '0.03': 0.0,\n",
       " '0.04': 0.0,\n",
       " '0.05': 0.0,\n",
       " '0.06': 0.0,\n",
       " '0.07': 0.0,\n",
       " '0.08': 0.0,\n",
       " '0.09': 0.0,\n",
       " '0.1': 0.0,\n",
       " '0.11': 0.0,\n",
       " '0.12': 0.0,\n",
       " '0.13': 0.0,\n",
       " '0.14': 0.0,\n",
       " '0.15': 0.0,\n",
       " '0.16': 0.0,\n",
       " '0.17': 0.0,\n",
       " '0.18': 0.0,\n",
       " '0.19': 0.0,\n",
       " '0.2': 0.0,\n",
       " '0.21': 0.0,\n",
       " '0.22': 0.0,\n",
       " '0.23': 0.0,\n",
       " '0.24': 0.0,\n",
       " '0.25': 0.0,\n",
       " '0.26': 0.0,\n",
       " '0.27': 0.0,\n",
       " '0.28': 0.0,\n",
       " '0.29': 0.0,\n",
       " '0.3': 0.0,\n",
       " '0.31': 0.0,\n",
       " '0.32': 0.0,\n",
       " '0.33': 0.0,\n",
       " '0.34': 0.0,\n",
       " '0.35': 0.0,\n",
       " '0.36': 0.0,\n",
       " '0.37': 0.000591016548463357,\n",
       " '0.38': 0.001182033096926714,\n",
       " '0.39': 0.002364066193853428,\n",
       " '0.4': 0.004137115839243499,\n",
       " '0.41': 0.004728132387706856,\n",
       " '0.42': 0.005319148936170213,\n",
       " '0.43': 0.005319148936170213,\n",
       " '0.44': 0.008274231678486997,\n",
       " '0.45': 0.01004728132387707,\n",
       " '0.46': 0.013593380614657211,\n",
       " '0.47': 0.01773049645390071,\n",
       " '0.48': 0.020685579196217493,\n",
       " '0.49': 0.02304964539007092,\n",
       " '0.5': 0.026595744680851064,\n",
       " '0.51': 0.034278959810874705,\n",
       " '0.52': 0.04491725768321513,\n",
       " '0.53': 0.05260047281323877,\n",
       " '0.54': 0.061465721040189124,\n",
       " '0.55': 0.06973995271867613,\n",
       " '0.56': 0.07860520094562648,\n",
       " '0.57': 0.08747044917257683,\n",
       " '0.58': 0.09456264775413711,\n",
       " '0.59': 0.10224586288416075,\n",
       " '0.6': 0.1140661938534279,\n",
       " '0.61': 0.11879432624113476,\n",
       " '0.62': 0.12411347517730496,\n",
       " '0.63': 0.1347517730496454,\n",
       " '0.64': 0.14184397163120568,\n",
       " '0.65': 0.15130023640661938,\n",
       " '0.66': 0.16016548463356975,\n",
       " '0.67': 0.16312056737588654,\n",
       " '0.68': 0.17198581560283688,\n",
       " '0.69': 0.17907801418439717,\n",
       " '0.7': 0.183806146572104,\n",
       " '0.71': 0.19148936170212766,\n",
       " '0.72': 0.19858156028368795,\n",
       " '0.73': 0.2074468085106383,\n",
       " '0.74': 0.21217494089834515,\n",
       " '0.75': 0.22104018912529552,\n",
       " '0.76': 0.23167848699763594,\n",
       " '0.77': 0.2393617021276596,\n",
       " '0.78': 0.24940898345153664,\n",
       " '0.79': 0.26595744680851063,\n",
       " '0.8': 0.2801418439716312,\n",
       " '0.81': 0.2937352245862884,\n",
       " '0.82': 0.3061465721040189,\n",
       " '0.83': 0.3197399527186761,\n",
       " '0.84': 0.3262411347517731,\n",
       " '0.85': 0.33747044917257685,\n",
       " '0.86': 0.35106382978723405,\n",
       " '0.87': 0.3611111111111111,\n",
       " '0.88': 0.3752955082742317,\n",
       " '0.89': 0.3900709219858156,\n",
       " '0.9': 0.40011820330969267,\n",
       " '0.91': 0.41371158392434987,\n",
       " '0.92': 0.42612293144208035,\n",
       " '0.93': 0.44030732860520094,\n",
       " '0.94': 0.4592198581560284,\n",
       " '0.95': 0.4787234042553192,\n",
       " '0.96': 0.49527186761229314,\n",
       " '0.97': 0.524822695035461,\n",
       " '0.98': 0.5567375886524822,\n",
       " '0.99': 0.5969267139479906}"
      ]
     },
     "execution_count": 163,
     "metadata": {},
     "output_type": "execute_result"
    }
   ],
   "source": [
    "drop_rate"
   ]
  },
  {
   "cell_type": "code",
   "execution_count": 174,
   "metadata": {},
   "outputs": [
    {
     "data": {
      "image/png": "[encoded data removed]",
      "text/plain": [
       "<Figure size 800x480 with 1 Axes>"
      ]
     },
     "metadata": {},
     "output_type": "display_data"
    }
   ],
   "source": [
    "lists = drop_rate.items() # sorted by key, return a list of tuples\n",
    "\n",
    "x, y = zip(*lists) # unpack a list of pairs into two tuples\n",
    "plt.figure(figsize=(10,6), dpi= 80)\n",
    "plt.plot(x, y)\n",
    "plt.show()"
   ]
  },
  {
   "cell_type": "code",
   "execution_count": 254,
   "metadata": {},
   "outputs": [
    {
     "data": {
      "image/png": "[encoded data removed]",
      "text/plain": [
       "<Figure size 1152x1008 with 2 Axes>"
      ]
     },
     "metadata": {},
     "output_type": "display_data"
    }
   ],
   "source": [
    "def plot_confusion_matrix(cm,\n",
    "                          target_names,\n",
    "                          title='Confusion matrix',\n",
    "                          cmap=None,\n",
    "                          normalize=True):\n",
    "    \"\"\"\n",
    "    given a sklearn confusion matrix (cm), make a nice plot\n",
    "\n",
    "    Arguments\n",
    "    ---------\n",
    "    cm:           confusion matrix from sklearn.metrics.confusion_matrix\n",
    "\n",
    "    target_names: given classification classes such as [0, 1, 2]\n",
    "                  the class names, for example: ['high', 'medium', 'low']\n",
    "\n",
    "    title:        the text to display at the top of the matrix\n",
    "\n",
    "    cmap:         the gradient of the values displayed from matplotlib.pyplot.cm\n",
    "                  see http://matplotlib.org/examples/color/colormaps_reference.html\n",
    "                  plt.get_cmap('jet') or plt.cm.Blues\n",
    "\n",
    "    normalize:    If False, plot the raw numbers\n",
    "                  If True, plot the proportions\n",
    "\n",
    "    Usage|\n",
    "    -----\n",
    "    plot_confusion_matrix(cm           = cm,                  # confusion matrix created by\n",
    "                                                              # sklearn.metrics.confusion_matrix\n",
    "                          normalize    = True,                # show proportions\n",
    "                          target_names = y_labels_vals,       # list of names of the classes\n",
    "                          title        = best_estimator_name) # title of graph\n",
    "\n",
    "    Citiation\n",
    "    ---------\n",
    "    http://scikit-learn.org/stable/auto_examples/model_selection/plot_confusion_matrix.html\n",
    "\n",
    "    \"\"\"\n",
    "    import matplotlib.pyplot as plt\n",
    "    import numpy as np\n",
    "    import itertools\n",
    "\n",
    "    accuracy = np.trace(cm) / np.sum(cm).astype('float')\n",
    "    misclass = 1 - accuracy\n",
    "\n",
    "    if cmap is None:\n",
    "        cmap = plt.get_cmap('Blues')\n",
    "\n",
    "    plt.figure(figsize=(16, 14))\n",
    "    plt.imshow(cm, interpolation='nearest', cmap=cmap)\n",
    "    plt.title(title)\n",
    "    plt.colorbar()\n",
    "\n",
    "    if target_names is not None:\n",
    "        tick_marks = np.arange(len(target_names))\n",
    "        plt.xticks(tick_marks, target_names, rotation=45)\n",
    "        plt.yticks(tick_marks, target_names)\n",
    "\n",
    "    if normalize:\n",
    "        cm = cm.astype('float') / cm.sum(axis=1)[:, np.newaxis]\n",
    "\n",
    "\n",
    "    thresh = cm.max() / 1.5 if normalize else cm.max() / 2\n",
    "    for i, j in itertools.product(range(cm.shape[0]), range(cm.shape[1])):\n",
    "        if normalize:\n",
    "            plt.text(j, i, \"{:0.4f}\".format(cm[i, j]),\n",
    "                     horizontalalignment=\"center\",\n",
    "                     color=\"red\" if cm[i, j] > thresh else \"black\")\n",
    "        else:\n",
    "            plt.text(j, i, \"{:,}\".format(cm[i, j]),\n",
    "                     horizontalalignment=\"center\",\n",
    "                     color=\"red\" if cm[i, j] > thresh else \"black\")\n",
    "\n",
    "\n",
    "    plt.tight_layout()\n",
    "    plt.ylabel('True label')\n",
    "    plt.xlabel('Predicted label\\naccuracy={:0.4f}; misclass={:0.4f}'.format(accuracy, misclass))\n",
    "    plt.show()\n",
    "    \n",
    "    \n",
    "plot_confusion_matrix(matrix, [0, 1, 2])"
   ]
  },
  {
   "cell_type": "code",
   "execution_count": 255,
   "metadata": {},
   "outputs": [
    {
     "data": {
      "text/plain": [
       "(595, 548, 549)"
      ]
     },
     "execution_count": 255,
     "metadata": {},
     "output_type": "execute_result"
    }
   ],
   "source": [
    "len(y_pred_TopToTwo), len(y_pred_MiddleToTwo), len(y_pred_ButtomToTwo)"
   ]
  },
  {
   "cell_type": "code",
   "execution_count": 23,
   "metadata": {},
   "outputs": [
    {
     "data": {
      "text/plain": [
       "1692"
      ]
     },
     "execution_count": 23,
     "metadata": {},
     "output_type": "execute_result"
    }
   ],
   "source": [
    "len(y_pred_TopToTwo) + len(y_pred_MiddleToTwo) + len(y_pred_ButtomToTwo)"
   ]
  },
  {
   "cell_type": "code",
   "execution_count": 24,
   "metadata": {},
   "outputs": [
    {
     "data": {
      "text/plain": [
       "(1692, 1692)"
      ]
     },
     "execution_count": 24,
     "metadata": {},
     "output_type": "execute_result"
    }
   ],
   "source": [
    "len(y_pred_3sec), len(y_test)"
   ]
  },
  {
   "cell_type": "code",
   "execution_count": 25,
   "metadata": {},
   "outputs": [
    {
     "data": {
      "text/plain": [
       "array([1, 1, 1, 1, 1, 1, 1, 1, 1, 1, 1, 1, 1, 1, 0, 0, 1, 1, 1, 1, 1, 0,\n",
       "       1, 1, 2, 1, 1, 1, 1, 1, 1, 1, 1, 1, 0, 0, 1, 0, 1, 0, 0, 0, 0, 1,\n",
       "       0, 1, 1, 1, 0, 1, 0, 0, 0, 0, 0, 1, 0, 0, 1, 1, 1, 1, 1, 1, 1, 1,\n",
       "       1, 1, 1, 1, 1])"
      ]
     },
     "execution_count": 25,
     "metadata": {},
     "output_type": "execute_result"
    }
   ],
   "source": [
    "y_pred_TopTopToThree.argmax(axis=1)"
   ]
  },
  {
   "cell_type": "code",
   "execution_count": 26,
   "metadata": {},
   "outputs": [
    {
     "data": {
      "text/plain": [
       "71"
      ]
     },
     "execution_count": 26,
     "metadata": {},
     "output_type": "execute_result"
    }
   ],
   "source": [
    "len(y_pred_TopTopToThree.argmax(axis=1))"
   ]
  },
  {
   "cell_type": "code",
   "execution_count": 27,
   "metadata": {},
   "outputs": [
    {
     "data": {
      "text/plain": [
       "array([ 1,  1,  1,  1,  1,  1,  1,  1,  2,  2,  2,  3,  3,  3,  3,  3,  3,\n",
       "        3,  3,  3,  3,  3,  3,  3,  3,  3,  3,  3,  3,  3,  3,  3,  3,  3,\n",
       "        3,  5,  5,  5,  5,  5,  5,  5,  5,  5,  5,  5,  5,  5,  5,  5,  5,\n",
       "        5,  5,  5,  5,  5,  5,  5,  5,  6,  6,  6,  6,  6, 11, 14, 14, 14,\n",
       "       14, 14, 14])"
      ]
     },
     "execution_count": 27,
     "metadata": {},
     "output_type": "execute_result"
    }
   ],
   "source": [
    "y_test[y_pred_3sec.argmax(axis=1) == 0][y_pred_TopToTwo.argmax(axis=1) == 0].argmax(axis=1)"
   ]
  },
  {
   "cell_type": "code",
   "execution_count": 28,
   "metadata": {},
   "outputs": [
    {
     "data": {
      "text/plain": [
       "71"
      ]
     },
     "execution_count": 28,
     "metadata": {},
     "output_type": "execute_result"
    }
   ],
   "source": [
    "len(y_test[y_pred_3sec.argmax(axis=1) == 0][y_pred_TopToTwo.argmax(axis=1) == 0])"
   ]
  },
  {
   "cell_type": "code",
   "execution_count": 29,
   "metadata": {},
   "outputs": [
    {
     "data": {
      "text/plain": [
       "array([2, 2, 2, 2, 2, 2, 2, 2, 2, 2, 2, 2, 2, 2, 2, 0, 2, 2, 2, 2, 2, 2,\n",
       "       2, 2, 2, 0, 2, 2, 2, 2, 2, 2, 2, 2, 2, 2, 2, 2, 2, 2, 2, 2, 2, 2,\n",
       "       2, 2, 2, 2, 2, 2, 2, 2, 2, 2, 2, 2, 2, 2, 2, 2, 2, 2, 0, 2, 2, 2,\n",
       "       2, 2, 2, 2, 2, 2, 2, 2, 2, 2, 2, 2, 2, 2, 2, 0, 2, 2, 2, 2, 2, 2,\n",
       "       2, 2, 0, 2, 2, 2, 2, 0, 2, 0, 0, 2, 0, 2, 2, 2, 2, 0, 2, 0, 2, 2,\n",
       "       2, 0, 0, 2, 2, 0, 0, 2, 0, 2, 2, 2, 2, 2, 0, 2, 0, 2, 2, 0, 0, 2,\n",
       "       1, 2, 0, 2, 0, 2, 2, 2, 2, 2, 1, 2, 2, 2, 2, 2, 2, 1, 2, 2, 2, 2,\n",
       "       2, 2, 2, 2, 2, 2, 2, 2, 2, 2, 2, 2, 2, 2, 2, 2, 2, 2, 2, 2, 2, 2,\n",
       "       2, 2, 2, 2, 2, 2, 0, 2, 2, 2, 2, 2, 1, 2, 2, 2, 2, 2, 2, 2, 2, 2,\n",
       "       2, 2, 2, 2, 2, 2, 2, 2, 2, 2, 2, 0, 2, 2, 0, 2, 2, 2, 2, 2, 2, 0,\n",
       "       2, 2, 2, 2, 2, 0, 2, 2, 2, 2, 0, 0, 0, 0, 0, 0, 0, 0, 0, 0, 0, 2,\n",
       "       0, 2, 0, 2, 0, 0, 0, 0, 2, 0, 0, 0, 0, 0, 0, 0, 0, 0, 1, 0, 0, 0,\n",
       "       0, 0, 1, 0, 0, 0, 0, 0, 1, 0, 0, 0, 0, 0, 0, 2, 0, 0, 0, 1, 1, 1,\n",
       "       1, 1, 1, 1, 1, 1, 1, 1, 1, 1, 1, 1, 1, 1, 1, 1, 1, 1, 1, 1, 1, 1,\n",
       "       1, 1, 1, 1, 1, 0, 1, 1, 1, 1, 1, 1, 1, 1, 1, 1, 1, 1, 1, 1, 1, 1,\n",
       "       1, 1, 1, 1, 1, 1, 1, 1, 1, 1, 1, 1, 1, 1, 1, 1, 1, 2, 0, 2, 2, 2,\n",
       "       2, 2, 2, 2, 2, 2, 2, 2, 2, 2, 2, 2, 2, 2, 2, 0, 0, 2, 2, 2, 2, 2,\n",
       "       2, 2, 2, 2, 2, 2, 2, 2, 2, 2, 2, 2, 2, 2, 2, 2, 2, 2, 2, 2, 2, 2,\n",
       "       2, 0, 2, 2, 2, 2, 2, 2, 2, 2, 2, 0, 2, 0, 0, 1, 2, 0, 2, 2, 2, 2,\n",
       "       2, 2, 2, 1, 0, 2, 2, 0, 2, 2, 2, 2, 2, 0, 2, 2, 2, 2, 2, 2, 2, 1,\n",
       "       1, 1, 1, 1, 2, 1, 1, 1, 1, 0, 1, 1, 1, 1, 0, 0, 1, 1, 1, 1, 1, 1,\n",
       "       1, 2, 2, 2, 0, 0, 2, 2, 2, 2, 2, 2, 2, 0, 2, 2, 2, 2, 0, 2, 2, 2,\n",
       "       0, 0, 2, 2, 2, 2, 2, 2, 2, 2, 2, 2, 2, 2, 1, 2, 0, 0, 2, 2, 2, 0,\n",
       "       2, 2, 2, 2, 2, 0, 2, 2, 0, 0, 2, 2, 1, 2, 2, 2, 1, 2, 0, 1, 2, 0,\n",
       "       0, 0, 2, 2, 2, 2, 0, 2, 2, 2, 2, 2, 1, 0, 1, 0, 2, 2, 2, 2, 1])"
      ]
     },
     "execution_count": 29,
     "metadata": {},
     "output_type": "execute_result"
    }
   ],
   "source": [
    "y_pred_TopButtomToThree.argmax(axis=1)"
   ]
  },
  {
   "cell_type": "code",
   "execution_count": 30,
   "metadata": {},
   "outputs": [
    {
     "data": {
      "text/plain": [
       "549"
      ]
     },
     "execution_count": 30,
     "metadata": {},
     "output_type": "execute_result"
    }
   ],
   "source": [
    "len(y_pred_TopButtomToThree.argmax(axis=1))"
   ]
  },
  {
   "cell_type": "code",
   "execution_count": 31,
   "metadata": {},
   "outputs": [
    {
     "data": {
      "text/plain": [
       "array([ 0,  0,  0,  0,  0,  0,  0,  0,  0,  0,  0,  0,  0,  0,  0,  0,  0,\n",
       "        0,  0,  0,  0,  0,  0,  0,  0,  0,  0,  0,  0,  0,  0,  0,  0,  0,\n",
       "        0,  0,  0,  0,  0,  0,  0,  0,  0,  0,  0,  0,  0,  0,  0,  0,  0,\n",
       "        0,  0,  0,  0,  0,  0,  0,  0,  0,  0,  0,  0,  0,  0,  0,  0,  0,\n",
       "        0,  0,  0,  0,  0,  0,  0,  0,  0,  0,  0,  1,  1,  1,  1,  1,  1,\n",
       "        1,  1,  1,  1,  1,  1,  1,  1,  1,  1,  1,  1,  1,  1,  1,  1,  1,\n",
       "        1,  1,  1,  1,  1,  1,  1,  1,  1,  1,  1,  1,  1,  1,  1,  1,  1,\n",
       "        1,  1,  1,  1,  1,  1,  1,  1,  1,  1,  1,  1,  1,  1,  1,  1,  1,\n",
       "        1,  1,  1,  1,  1,  1,  1,  1,  2,  2,  2,  2,  2,  2,  2,  2,  2,\n",
       "        2,  2,  2,  2,  2,  2,  2,  2,  2,  2,  2,  2,  2,  2,  2,  2,  2,\n",
       "        2,  2,  2,  2,  2,  2,  2,  2,  2,  2,  2,  2,  2,  2,  2,  2,  2,\n",
       "        2,  2,  2,  2,  2,  2,  2,  2,  2,  2,  2,  2,  2,  2,  2,  2,  2,\n",
       "        2,  2,  2,  2,  2,  2,  2,  2,  2,  2,  2,  2,  2,  2,  2,  2,  2,\n",
       "        2,  2,  2,  2,  2,  2,  2,  2,  2,  2,  3,  3,  3,  3,  3,  3,  3,\n",
       "        3,  3,  3,  3,  3,  3,  3,  3,  3,  3,  3,  3,  3,  3,  3,  3,  3,\n",
       "        3,  3,  3,  3,  3,  3,  3,  3,  3,  3,  3,  3,  3,  3,  3,  3,  3,\n",
       "        3,  3,  3,  3,  3,  3,  3,  3,  3,  3,  3,  4,  4,  4,  4,  4,  4,\n",
       "        4,  4,  4,  4,  4,  4,  4,  4,  4,  4,  4,  4,  4,  4,  4,  4,  4,\n",
       "        4,  4,  4,  4,  4,  4,  4,  4,  4,  4,  4,  4,  4,  4,  4,  4,  4,\n",
       "        4,  4,  4,  4,  4,  4,  4,  4,  4,  4,  4,  4,  4,  4,  4,  4,  4,\n",
       "        4,  4,  4,  4,  4,  4,  4,  5,  5,  5,  5,  5,  5,  5,  5,  5,  5,\n",
       "        5,  5,  5,  5,  5,  5,  5,  5,  5,  5,  5,  5,  5,  5,  5,  5,  5,\n",
       "        5,  5,  5,  5,  5,  5,  5,  5,  5,  5,  5,  5,  5,  5,  5,  5,  5,\n",
       "        5,  5,  5,  5,  5,  5,  5,  5,  5,  5,  5,  5,  5,  5,  6,  6,  6,\n",
       "        6,  6,  6,  6,  6,  6,  6,  6,  6,  6,  6,  6,  6,  6,  6,  6,  6,\n",
       "        6,  6,  6,  6,  6,  6,  6,  6,  6,  6,  6,  6,  6,  6,  8,  8,  8,\n",
       "        8,  8,  8,  8,  8,  8,  8,  9,  9,  9,  9,  9,  9,  9,  9, 10, 10,\n",
       "       10, 10, 10, 10, 11, 11, 11, 11, 11, 11, 11, 11, 11, 11, 11, 11, 11,\n",
       "       11, 11, 11, 11, 11, 11, 11, 11, 11, 11, 11, 11, 11, 11, 11, 11, 11,\n",
       "       11, 11, 11, 11, 11, 11, 11, 11, 11, 11, 11, 11, 11, 11, 11, 11, 11,\n",
       "       11, 11, 11, 11, 11, 11, 11, 11, 11, 11, 11, 11, 12, 14, 14, 14, 14,\n",
       "       14, 14, 14, 14, 14, 14, 14, 14, 14, 14, 14, 14, 14, 14, 14, 14, 14,\n",
       "       14, 14, 14, 14, 14])"
      ]
     },
     "execution_count": 31,
     "metadata": {},
     "output_type": "execute_result"
    }
   ],
   "source": [
    "y_test[y_pred_3sec.argmax(axis=1) == 0][y_pred_TopToTwo.argmax(axis=1) == 1].argmax(axis=1)"
   ]
  },
  {
   "cell_type": "code",
   "execution_count": 32,
   "metadata": {},
   "outputs": [
    {
     "data": {
      "text/plain": [
       "549"
      ]
     },
     "execution_count": 32,
     "metadata": {},
     "output_type": "execute_result"
    }
   ],
   "source": [
    "len(y_test[y_pred_3sec.argmax(axis=1) == 0][y_pred_TopToTwo.argmax(axis=1) == 1].argmax(axis=1))"
   ]
  },
  {
   "cell_type": "code",
   "execution_count": 33,
   "metadata": {},
   "outputs": [
    {
     "data": {
      "text/plain": [
       "array([2, 2, 2, 2, 2, 2, 2, 2, 2, 2, 2, 2, 2, 2, 2, 0, 2, 2, 2, 2, 2, 2,\n",
       "       2, 2, 2, 0, 2, 2, 2, 2, 2, 2, 2, 2, 2, 2, 2, 2, 2, 2, 2, 2, 2, 2,\n",
       "       2, 2, 2, 2, 2, 2, 2, 2, 2, 2, 2, 2, 2, 2, 2, 2, 2, 2, 0, 2, 2, 2,\n",
       "       2, 2, 2, 2, 2, 2, 2, 2, 2, 2, 2, 2, 2, 2, 2, 0, 2, 2, 2, 2, 2, 2,\n",
       "       2, 2, 0, 2, 2, 2, 2, 0, 2, 0, 0, 2, 0, 2, 2, 2, 2, 0, 2, 0, 2, 2,\n",
       "       2, 0, 0, 2, 2, 0, 0, 2, 0, 2, 2, 2, 2, 2, 0, 2, 0, 2, 2, 0, 0, 2,\n",
       "       1, 2, 0, 2, 0, 2, 2, 2, 2, 2, 1, 2, 2, 2, 2, 2, 2, 1, 2, 2, 2, 2,\n",
       "       2, 2, 2, 2, 2, 2, 2, 2, 2, 2, 2, 2, 2, 2, 2, 2, 2, 2, 2, 2, 2, 2,\n",
       "       2, 2, 2, 2, 2, 2, 0, 2, 2, 2, 2, 2, 1, 2, 2, 2, 2, 2, 2, 2, 2, 2,\n",
       "       2, 2, 2, 2, 2, 2, 2, 2, 2, 2, 2, 0, 2, 2, 0, 2, 2, 2, 2, 2, 2, 0,\n",
       "       2, 2, 2, 2, 2, 0, 2, 2, 2, 2, 0, 0, 0, 0, 0, 0, 0, 0, 0, 0, 0, 2,\n",
       "       0, 2, 0, 2, 0, 0, 0, 0, 2, 0, 0, 0, 0, 0, 0, 0, 0, 0, 1, 0, 0, 0,\n",
       "       0, 0, 1, 0, 0, 0, 0, 0, 1, 0, 0, 0, 0, 0, 0, 2, 0, 0, 0, 1, 1, 1,\n",
       "       1, 1, 1, 1, 1, 1, 1, 1, 1, 1, 1, 1, 1, 1, 1, 1, 1, 1, 1, 1, 1, 1,\n",
       "       1, 1, 1, 1, 1, 0, 1, 1, 1, 1, 1, 1, 1, 1, 1, 1, 1, 1, 1, 1, 1, 1,\n",
       "       1, 1, 1, 1, 1, 1, 1, 1, 1, 1, 1, 1, 1, 1, 1, 1, 1, 2, 0, 2, 2, 2,\n",
       "       2, 2, 2, 2, 2, 2, 2, 2, 2, 2, 2, 2, 2, 2, 2, 0, 0, 2, 2, 2, 2, 2,\n",
       "       2, 2, 2, 2, 2, 2, 2, 2, 2, 2, 2, 2, 2, 2, 2, 2, 2, 2, 2, 2, 2, 2,\n",
       "       2, 0, 2, 2, 2, 2, 2, 2, 2, 2, 2, 0, 2, 0, 0, 1, 2, 0, 2, 2, 2, 2,\n",
       "       2, 2, 2, 1, 0, 2, 2, 0, 2, 2, 2, 2, 2, 0, 2, 2, 2, 2, 2, 2, 2, 1,\n",
       "       1, 1, 1, 1, 2, 1, 1, 1, 1, 0, 1, 1, 1, 1, 0, 0, 1, 1, 1, 1, 1, 1,\n",
       "       1, 2, 2, 2, 0, 0, 2, 2, 2, 2, 2, 2, 2, 0, 2, 2, 2, 2, 0, 2, 2, 2,\n",
       "       0, 0, 2, 2, 2, 2, 2, 2, 2, 2, 2, 2, 2, 2, 1, 2, 0, 0, 2, 2, 2, 0,\n",
       "       2, 2, 2, 2, 2, 0, 2, 2, 0, 0, 2, 2, 1, 2, 2, 2, 1, 2, 0, 1, 2, 0,\n",
       "       0, 0, 2, 2, 2, 2, 0, 2, 2, 2, 2, 2, 1, 0, 1, 0, 2, 2, 2, 2, 1])"
      ]
     },
     "execution_count": 33,
     "metadata": {},
     "output_type": "execute_result"
    }
   ],
   "source": [
    "y_pred_TBTT = y_pred_TopButtomToThree.argmax(axis=1)\n",
    "y_pred_TBTT"
   ]
  },
  {
   "cell_type": "code",
   "execution_count": 34,
   "metadata": {},
   "outputs": [],
   "source": [
    "y_pred_TBTT[y_pred_TBTT == 0] = 3\n",
    "y_pred_TBTT[y_pred_TBTT == 1] = 4\n",
    "y_pred_TBTT[y_pred_TBTT == 2] = 5"
   ]
  },
  {
   "cell_type": "code",
   "execution_count": 35,
   "metadata": {},
   "outputs": [
    {
     "data": {
      "text/plain": [
       "array([5, 5, 5, 5, 5, 5, 5, 5, 5, 5, 5, 5, 5, 5, 5, 3, 5, 5, 5, 5, 5, 5,\n",
       "       5, 5, 5, 3, 5, 5, 5, 5, 5, 5, 5, 5, 5, 5, 5, 5, 5, 5, 5, 5, 5, 5,\n",
       "       5, 5, 5, 5, 5, 5, 5, 5, 5, 5, 5, 5, 5, 5, 5, 5, 5, 5, 3, 5, 5, 5,\n",
       "       5, 5, 5, 5, 5, 5, 5, 5, 5, 5, 5, 5, 5, 5, 5, 3, 5, 5, 5, 5, 5, 5,\n",
       "       5, 5, 3, 5, 5, 5, 5, 3, 5, 3, 3, 5, 3, 5, 5, 5, 5, 3, 5, 3, 5, 5,\n",
       "       5, 3, 3, 5, 5, 3, 3, 5, 3, 5, 5, 5, 5, 5, 3, 5, 3, 5, 5, 3, 3, 5,\n",
       "       4, 5, 3, 5, 3, 5, 5, 5, 5, 5, 4, 5, 5, 5, 5, 5, 5, 4, 5, 5, 5, 5,\n",
       "       5, 5, 5, 5, 5, 5, 5, 5, 5, 5, 5, 5, 5, 5, 5, 5, 5, 5, 5, 5, 5, 5,\n",
       "       5, 5, 5, 5, 5, 5, 3, 5, 5, 5, 5, 5, 4, 5, 5, 5, 5, 5, 5, 5, 5, 5,\n",
       "       5, 5, 5, 5, 5, 5, 5, 5, 5, 5, 5, 3, 5, 5, 3, 5, 5, 5, 5, 5, 5, 3,\n",
       "       5, 5, 5, 5, 5, 3, 5, 5, 5, 5, 3, 3, 3, 3, 3, 3, 3, 3, 3, 3, 3, 5,\n",
       "       3, 5, 3, 5, 3, 3, 3, 3, 5, 3, 3, 3, 3, 3, 3, 3, 3, 3, 4, 3, 3, 3,\n",
       "       3, 3, 4, 3, 3, 3, 3, 3, 4, 3, 3, 3, 3, 3, 3, 5, 3, 3, 3, 4, 4, 4,\n",
       "       4, 4, 4, 4, 4, 4, 4, 4, 4, 4, 4, 4, 4, 4, 4, 4, 4, 4, 4, 4, 4, 4,\n",
       "       4, 4, 4, 4, 4, 3, 4, 4, 4, 4, 4, 4, 4, 4, 4, 4, 4, 4, 4, 4, 4, 4,\n",
       "       4, 4, 4, 4, 4, 4, 4, 4, 4, 4, 4, 4, 4, 4, 4, 4, 4, 5, 3, 5, 5, 5,\n",
       "       5, 5, 5, 5, 5, 5, 5, 5, 5, 5, 5, 5, 5, 5, 5, 3, 3, 5, 5, 5, 5, 5,\n",
       "       5, 5, 5, 5, 5, 5, 5, 5, 5, 5, 5, 5, 5, 5, 5, 5, 5, 5, 5, 5, 5, 5,\n",
       "       5, 3, 5, 5, 5, 5, 5, 5, 5, 5, 5, 3, 5, 3, 3, 4, 5, 3, 5, 5, 5, 5,\n",
       "       5, 5, 5, 4, 3, 5, 5, 3, 5, 5, 5, 5, 5, 3, 5, 5, 5, 5, 5, 5, 5, 4,\n",
       "       4, 4, 4, 4, 5, 4, 4, 4, 4, 3, 4, 4, 4, 4, 3, 3, 4, 4, 4, 4, 4, 4,\n",
       "       4, 5, 5, 5, 3, 3, 5, 5, 5, 5, 5, 5, 5, 3, 5, 5, 5, 5, 3, 5, 5, 5,\n",
       "       3, 3, 5, 5, 5, 5, 5, 5, 5, 5, 5, 5, 5, 5, 4, 5, 3, 3, 5, 5, 5, 3,\n",
       "       5, 5, 5, 5, 5, 3, 5, 5, 3, 3, 5, 5, 4, 5, 5, 5, 4, 5, 3, 4, 5, 3,\n",
       "       3, 3, 5, 5, 5, 5, 3, 5, 5, 5, 5, 5, 4, 3, 4, 3, 5, 5, 5, 5, 4])"
      ]
     },
     "execution_count": 35,
     "metadata": {},
     "output_type": "execute_result"
    }
   ],
   "source": [
    "y_pred_TBTT"
   ]
  },
  {
   "cell_type": "code",
   "execution_count": 36,
   "metadata": {},
   "outputs": [
    {
     "data": {
      "text/plain": [
       "array([0, 0, 0, 0, 0, 0, 0, 0, 0, 0, 0, 0, 0, 0, 0, 0, 2, 2, 2, 2, 2, 2,\n",
       "       2, 2, 0, 0, 0, 0, 0, 0, 0, 0, 0, 0, 0, 0, 0, 0, 0, 0, 0, 0, 0, 0,\n",
       "       0, 0, 0, 0, 0, 0, 0, 0, 2, 0, 0, 0, 0, 0, 0, 0, 0, 0, 0, 0, 0, 0,\n",
       "       0, 0, 1, 1, 1, 1, 1, 1, 1, 1, 1, 1, 1, 1, 1, 1, 1, 1, 1, 1, 1, 1,\n",
       "       1, 1, 1, 1, 1, 1, 1, 1, 1, 1, 1, 1, 1, 1, 1, 1, 1, 1, 1, 1, 1, 1,\n",
       "       1, 1, 1, 1, 1, 1, 1, 1, 1, 1, 1, 1, 1, 1, 1, 1, 1, 1, 1, 1, 1, 1,\n",
       "       1, 1, 1, 1, 1, 1, 1, 1, 1, 1, 1, 1, 1, 1, 1, 1, 1, 1, 1, 1, 1, 1,\n",
       "       1, 1, 1, 2, 2, 0, 2, 2, 2, 2, 2, 2, 2, 2, 2, 2, 2, 2, 2, 2, 2, 2,\n",
       "       2, 2, 2, 2, 2, 2, 0, 2, 0, 2, 2, 2, 2, 2, 1, 1, 2, 1, 1, 1, 1, 1,\n",
       "       1, 1, 1, 1, 1, 1, 1, 2, 2, 0, 0, 0, 0, 1, 1])"
      ]
     },
     "execution_count": 36,
     "metadata": {},
     "output_type": "execute_result"
    }
   ],
   "source": [
    "y_pred_MiddleTopToThree.argmax(axis=1)"
   ]
  },
  {
   "cell_type": "code",
   "execution_count": 37,
   "metadata": {},
   "outputs": [
    {
     "data": {
      "text/plain": [
       "213"
      ]
     },
     "execution_count": 37,
     "metadata": {},
     "output_type": "execute_result"
    }
   ],
   "source": [
    "len(y_pred_MiddleTopToThree.argmax(axis=1))"
   ]
  },
  {
   "cell_type": "code",
   "execution_count": 38,
   "metadata": {},
   "outputs": [
    {
     "data": {
      "text/plain": [
       "array([ 0,  0,  0,  1,  1,  1,  1,  1,  1,  1,  1,  1,  1,  1,  1,  2,  3,\n",
       "        4,  4,  4,  4,  4,  4,  4,  5,  5,  5,  6,  6,  6,  6,  6,  6,  6,\n",
       "        6,  6,  6,  6,  6,  6,  6,  6,  6,  6,  6,  6,  6,  6,  6,  6,  6,\n",
       "        6,  6,  6,  6,  6,  6,  6,  6,  6,  6,  6,  6,  6,  6,  6,  6,  6,\n",
       "        7,  7,  7,  7,  7,  7,  7,  7,  7,  7,  7,  7,  7,  7,  7,  7,  7,\n",
       "        7,  7,  7,  7,  7,  7,  7,  7,  7,  7,  7,  7,  7,  7,  7,  7,  7,\n",
       "        7,  7,  7,  7,  7,  7,  7,  7,  7,  7,  7,  7,  7,  7,  7,  7,  7,\n",
       "        7,  7,  7,  7,  7,  7,  7,  7,  7,  7,  7,  7,  7,  7,  7,  7,  7,\n",
       "        7,  7,  7,  7,  7,  7,  7,  7,  7,  7,  7,  7,  7,  7,  7,  7,  7,\n",
       "        7,  7,  7,  7,  8,  8,  8,  8,  8,  8,  8,  8,  8,  8,  8,  8,  8,\n",
       "        8,  8,  8,  8,  9,  9,  9,  9,  9, 10, 10, 10, 10, 10, 10, 10, 10,\n",
       "       10, 10, 11, 12, 12, 12, 12, 12, 12, 12, 12, 12, 12, 12, 12, 12, 12,\n",
       "       12, 14, 14, 14, 14, 14, 14, 17, 17])"
      ]
     },
     "execution_count": 38,
     "metadata": {},
     "output_type": "execute_result"
    }
   ],
   "source": [
    "y_test[y_pred_3sec.argmax(axis=1) == 1][y_pred_MiddleToTwo.argmax(axis=1) == 0].argmax(axis=1)"
   ]
  },
  {
   "cell_type": "code",
   "execution_count": 39,
   "metadata": {},
   "outputs": [
    {
     "data": {
      "text/plain": [
       "213"
      ]
     },
     "execution_count": 39,
     "metadata": {},
     "output_type": "execute_result"
    }
   ],
   "source": [
    "len(y_test[y_pred_3sec.argmax(axis=1) == 1][y_pred_MiddleToTwo.argmax(axis=1) == 0].argmax(axis=1))"
   ]
  },
  {
   "cell_type": "code",
   "execution_count": 40,
   "metadata": {},
   "outputs": [
    {
     "data": {
      "text/plain": [
       "array([0, 0, 0, 0, 0, 0, 0, 0, 0, 0, 0, 0, 0, 0, 0, 0, 2, 2, 2, 2, 2, 2,\n",
       "       2, 2, 0, 0, 0, 0, 0, 0, 0, 0, 0, 0, 0, 0, 0, 0, 0, 0, 0, 0, 0, 0,\n",
       "       0, 0, 0, 0, 0, 0, 0, 0, 2, 0, 0, 0, 0, 0, 0, 0, 0, 0, 0, 0, 0, 0,\n",
       "       0, 0, 1, 1, 1, 1, 1, 1, 1, 1, 1, 1, 1, 1, 1, 1, 1, 1, 1, 1, 1, 1,\n",
       "       1, 1, 1, 1, 1, 1, 1, 1, 1, 1, 1, 1, 1, 1, 1, 1, 1, 1, 1, 1, 1, 1,\n",
       "       1, 1, 1, 1, 1, 1, 1, 1, 1, 1, 1, 1, 1, 1, 1, 1, 1, 1, 1, 1, 1, 1,\n",
       "       1, 1, 1, 1, 1, 1, 1, 1, 1, 1, 1, 1, 1, 1, 1, 1, 1, 1, 1, 1, 1, 1,\n",
       "       1, 1, 1, 2, 2, 0, 2, 2, 2, 2, 2, 2, 2, 2, 2, 2, 2, 2, 2, 2, 2, 2,\n",
       "       2, 2, 2, 2, 2, 2, 0, 2, 0, 2, 2, 2, 2, 2, 1, 1, 2, 1, 1, 1, 1, 1,\n",
       "       1, 1, 1, 1, 1, 1, 1, 2, 2, 0, 0, 0, 0, 1, 1])"
      ]
     },
     "execution_count": 40,
     "metadata": {},
     "output_type": "execute_result"
    }
   ],
   "source": [
    "y_pred_MTTT = y_pred_MiddleTopToThree.argmax(axis=1)\n",
    "y_pred_MTTT"
   ]
  },
  {
   "cell_type": "code",
   "execution_count": 41,
   "metadata": {},
   "outputs": [
    {
     "data": {
      "text/plain": [
       "array([6, 6, 6, 6, 6, 6, 6, 6, 6, 6, 6, 6, 6, 6, 6, 6, 8, 8, 8, 8, 8, 8,\n",
       "       8, 8, 6, 6, 6, 6, 6, 6, 6, 6, 6, 6, 6, 6, 6, 6, 6, 6, 6, 6, 6, 6,\n",
       "       6, 6, 6, 6, 6, 6, 6, 6, 8, 6, 6, 6, 6, 6, 6, 6, 6, 6, 6, 6, 6, 6,\n",
       "       6, 6, 7, 7, 7, 7, 7, 7, 7, 7, 7, 7, 7, 7, 7, 7, 7, 7, 7, 7, 7, 7,\n",
       "       7, 7, 7, 7, 7, 7, 7, 7, 7, 7, 7, 7, 7, 7, 7, 7, 7, 7, 7, 7, 7, 7,\n",
       "       7, 7, 7, 7, 7, 7, 7, 7, 7, 7, 7, 7, 7, 7, 7, 7, 7, 7, 7, 7, 7, 7,\n",
       "       7, 7, 7, 7, 7, 7, 7, 7, 7, 7, 7, 7, 7, 7, 7, 7, 7, 7, 7, 7, 7, 7,\n",
       "       7, 7, 7, 8, 8, 6, 8, 8, 8, 8, 8, 8, 8, 8, 8, 8, 8, 8, 8, 8, 8, 8,\n",
       "       8, 8, 8, 8, 8, 8, 6, 8, 6, 8, 8, 8, 8, 8, 7, 7, 8, 7, 7, 7, 7, 7,\n",
       "       7, 7, 7, 7, 7, 7, 7, 8, 8, 6, 6, 6, 6, 7, 7])"
      ]
     },
     "execution_count": 41,
     "metadata": {},
     "output_type": "execute_result"
    }
   ],
   "source": [
    "y_pred_MTTT[y_pred_MTTT == 0] = 6\n",
    "y_pred_MTTT[y_pred_MTTT == 1] = 7\n",
    "y_pred_MTTT[y_pred_MTTT == 2] = 8\n",
    "y_pred_MTTT"
   ]
  },
  {
   "cell_type": "code",
   "execution_count": 42,
   "metadata": {},
   "outputs": [
    {
     "data": {
      "text/plain": [
       "array([2, 2, 2, 2, 2, 2, 2, 2, 2, 2, 2, 2, 2, 1, 2, 2, 2, 2, 2, 2, 2, 2,\n",
       "       2, 2, 2, 2, 1, 2, 2, 2, 2, 2, 2, 2, 2, 1, 1, 1, 1, 1, 1, 1, 1, 0,\n",
       "       0, 0, 0, 2, 1, 2, 2, 1, 0, 2, 0, 1, 1, 1, 1, 2, 2, 0, 2, 2, 2, 2,\n",
       "       0, 1, 1, 1, 2, 2, 2, 0, 2, 1, 1, 0, 0, 0, 1, 1, 1, 0, 0, 1, 1, 1,\n",
       "       1, 0, 1, 1, 1, 1, 1, 1, 1, 1, 1, 1, 1, 0, 1, 1, 0, 1, 0, 1, 0, 1,\n",
       "       0, 1, 1, 1, 0, 1, 1, 1, 1, 1, 1, 0, 1, 1, 0, 0, 1, 0, 1, 1, 0, 1,\n",
       "       1, 1, 1, 1, 1, 1, 1, 1, 1, 0, 1, 1, 1, 0, 0, 0, 1, 0, 1, 0, 0, 0,\n",
       "       0, 0, 0, 0, 0, 0, 0, 0, 1, 0, 0, 0, 0, 0, 1, 0, 1, 0, 1, 0, 0, 0,\n",
       "       1, 0, 0, 0, 0, 0, 0, 0, 2, 2, 0, 0, 0, 0, 0, 0, 0, 0, 0, 0, 0, 0,\n",
       "       1, 0, 0, 0, 0, 0, 0, 0, 0, 0, 0, 0, 0, 0, 0, 0, 0, 0, 1, 1, 0, 0,\n",
       "       0, 0, 0, 1, 0, 1, 1, 1, 1, 1, 0, 1, 1, 1, 1, 1, 1, 1, 1, 1, 1, 1,\n",
       "       1, 1, 1, 1, 1, 1, 2, 1, 1, 1, 1, 1, 1, 1, 1, 0, 0, 1, 1, 1, 1, 1,\n",
       "       1, 1, 1, 1, 1, 1, 1, 1, 1, 1, 1, 1, 1, 0, 1, 0, 0, 1, 0, 0, 0, 1,\n",
       "       1, 1, 1, 1, 0, 1, 0, 1, 1, 1, 1, 1, 0, 1, 1, 2, 2, 1, 1, 2, 2, 0,\n",
       "       2, 2, 1, 2, 2, 0, 2, 2, 2, 2, 1, 2, 2, 2, 2, 2, 2, 2, 0, 0, 2, 2,\n",
       "       1, 1, 1, 2, 1, 1, 0, 1, 0, 1, 1, 0, 1, 0, 0, 1, 0, 1, 0, 1, 1, 2,\n",
       "       0, 0, 1, 2, 2, 1, 0, 0, 0, 0, 0, 2, 1, 0, 2, 0])"
      ]
     },
     "execution_count": 42,
     "metadata": {},
     "output_type": "execute_result"
    }
   ],
   "source": [
    "y_pred_MiddleButtomToThree.argmax(axis=1)"
   ]
  },
  {
   "cell_type": "code",
   "execution_count": 43,
   "metadata": {},
   "outputs": [
    {
     "data": {
      "text/plain": [
       "368"
      ]
     },
     "execution_count": 43,
     "metadata": {},
     "output_type": "execute_result"
    }
   ],
   "source": [
    "len(y_pred_MiddleButtomToThree.argmax(axis=1))"
   ]
  },
  {
   "cell_type": "code",
   "execution_count": 44,
   "metadata": {},
   "outputs": [
    {
     "data": {
      "text/plain": [
       "array([ 0,  0,  0,  0,  0,  0,  0,  0,  0,  0,  0,  0,  1,  1,  1,  1,  1,\n",
       "        2,  2,  2,  3,  3,  3,  3,  3,  3,  3,  3,  3,  3,  3,  3,  3,  3,\n",
       "        3,  3,  4,  4,  4,  4,  4,  4,  4,  4,  4,  4,  4,  4,  4,  4,  4,\n",
       "        4,  4,  4,  4,  4,  4,  4,  4,  5,  5,  5,  6,  6,  6,  6,  6,  6,\n",
       "        6,  6,  6,  6,  6,  6,  6,  7,  7,  7,  8,  8,  8,  8,  8,  8,  8,\n",
       "        8,  8,  8,  8,  8,  8,  8,  8,  8,  8,  8,  8,  8,  8,  8,  8,  8,\n",
       "        8,  8,  8,  8,  8,  8,  8,  8,  8,  8,  8,  8,  8,  8,  8,  8,  8,\n",
       "        8,  8,  8,  8,  8,  8,  8,  8,  8,  8,  8,  8,  8,  8,  8,  8,  8,\n",
       "        8,  8,  8,  8,  8,  8,  8,  8,  8,  9,  9,  9,  9,  9,  9,  9,  9,\n",
       "        9,  9,  9,  9,  9,  9,  9,  9,  9,  9,  9,  9,  9,  9,  9,  9,  9,\n",
       "        9,  9,  9,  9,  9,  9,  9,  9,  9,  9,  9,  9,  9,  9,  9,  9,  9,\n",
       "        9,  9,  9,  9,  9,  9,  9,  9,  9,  9,  9,  9,  9,  9,  9,  9,  9,\n",
       "        9,  9,  9,  9,  9,  9,  9,  9,  9,  9,  9,  9,  9,  9,  9,  9,  9,\n",
       "        9,  9,  9,  9, 10, 10, 10, 10, 10, 10, 10, 10, 10, 10, 10, 10, 10,\n",
       "       10, 10, 10, 10, 10, 10, 10, 10, 10, 10, 10, 10, 10, 10, 10, 10, 10,\n",
       "       10, 10, 10, 10, 10, 10, 10, 10, 10, 10, 10, 10, 10, 10, 10, 10, 10,\n",
       "       10, 10, 10, 10, 10, 10, 10, 10, 10, 10, 10, 10, 10, 10, 10, 10, 10,\n",
       "       10, 10, 10, 10, 10, 10, 10, 10, 10, 10, 10, 10, 11, 11, 11, 11, 11,\n",
       "       11, 11, 11, 11, 11, 11, 11, 11, 11, 11, 11, 11, 11, 11, 11, 11, 11,\n",
       "       11, 11, 11, 11, 11, 11, 11, 12, 12, 13, 14, 14, 14, 14, 14, 14, 14,\n",
       "       14, 14, 14, 14, 14, 14, 14, 14, 14, 14, 14, 14, 14, 14, 14, 14, 14,\n",
       "       14, 14, 14, 14, 14, 14, 14, 14, 14, 14, 14])"
      ]
     },
     "execution_count": 44,
     "metadata": {},
     "output_type": "execute_result"
    }
   ],
   "source": [
    "y_test[y_pred_3sec.argmax(axis=1) == 1][y_pred_MiddleToTwo.argmax(axis=1) == 1].argmax(axis=1)"
   ]
  },
  {
   "cell_type": "code",
   "execution_count": 45,
   "metadata": {},
   "outputs": [
    {
     "data": {
      "text/plain": [
       "368"
      ]
     },
     "execution_count": 45,
     "metadata": {},
     "output_type": "execute_result"
    }
   ],
   "source": [
    "len(y_test[y_pred_3sec.argmax(axis=1) == 1][y_pred_MiddleToTwo.argmax(axis=1) == 1].argmax(axis=1))"
   ]
  },
  {
   "cell_type": "code",
   "execution_count": 46,
   "metadata": {},
   "outputs": [
    {
     "data": {
      "text/plain": [
       "array([2, 2, 2, 2, 2, 2, 2, 2, 2, 2, 2, 2, 2, 1, 2, 2, 2, 2, 2, 2, 2, 2,\n",
       "       2, 2, 2, 2, 1, 2, 2, 2, 2, 2, 2, 2, 2, 1, 1, 1, 1, 1, 1, 1, 1, 0,\n",
       "       0, 0, 0, 2, 1, 2, 2, 1, 0, 2, 0, 1, 1, 1, 1, 2, 2, 0, 2, 2, 2, 2,\n",
       "       0, 1, 1, 1, 2, 2, 2, 0, 2, 1, 1, 0, 0, 0, 1, 1, 1, 0, 0, 1, 1, 1,\n",
       "       1, 0, 1, 1, 1, 1, 1, 1, 1, 1, 1, 1, 1, 0, 1, 1, 0, 1, 0, 1, 0, 1,\n",
       "       0, 1, 1, 1, 0, 1, 1, 1, 1, 1, 1, 0, 1, 1, 0, 0, 1, 0, 1, 1, 0, 1,\n",
       "       1, 1, 1, 1, 1, 1, 1, 1, 1, 0, 1, 1, 1, 0, 0, 0, 1, 0, 1, 0, 0, 0,\n",
       "       0, 0, 0, 0, 0, 0, 0, 0, 1, 0, 0, 0, 0, 0, 1, 0, 1, 0, 1, 0, 0, 0,\n",
       "       1, 0, 0, 0, 0, 0, 0, 0, 2, 2, 0, 0, 0, 0, 0, 0, 0, 0, 0, 0, 0, 0,\n",
       "       1, 0, 0, 0, 0, 0, 0, 0, 0, 0, 0, 0, 0, 0, 0, 0, 0, 0, 1, 1, 0, 0,\n",
       "       0, 0, 0, 1, 0, 1, 1, 1, 1, 1, 0, 1, 1, 1, 1, 1, 1, 1, 1, 1, 1, 1,\n",
       "       1, 1, 1, 1, 1, 1, 2, 1, 1, 1, 1, 1, 1, 1, 1, 0, 0, 1, 1, 1, 1, 1,\n",
       "       1, 1, 1, 1, 1, 1, 1, 1, 1, 1, 1, 1, 1, 0, 1, 0, 0, 1, 0, 0, 0, 1,\n",
       "       1, 1, 1, 1, 0, 1, 0, 1, 1, 1, 1, 1, 0, 1, 1, 2, 2, 1, 1, 2, 2, 0,\n",
       "       2, 2, 1, 2, 2, 0, 2, 2, 2, 2, 1, 2, 2, 2, 2, 2, 2, 2, 0, 0, 2, 2,\n",
       "       1, 1, 1, 2, 1, 1, 0, 1, 0, 1, 1, 0, 1, 0, 0, 1, 0, 1, 0, 1, 1, 2,\n",
       "       0, 0, 1, 2, 2, 1, 0, 0, 0, 0, 0, 2, 1, 0, 2, 0])"
      ]
     },
     "execution_count": 46,
     "metadata": {},
     "output_type": "execute_result"
    }
   ],
   "source": [
    "y_pred_MBTT = y_pred_MiddleButtomToThree.argmax(axis=1)\n",
    "y_pred_MBTT"
   ]
  },
  {
   "cell_type": "code",
   "execution_count": 47,
   "metadata": {},
   "outputs": [
    {
     "data": {
      "text/plain": [
       "array([11, 11, 11, 11, 11, 11, 11, 11, 11, 11, 11, 11, 11, 10, 11, 11, 11,\n",
       "       11, 11, 11, 11, 11, 11, 11, 11, 11, 10, 11, 11, 11, 11, 11, 11, 11,\n",
       "       11, 10, 10, 10, 10, 10, 10, 10, 10,  9,  9,  9,  9, 11, 10, 11, 11,\n",
       "       10,  9, 11,  9, 10, 10, 10, 10, 11, 11,  9, 11, 11, 11, 11,  9, 10,\n",
       "       10, 10, 11, 11, 11,  9, 11, 10, 10,  9,  9,  9, 10, 10, 10,  9,  9,\n",
       "       10, 10, 10, 10,  9, 10, 10, 10, 10, 10, 10, 10, 10, 10, 10, 10,  9,\n",
       "       10, 10,  9, 10,  9, 10,  9, 10,  9, 10, 10, 10,  9, 10, 10, 10, 10,\n",
       "       10, 10,  9, 10, 10,  9,  9, 10,  9, 10, 10,  9, 10, 10, 10, 10, 10,\n",
       "       10, 10, 10, 10, 10,  9, 10, 10, 10,  9,  9,  9, 10,  9, 10,  9,  9,\n",
       "        9,  9,  9,  9,  9,  9,  9,  9,  9, 10,  9,  9,  9,  9,  9, 10,  9,\n",
       "       10,  9, 10,  9,  9,  9, 10,  9,  9,  9,  9,  9,  9,  9, 11, 11,  9,\n",
       "        9,  9,  9,  9,  9,  9,  9,  9,  9,  9,  9, 10,  9,  9,  9,  9,  9,\n",
       "        9,  9,  9,  9,  9,  9,  9,  9,  9,  9,  9,  9, 10, 10,  9,  9,  9,\n",
       "        9,  9, 10,  9, 10, 10, 10, 10, 10,  9, 10, 10, 10, 10, 10, 10, 10,\n",
       "       10, 10, 10, 10, 10, 10, 10, 10, 10, 10, 11, 10, 10, 10, 10, 10, 10,\n",
       "       10, 10,  9,  9, 10, 10, 10, 10, 10, 10, 10, 10, 10, 10, 10, 10, 10,\n",
       "       10, 10, 10, 10, 10,  9, 10,  9,  9, 10,  9,  9,  9, 10, 10, 10, 10,\n",
       "       10,  9, 10,  9, 10, 10, 10, 10, 10,  9, 10, 10, 11, 11, 10, 10, 11,\n",
       "       11,  9, 11, 11, 10, 11, 11,  9, 11, 11, 11, 11, 10, 11, 11, 11, 11,\n",
       "       11, 11, 11,  9,  9, 11, 11, 10, 10, 10, 11, 10, 10,  9, 10,  9, 10,\n",
       "       10,  9, 10,  9,  9, 10,  9, 10,  9, 10, 10, 11,  9,  9, 10, 11, 11,\n",
       "       10,  9,  9,  9,  9,  9, 11, 10,  9, 11,  9])"
      ]
     },
     "execution_count": 47,
     "metadata": {},
     "output_type": "execute_result"
    }
   ],
   "source": [
    "y_pred_MBTT[y_pred_MBTT == 0] = 9\n",
    "y_pred_MBTT[y_pred_MBTT == 1] = 10\n",
    "y_pred_MBTT[y_pred_MBTT == 2] = 11\n",
    "y_pred_MBTT"
   ]
  },
  {
   "cell_type": "code",
   "execution_count": 48,
   "metadata": {},
   "outputs": [
    {
     "data": {
      "text/plain": [
       "array([2, 2, 2, 2, 2, 2, 2, 2, 2, 2, 2, 2, 0, 0, 2, 2, 2, 2, 2, 2, 2, 0,\n",
       "       0, 0, 0, 1, 0, 0, 0, 0, 0, 0, 0, 0, 0, 0, 0, 0, 0, 0, 0, 0, 0, 0,\n",
       "       0, 0, 0, 0, 0, 0, 0, 0, 0, 0, 0, 0, 0, 0, 0, 0, 0, 1, 0, 0, 0, 0,\n",
       "       0, 0, 0, 0, 1, 0, 0, 0, 0, 0, 0, 0, 0, 0, 0, 0, 0, 0, 0, 0, 0, 0,\n",
       "       0, 0, 0, 0, 0, 0, 0, 0, 0, 1, 0, 0, 1, 0, 1, 1, 1, 1, 0, 1, 1, 1,\n",
       "       1, 1, 1, 1, 1, 1, 1, 0, 1, 1, 1, 1, 1, 1, 1, 1, 1, 1, 1, 1, 1, 1,\n",
       "       1, 1, 1, 1, 1, 1, 1, 1, 1, 1, 1, 1, 1, 1, 1, 1, 1, 1, 1, 1, 1, 1,\n",
       "       1, 1, 1, 1, 1, 1, 1, 1, 1, 1, 1, 1, 1, 1, 1, 1, 1, 1, 1, 1, 1, 1,\n",
       "       1, 1, 1, 0, 1, 2, 2, 2, 2, 2, 2, 2, 2, 2, 2, 2, 2, 2, 2, 2, 2, 2,\n",
       "       2, 2, 2, 2, 0, 0, 0, 1, 1, 1, 1, 0])"
      ]
     },
     "execution_count": 48,
     "metadata": {},
     "output_type": "execute_result"
    }
   ],
   "source": [
    "y_pred_ButtomTopToThree.argmax(axis=1)"
   ]
  },
  {
   "cell_type": "code",
   "execution_count": 49,
   "metadata": {},
   "outputs": [
    {
     "data": {
      "text/plain": [
       "210"
      ]
     },
     "execution_count": 49,
     "metadata": {},
     "output_type": "execute_result"
    }
   ],
   "source": [
    "len(y_pred_ButtomTopToThree.argmax(axis=1))"
   ]
  },
  {
   "cell_type": "code",
   "execution_count": 50,
   "metadata": {},
   "outputs": [
    {
     "data": {
      "text/plain": [
       "array([ 1,  1,  1,  1,  3,  5,  5,  5,  5,  5,  5,  6,  7,  7,  9, 10, 10,\n",
       "       11, 11, 11, 11, 12, 12, 12, 12, 12, 12, 12, 12, 12, 12, 12, 12, 12,\n",
       "       12, 12, 12, 12, 12, 12, 12, 12, 12, 12, 12, 12, 12, 12, 12, 12, 12,\n",
       "       12, 12, 12, 12, 12, 12, 12, 12, 12, 12, 12, 12, 12, 12, 12, 12, 12,\n",
       "       12, 12, 12, 12, 12, 12, 12, 12, 12, 12, 12, 12, 12, 12, 12, 12, 12,\n",
       "       12, 12, 12, 12, 12, 12, 12, 12, 12, 12, 12, 12, 13, 13, 13, 13, 13,\n",
       "       13, 13, 13, 13, 13, 13, 13, 13, 13, 13, 13, 13, 13, 13, 13, 13, 13,\n",
       "       13, 13, 13, 13, 13, 13, 13, 13, 13, 13, 13, 13, 13, 13, 13, 13, 13,\n",
       "       13, 13, 13, 13, 13, 13, 13, 13, 13, 13, 13, 13, 13, 13, 13, 13, 13,\n",
       "       13, 13, 13, 13, 13, 13, 13, 13, 13, 13, 13, 13, 13, 13, 13, 13, 13,\n",
       "       13, 13, 13, 13, 13, 13, 13, 13, 13, 13, 13, 14, 14, 14, 14, 14, 14,\n",
       "       14, 14, 14, 14, 14, 14, 14, 14, 14, 14, 14, 14, 14, 14, 14, 17, 17,\n",
       "       17, 17, 17, 17, 17, 17])"
      ]
     },
     "execution_count": 50,
     "metadata": {},
     "output_type": "execute_result"
    }
   ],
   "source": [
    "y_test[y_pred_3sec.argmax(axis=1) == 2][y_pred_ButtomToTwo.argmax(axis=1) == 0].argmax(axis=1)"
   ]
  },
  {
   "cell_type": "code",
   "execution_count": 51,
   "metadata": {},
   "outputs": [
    {
     "data": {
      "text/plain": [
       "210"
      ]
     },
     "execution_count": 51,
     "metadata": {},
     "output_type": "execute_result"
    }
   ],
   "source": [
    "len(y_test[y_pred_3sec.argmax(axis=1) == 2][y_pred_ButtomToTwo.argmax(axis=1) == 0].argmax(axis=1))"
   ]
  },
  {
   "cell_type": "code",
   "execution_count": 52,
   "metadata": {},
   "outputs": [
    {
     "data": {
      "text/plain": [
       "array([2, 2, 2, 2, 2, 2, 2, 2, 2, 2, 2, 2, 0, 0, 2, 2, 2, 2, 2, 2, 2, 0,\n",
       "       0, 0, 0, 1, 0, 0, 0, 0, 0, 0, 0, 0, 0, 0, 0, 0, 0, 0, 0, 0, 0, 0,\n",
       "       0, 0, 0, 0, 0, 0, 0, 0, 0, 0, 0, 0, 0, 0, 0, 0, 0, 1, 0, 0, 0, 0,\n",
       "       0, 0, 0, 0, 1, 0, 0, 0, 0, 0, 0, 0, 0, 0, 0, 0, 0, 0, 0, 0, 0, 0,\n",
       "       0, 0, 0, 0, 0, 0, 0, 0, 0, 1, 0, 0, 1, 0, 1, 1, 1, 1, 0, 1, 1, 1,\n",
       "       1, 1, 1, 1, 1, 1, 1, 0, 1, 1, 1, 1, 1, 1, 1, 1, 1, 1, 1, 1, 1, 1,\n",
       "       1, 1, 1, 1, 1, 1, 1, 1, 1, 1, 1, 1, 1, 1, 1, 1, 1, 1, 1, 1, 1, 1,\n",
       "       1, 1, 1, 1, 1, 1, 1, 1, 1, 1, 1, 1, 1, 1, 1, 1, 1, 1, 1, 1, 1, 1,\n",
       "       1, 1, 1, 0, 1, 2, 2, 2, 2, 2, 2, 2, 2, 2, 2, 2, 2, 2, 2, 2, 2, 2,\n",
       "       2, 2, 2, 2, 0, 0, 0, 1, 1, 1, 1, 0])"
      ]
     },
     "execution_count": 52,
     "metadata": {},
     "output_type": "execute_result"
    }
   ],
   "source": [
    "y_pred_BTTT = y_pred_ButtomTopToThree.argmax(axis=1)\n",
    "y_pred_BTTT"
   ]
  },
  {
   "cell_type": "code",
   "execution_count": 53,
   "metadata": {},
   "outputs": [
    {
     "data": {
      "text/plain": [
       "array([14, 14, 14, 14, 14, 14, 14, 14, 14, 14, 14, 14, 12, 12, 14, 14, 14,\n",
       "       14, 14, 14, 14, 12, 12, 12, 12, 13, 12, 12, 12, 12, 12, 12, 12, 12,\n",
       "       12, 12, 12, 12, 12, 12, 12, 12, 12, 12, 12, 12, 12, 12, 12, 12, 12,\n",
       "       12, 12, 12, 12, 12, 12, 12, 12, 12, 12, 13, 12, 12, 12, 12, 12, 12,\n",
       "       12, 12, 13, 12, 12, 12, 12, 12, 12, 12, 12, 12, 12, 12, 12, 12, 12,\n",
       "       12, 12, 12, 12, 12, 12, 12, 12, 12, 12, 12, 12, 13, 12, 12, 13, 12,\n",
       "       13, 13, 13, 13, 12, 13, 13, 13, 13, 13, 13, 13, 13, 13, 13, 12, 13,\n",
       "       13, 13, 13, 13, 13, 13, 13, 13, 13, 13, 13, 13, 13, 13, 13, 13, 13,\n",
       "       13, 13, 13, 13, 13, 13, 13, 13, 13, 13, 13, 13, 13, 13, 13, 13, 13,\n",
       "       13, 13, 13, 13, 13, 13, 13, 13, 13, 13, 13, 13, 13, 13, 13, 13, 13,\n",
       "       13, 13, 13, 13, 13, 13, 13, 13, 13, 12, 13, 14, 14, 14, 14, 14, 14,\n",
       "       14, 14, 14, 14, 14, 14, 14, 14, 14, 14, 14, 14, 14, 14, 14, 12, 12,\n",
       "       12, 13, 13, 13, 13, 12])"
      ]
     },
     "execution_count": 53,
     "metadata": {},
     "output_type": "execute_result"
    }
   ],
   "source": [
    "y_pred_BTTT[y_pred_BTTT == 0] = 12\n",
    "y_pred_BTTT[y_pred_BTTT == 1] = 13\n",
    "y_pred_BTTT[y_pred_BTTT == 2] = 14\n",
    "y_pred_BTTT"
   ]
  },
  {
   "cell_type": "code",
   "execution_count": 54,
   "metadata": {},
   "outputs": [
    {
     "data": {
      "text/plain": [
       "array([2, 0, 2, 2, 2, 0, 2, 0, 2, 0, 0, 0, 0, 0, 0, 0, 0, 0, 0, 0, 0, 0,\n",
       "       0, 0, 0, 0, 0, 0, 0, 0, 0, 0, 0, 0, 0, 0, 0, 0, 0, 0, 0, 0, 0, 0,\n",
       "       0, 0, 0, 0, 0, 0, 0, 0, 0, 0, 0, 0, 0, 0, 0, 0, 0, 0, 0, 0, 0, 0,\n",
       "       0, 0, 0, 0, 0, 0, 0, 0, 0, 0, 0, 0, 0, 0, 0, 0, 0, 0, 0, 0, 0, 0,\n",
       "       0, 0, 0, 0, 0, 0, 0, 0, 0, 0, 0, 0, 0, 0, 0, 1, 1, 1, 1, 1, 1, 1,\n",
       "       1, 1, 1, 1, 1, 1, 1, 1, 1, 1, 1, 1, 1, 1, 1, 1, 0, 1, 1, 1, 1, 1,\n",
       "       1, 1, 1, 1, 1, 1, 1, 1, 1, 1, 1, 1, 1, 1, 1, 1, 1, 1, 1, 1, 1, 1,\n",
       "       1, 1, 1, 1, 1, 1, 1, 1, 1, 1, 1, 1, 1, 0, 1, 1, 1, 1, 1, 1, 1, 1,\n",
       "       1, 1, 1, 1, 1, 1, 1, 1, 1, 1, 1, 1, 1, 1, 1, 1, 1, 1, 1, 1, 1, 2,\n",
       "       2, 2, 2, 2, 2, 2, 2, 2, 2, 2, 2, 2, 2, 2, 2, 2, 2, 2, 2, 2, 2, 2,\n",
       "       2, 2, 2, 2, 2, 2, 2, 2, 2, 2, 2, 2, 2, 2, 2, 2, 2, 2, 2, 2, 2, 2,\n",
       "       2, 2, 2, 2, 2, 2, 2, 2, 2, 2, 2, 2, 2, 2, 2, 2, 2, 2, 2, 2, 2, 2,\n",
       "       2, 2, 2, 2, 2, 2, 2, 2, 2, 2, 2, 2, 2, 2, 2, 2, 2])"
      ]
     },
     "execution_count": 54,
     "metadata": {},
     "output_type": "execute_result"
    }
   ],
   "source": [
    "y_pred_ButtomButtomToThree.argmax(axis=1)"
   ]
  },
  {
   "cell_type": "code",
   "execution_count": 55,
   "metadata": {},
   "outputs": [
    {
     "data": {
      "text/plain": [
       "281"
      ]
     },
     "execution_count": 55,
     "metadata": {},
     "output_type": "execute_result"
    }
   ],
   "source": [
    "len(y_pred_ButtomButtomToThree.argmax(axis=1))"
   ]
  },
  {
   "cell_type": "code",
   "execution_count": 56,
   "metadata": {},
   "outputs": [
    {
     "data": {
      "text/plain": [
       "array([13, 13, 13, 13, 13, 13, 13, 13, 13, 15, 15, 15, 15, 15, 15, 15, 15,\n",
       "       15, 15, 15, 15, 15, 15, 15, 15, 15, 15, 15, 15, 15, 15, 15, 15, 15,\n",
       "       15, 15, 15, 15, 15, 15, 15, 15, 15, 15, 15, 15, 15, 15, 15, 15, 15,\n",
       "       15, 15, 15, 15, 15, 15, 15, 15, 15, 15, 15, 15, 15, 15, 15, 15, 15,\n",
       "       15, 15, 15, 15, 15, 15, 15, 15, 15, 15, 15, 15, 15, 15, 15, 15, 15,\n",
       "       15, 15, 15, 15, 15, 15, 15, 15, 15, 15, 15, 15, 15, 15, 15, 15, 15,\n",
       "       15, 16, 16, 16, 16, 16, 16, 16, 16, 16, 16, 16, 16, 16, 16, 16, 16,\n",
       "       16, 16, 16, 16, 16, 16, 16, 16, 16, 16, 16, 16, 16, 16, 16, 16, 16,\n",
       "       16, 16, 16, 16, 16, 16, 16, 16, 16, 16, 16, 16, 16, 16, 16, 16, 16,\n",
       "       16, 16, 16, 16, 16, 16, 16, 16, 16, 16, 16, 16, 16, 16, 16, 16, 16,\n",
       "       16, 16, 16, 16, 16, 16, 16, 16, 16, 16, 16, 16, 16, 16, 16, 16, 16,\n",
       "       16, 16, 16, 16, 16, 16, 16, 16, 16, 16, 17, 17, 17, 17, 17, 17, 17,\n",
       "       17, 17, 17, 17, 17, 17, 17, 17, 17, 17, 17, 17, 17, 17, 17, 17, 17,\n",
       "       17, 17, 17, 17, 17, 17, 17, 17, 17, 17, 17, 17, 17, 17, 17, 17, 17,\n",
       "       17, 17, 17, 17, 17, 17, 17, 17, 17, 17, 17, 17, 17, 17, 17, 17, 17,\n",
       "       17, 17, 17, 17, 17, 17, 17, 17, 17, 17, 17, 17, 17, 17, 17, 17, 17,\n",
       "       17, 17, 17, 17, 17, 17, 17, 17, 17])"
      ]
     },
     "execution_count": 56,
     "metadata": {},
     "output_type": "execute_result"
    }
   ],
   "source": [
    "y_test[y_pred_3sec.argmax(axis=1) == 2][y_pred_ButtomToTwo.argmax(axis=1) == 1].argmax(axis=1)"
   ]
  },
  {
   "cell_type": "code",
   "execution_count": 57,
   "metadata": {},
   "outputs": [
    {
     "data": {
      "text/plain": [
       "281"
      ]
     },
     "execution_count": 57,
     "metadata": {},
     "output_type": "execute_result"
    }
   ],
   "source": [
    "len(y_test[y_pred_3sec.argmax(axis=1) == 2][y_pred_ButtomToTwo.argmax(axis=1) == 1].argmax(axis=1))"
   ]
  },
  {
   "cell_type": "code",
   "execution_count": 58,
   "metadata": {},
   "outputs": [
    {
     "data": {
      "text/plain": [
       "array([2, 0, 2, 2, 2, 0, 2, 0, 2, 0, 0, 0, 0, 0, 0, 0, 0, 0, 0, 0, 0, 0,\n",
       "       0, 0, 0, 0, 0, 0, 0, 0, 0, 0, 0, 0, 0, 0, 0, 0, 0, 0, 0, 0, 0, 0,\n",
       "       0, 0, 0, 0, 0, 0, 0, 0, 0, 0, 0, 0, 0, 0, 0, 0, 0, 0, 0, 0, 0, 0,\n",
       "       0, 0, 0, 0, 0, 0, 0, 0, 0, 0, 0, 0, 0, 0, 0, 0, 0, 0, 0, 0, 0, 0,\n",
       "       0, 0, 0, 0, 0, 0, 0, 0, 0, 0, 0, 0, 0, 0, 0, 1, 1, 1, 1, 1, 1, 1,\n",
       "       1, 1, 1, 1, 1, 1, 1, 1, 1, 1, 1, 1, 1, 1, 1, 1, 0, 1, 1, 1, 1, 1,\n",
       "       1, 1, 1, 1, 1, 1, 1, 1, 1, 1, 1, 1, 1, 1, 1, 1, 1, 1, 1, 1, 1, 1,\n",
       "       1, 1, 1, 1, 1, 1, 1, 1, 1, 1, 1, 1, 1, 0, 1, 1, 1, 1, 1, 1, 1, 1,\n",
       "       1, 1, 1, 1, 1, 1, 1, 1, 1, 1, 1, 1, 1, 1, 1, 1, 1, 1, 1, 1, 1, 2,\n",
       "       2, 2, 2, 2, 2, 2, 2, 2, 2, 2, 2, 2, 2, 2, 2, 2, 2, 2, 2, 2, 2, 2,\n",
       "       2, 2, 2, 2, 2, 2, 2, 2, 2, 2, 2, 2, 2, 2, 2, 2, 2, 2, 2, 2, 2, 2,\n",
       "       2, 2, 2, 2, 2, 2, 2, 2, 2, 2, 2, 2, 2, 2, 2, 2, 2, 2, 2, 2, 2, 2,\n",
       "       2, 2, 2, 2, 2, 2, 2, 2, 2, 2, 2, 2, 2, 2, 2, 2, 2])"
      ]
     },
     "execution_count": 58,
     "metadata": {},
     "output_type": "execute_result"
    }
   ],
   "source": [
    "y_pred_BBTT = y_pred_ButtomButtomToThree.argmax(axis=1)\n",
    "y_pred_BBTT"
   ]
  },
  {
   "cell_type": "code",
   "execution_count": 59,
   "metadata": {},
   "outputs": [
    {
     "data": {
      "text/plain": [
       "array([17, 15, 17, 17, 17, 15, 17, 15, 17, 15, 15, 15, 15, 15, 15, 15, 15,\n",
       "       15, 15, 15, 15, 15, 15, 15, 15, 15, 15, 15, 15, 15, 15, 15, 15, 15,\n",
       "       15, 15, 15, 15, 15, 15, 15, 15, 15, 15, 15, 15, 15, 15, 15, 15, 15,\n",
       "       15, 15, 15, 15, 15, 15, 15, 15, 15, 15, 15, 15, 15, 15, 15, 15, 15,\n",
       "       15, 15, 15, 15, 15, 15, 15, 15, 15, 15, 15, 15, 15, 15, 15, 15, 15,\n",
       "       15, 15, 15, 15, 15, 15, 15, 15, 15, 15, 15, 15, 15, 15, 15, 15, 15,\n",
       "       15, 16, 16, 16, 16, 16, 16, 16, 16, 16, 16, 16, 16, 16, 16, 16, 16,\n",
       "       16, 16, 16, 16, 16, 16, 16, 15, 16, 16, 16, 16, 16, 16, 16, 16, 16,\n",
       "       16, 16, 16, 16, 16, 16, 16, 16, 16, 16, 16, 16, 16, 16, 16, 16, 16,\n",
       "       16, 16, 16, 16, 16, 16, 16, 16, 16, 16, 16, 16, 16, 16, 15, 16, 16,\n",
       "       16, 16, 16, 16, 16, 16, 16, 16, 16, 16, 16, 16, 16, 16, 16, 16, 16,\n",
       "       16, 16, 16, 16, 16, 16, 16, 16, 16, 16, 17, 17, 17, 17, 17, 17, 17,\n",
       "       17, 17, 17, 17, 17, 17, 17, 17, 17, 17, 17, 17, 17, 17, 17, 17, 17,\n",
       "       17, 17, 17, 17, 17, 17, 17, 17, 17, 17, 17, 17, 17, 17, 17, 17, 17,\n",
       "       17, 17, 17, 17, 17, 17, 17, 17, 17, 17, 17, 17, 17, 17, 17, 17, 17,\n",
       "       17, 17, 17, 17, 17, 17, 17, 17, 17, 17, 17, 17, 17, 17, 17, 17, 17,\n",
       "       17, 17, 17, 17, 17, 17, 17, 17, 17])"
      ]
     },
     "execution_count": 59,
     "metadata": {},
     "output_type": "execute_result"
    }
   ],
   "source": [
    "y_pred_BBTT[y_pred_BBTT == 0] = 15\n",
    "y_pred_BBTT[y_pred_BBTT == 1] = 16\n",
    "y_pred_BBTT[y_pred_BBTT == 2] = 17\n",
    "y_pred_BBTT"
   ]
  },
  {
   "cell_type": "code",
   "execution_count": 61,
   "metadata": {},
   "outputs": [],
   "source": [
    "y_pred = np.concatenate((y_pred_TopTopToThree.argmax(axis=1), y_pred_TBTT, y_pred_MTTT, y_pred_MBTT, y_pred_BTTT, y_pred_BBTT), axis=0)"
   ]
  },
  {
   "cell_type": "code",
   "execution_count": 62,
   "metadata": {},
   "outputs": [
    {
     "data": {
      "text/plain": [
       "(array([ 1,  1,  1, ..., 17, 17, 17]), 1692)"
      ]
     },
     "execution_count": 62,
     "metadata": {},
     "output_type": "execute_result"
    }
   ],
   "source": [
    "y_pred, len(y_pred)"
   ]
  },
  {
   "cell_type": "code",
   "execution_count": 63,
   "metadata": {},
   "outputs": [
    {
     "data": {
      "text/plain": [
       "array([[19,  0,  0,  0,  0,  0,  0,  0,  0,  0,  0,  0,  0,  0,  0,  0,\n",
       "         0,  0],\n",
       "       [51,  0,  0,  0,  0,  0,  0,  0,  0,  0,  0,  0,  0,  0,  0,  0,\n",
       "         0,  0],\n",
       "       [ 1,  0,  0,  0,  0,  0,  0,  0,  0,  0,  0,  0,  0,  0,  0,  0,\n",
       "         0,  0],\n",
       "       [ 1, 14,  9, 48,  5, 16, 13,  0,  0,  0,  0,  0,  0,  0,  0,  0,\n",
       "         0,  0],\n",
       "       [ 0,  0,  4, 25, 41, 22,  7,  0,  0,  0,  0,  0,  0,  0,  0,  0,\n",
       "         0,  0],\n",
       "       [22, 80, 81, 21, 48, 56, 36,  0,  0,  0,  0,  0,  0,  0,  0,  0,\n",
       "         0,  0],\n",
       "       [ 0,  0,  0,  0,  0,  0, 30, 29,  7,  0,  0,  0,  0,  0,  0,  0,\n",
       "         0,  0],\n",
       "       [ 0,  0,  0,  0,  0,  0,  0, 64, 41,  0,  0,  0,  0,  0,  0,  0,\n",
       "         0,  0],\n",
       "       [ 0,  0,  0,  0,  0,  0,  8,  1, 33,  0,  0,  0,  0,  0,  0,  0,\n",
       "         0,  0],\n",
       "       [ 0,  0,  0,  0,  0,  0,  0,  0,  0, 18, 55, 32, 21,  0,  0,  0,\n",
       "         0,  0],\n",
       "       [ 0,  0,  0,  0,  0,  0,  0,  0,  0, 42, 37, 61, 25,  0,  0,  0,\n",
       "         0,  0],\n",
       "       [ 0,  0,  0,  0,  0,  0,  0,  0, 13, 34,  2,  1, 27,  0,  0,  0,\n",
       "         0,  0],\n",
       "       [ 0,  0,  0,  0,  0,  0,  0,  0,  0,  0,  0,  0,  2, 77,  5,  1,\n",
       "         0,  0],\n",
       "       [ 0,  0,  0,  0,  0,  0,  0,  0,  0,  0,  0,  0,  0, 17, 68,  0,\n",
       "         0,  0],\n",
       "       [ 0,  0,  0,  0,  0,  0,  0,  0,  0,  0,  0,  0, 19,  0, 21,  0,\n",
       "         0,  0],\n",
       "       [ 0,  0,  0,  0,  0,  0,  0,  0,  0,  0,  0,  0,  0,  0,  0, 87,\n",
       "        12,  0],\n",
       "       [ 0,  0,  0,  0,  0,  0,  0,  0,  0,  0,  0,  0,  0,  0,  0,  0,\n",
       "        82, 10],\n",
       "       [ 0,  0,  0,  0,  0,  0,  0,  0,  0,  0,  0,  0,  0,  0,  0,  6,\n",
       "         0, 84]])"
      ]
     },
     "execution_count": 63,
     "metadata": {},
     "output_type": "execute_result"
    }
   ],
   "source": [
    "# Creating the Confusion Matrix\n",
    "from sklearn.metrics import confusion_matrix\n",
    "matrix = confusion_matrix(y_pred, y_test.argmax(axis=1))\n",
    "# matrix = confusion_matrix(y_test[y_pred.max(axis=1) > 0.7].argmax(axis=1), y_pred[y_pred.max(axis=1) > 0.7].argmax(axis=1))\n",
    "matrix"
   ]
  },
  {
   "cell_type": "code",
   "execution_count": 64,
   "metadata": {},
   "outputs": [
    {
     "data": {
      "image/png": "[encoded data removed]",
      "text/plain": [
       "<Figure size 1152x1008 with 2 Axes>"
      ]
     },
     "metadata": {
      "needs_background": "light"
     },
     "output_type": "display_data"
    }
   ],
   "source": [
    "def plot_confusion_matrix(cm,\n",
    "                          target_names,\n",
    "                          title='Confusion matrix',\n",
    "                          cmap=None,\n",
    "                          normalize=True):\n",
    "    \"\"\"\n",
    "    given a sklearn confusion matrix (cm), make a nice plot\n",
    "\n",
    "    Arguments\n",
    "    ---------\n",
    "    cm:           confusion matrix from sklearn.metrics.confusion_matrix\n",
    "\n",
    "    target_names: given classification classes such as [0, 1, 2]\n",
    "                  the class names, for example: ['high', 'medium', 'low']\n",
    "\n",
    "    title:        the text to display at the top of the matrix\n",
    "\n",
    "    cmap:         the gradient of the values displayed from matplotlib.pyplot.cm\n",
    "                  see http://matplotlib.org/examples/color/colormaps_reference.html\n",
    "                  plt.get_cmap('jet') or plt.cm.Blues\n",
    "\n",
    "    normalize:    If False, plot the raw numbers\n",
    "                  If True, plot the proportions\n",
    "\n",
    "    Usage|\n",
    "    -----\n",
    "    plot_confusion_matrix(cm           = cm,                  # confusion matrix created by\n",
    "                                                              # sklearn.metrics.confusion_matrix\n",
    "                          normalize    = True,                # show proportions\n",
    "                          target_names = y_labels_vals,       # list of names of the classes\n",
    "                          title        = best_estimator_name) # title of graph\n",
    "\n",
    "    Citiation\n",
    "    ---------\n",
    "    http://scikit-learn.org/stable/auto_examples/model_selection/plot_confusion_matrix.html\n",
    "\n",
    "    \"\"\"\n",
    "    import matplotlib.pyplot as plt\n",
    "    import numpy as np\n",
    "    import itertools\n",
    "\n",
    "    accuracy = np.trace(cm) / np.sum(cm).astype('float')\n",
    "    misclass = 1 - accuracy\n",
    "\n",
    "    if cmap is None:\n",
    "        cmap = plt.get_cmap('Blues')\n",
    "\n",
    "    plt.figure(figsize=(16, 14))\n",
    "    plt.imshow(cm, interpolation='nearest', cmap=cmap)\n",
    "    plt.title(title)\n",
    "    plt.colorbar()\n",
    "\n",
    "    if target_names is not None:\n",
    "        tick_marks = np.arange(len(target_names))\n",
    "        plt.xticks(tick_marks, target_names, rotation=45)\n",
    "        plt.yticks(tick_marks, target_names)\n",
    "\n",
    "    if normalize:\n",
    "        cm = cm.astype('float') / cm.sum(axis=1)[:, np.newaxis]\n",
    "\n",
    "\n",
    "    thresh = cm.max() / 1.5 if normalize else cm.max() / 2\n",
    "    for i, j in itertools.product(range(cm.shape[0]), range(cm.shape[1])):\n",
    "        if normalize:\n",
    "            plt.text(j, i, \"{:0.4f}\".format(cm[i, j]),\n",
    "                     horizontalalignment=\"center\",\n",
    "                     color=\"red\" if cm[i, j] > thresh else \"black\")\n",
    "        else:\n",
    "            plt.text(j, i, \"{:,}\".format(cm[i, j]),\n",
    "                     horizontalalignment=\"center\",\n",
    "                     color=\"red\" if cm[i, j] > thresh else \"black\")\n",
    "\n",
    "\n",
    "    plt.tight_layout()\n",
    "    plt.ylabel('True label')\n",
    "    plt.xlabel('Predicted label\\naccuracy={:0.4f}; misclass={:0.4f}'.format(accuracy, misclass))\n",
    "    plt.show()\n",
    "    \n",
    "    \n",
    "plot_confusion_matrix(matrix, [0, 1, 2, 3, 4, 5, 6, 7, 8, 9, 10, 11, 12, 13, 14, 15, 16, 17])"
   ]
  },
  {
   "cell_type": "code",
   "execution_count": 26,
   "metadata": {},
   "outputs": [
    {
     "data": {
      "text/plain": [
       "(144, 1)"
      ]
     },
     "execution_count": 26,
     "metadata": {},
     "output_type": "execute_result"
    }
   ],
   "source": [
    "X_test[0].shape"
   ]
  },
  {
   "cell_type": "code",
   "execution_count": 24,
   "metadata": {},
   "outputs": [
    {
     "data": {
      "text/plain": [
       "(1, 144, 1)"
      ]
     },
     "execution_count": 24,
     "metadata": {},
     "output_type": "execute_result"
    }
   ],
   "source": [
    "one_test = np.reshape(X_test[0], (1, X_test[0].shape[0], X_test[0].shape[1]))\n",
    "one_test.shape"
   ]
  },
  {
   "cell_type": "code",
   "execution_count": 27,
   "metadata": {},
   "outputs": [
    {
     "data": {
      "text/plain": [
       "array([[[-0.99063015],\n",
       "        [-0.89059682],\n",
       "        [-0.70649538],\n",
       "        [-0.87725951],\n",
       "        [-0.76233795],\n",
       "        [-0.89350874],\n",
       "        [-0.76272074],\n",
       "        [-0.78733247],\n",
       "        [-0.83600327],\n",
       "        [-0.7779857 ],\n",
       "        [-0.74402156],\n",
       "        [-1.02369236],\n",
       "        [-1.14812201],\n",
       "        [-1.16277141],\n",
       "        [-1.15074772],\n",
       "        [-0.92205267],\n",
       "        [-0.91593185],\n",
       "        [-0.8610631 ],\n",
       "        [-0.95833558],\n",
       "        [-1.11209724],\n",
       "        [-0.83975244],\n",
       "        [-1.01136548],\n",
       "        [-1.03390043],\n",
       "        [-0.93042182],\n",
       "        [-0.95902365],\n",
       "        [-1.02660282],\n",
       "        [-0.84842312],\n",
       "        [-0.97348321],\n",
       "        [-0.90468305],\n",
       "        [-1.00794762],\n",
       "        [-1.0666574 ],\n",
       "        [-1.04514777],\n",
       "        [-0.84641719],\n",
       "        [-0.86705859],\n",
       "        [-1.06837128],\n",
       "        [-1.15196067],\n",
       "        [-1.05990771],\n",
       "        [-0.91861774],\n",
       "        [-0.92560881],\n",
       "        [-0.99787076],\n",
       "        [-0.91557598],\n",
       "        [-1.0369491 ],\n",
       "        [-1.05320889],\n",
       "        [-0.82866508],\n",
       "        [-0.78794566],\n",
       "        [-0.73720308],\n",
       "        [-0.84586748],\n",
       "        [-0.89759839],\n",
       "        [-0.871662  ],\n",
       "        [-0.82624636],\n",
       "        [-0.86273952],\n",
       "        [-0.93951928],\n",
       "        [-0.82950508],\n",
       "        [-0.97121227],\n",
       "        [-1.02544186],\n",
       "        [-0.97607633],\n",
       "        [-0.87167003],\n",
       "        [-0.88829791],\n",
       "        [-0.86523443],\n",
       "        [-0.82819523],\n",
       "        [-0.91499383],\n",
       "        [-0.85784538],\n",
       "        [-0.84327838],\n",
       "        [-0.79636076],\n",
       "        [-0.68193829],\n",
       "        [-0.92100703],\n",
       "        [-0.60145629],\n",
       "        [-0.64287506],\n",
       "        [-0.70809622],\n",
       "        [-0.41648739],\n",
       "        [-0.28133845],\n",
       "        [-0.5562991 ],\n",
       "        [-0.00455405],\n",
       "        [-0.16748401],\n",
       "        [-0.59282585],\n",
       "        [-0.48787968],\n",
       "        [-0.61811484],\n",
       "        [-0.52622341],\n",
       "        [-0.60517012],\n",
       "        [-0.67591722],\n",
       "        [-0.56342736],\n",
       "        [-0.7155333 ],\n",
       "        [-0.75343041],\n",
       "        [-0.75788138],\n",
       "        [-0.71260032],\n",
       "        [-1.06267032],\n",
       "        [-1.00304225],\n",
       "        [-0.96562135],\n",
       "        [-0.90970738],\n",
       "        [-0.75878776],\n",
       "        [-0.93722872],\n",
       "        [-0.73581899],\n",
       "        [-0.85690232],\n",
       "        [-1.13516694],\n",
       "        [-1.03040863],\n",
       "        [-0.9872073 ],\n",
       "        [-1.05456061],\n",
       "        [-0.98822619],\n",
       "        [-0.90896186],\n",
       "        [-0.82979107],\n",
       "        [-0.7395816 ],\n",
       "        [-0.84987798],\n",
       "        [-0.95527618],\n",
       "        [-0.98306089],\n",
       "        [-0.94926357],\n",
       "        [-1.03621871],\n",
       "        [-1.03568684],\n",
       "        [-0.74204941],\n",
       "        [-0.69603049],\n",
       "        [-0.90520262],\n",
       "        [-0.85149988],\n",
       "        [-0.86098928],\n",
       "        [-0.9955803 ],\n",
       "        [-0.90113108],\n",
       "        [-0.68844719],\n",
       "        [-0.56365101],\n",
       "        [-0.91908432],\n",
       "        [-0.92805171],\n",
       "        [-0.79969021],\n",
       "        [-0.7154163 ],\n",
       "        [-0.74873116],\n",
       "        [-0.8402631 ],\n",
       "        [-1.14771631],\n",
       "        [-0.83777495],\n",
       "        [-0.67228469],\n",
       "        [-0.85364983],\n",
       "        [-0.61169127],\n",
       "        [-0.72752368],\n",
       "        [-0.74337283],\n",
       "        [-0.84457163],\n",
       "        [-0.96441292],\n",
       "        [-0.87236073],\n",
       "        [-1.12693902],\n",
       "        [-1.10269674],\n",
       "        [-0.86577999],\n",
       "        [-0.75577843],\n",
       "        [-1.15765311],\n",
       "        [-0.96830531],\n",
       "        [-0.81485461],\n",
       "        [-0.91189323],\n",
       "        [-0.8085911 ],\n",
       "        [-0.98224016],\n",
       "        [-0.89406705],\n",
       "        [-0.83181187]]])"
      ]
     },
     "execution_count": 27,
     "metadata": {},
     "output_type": "execute_result"
    }
   ],
   "source": [
    "one_test"
   ]
  },
  {
   "cell_type": "code",
   "execution_count": 22,
   "metadata": {},
   "outputs": [
    {
     "data": {
      "text/plain": [
       "(1692, 144, 1)"
      ]
     },
     "execution_count": 22,
     "metadata": {},
     "output_type": "execute_result"
    }
   ],
   "source": [
    "X_test.shape"
   ]
  },
  {
   "cell_type": "code",
   "execution_count": 51,
   "metadata": {},
   "outputs": [
    {
     "name": "stdout",
     "output_type": "stream",
     "text": [
      "[2]\n"
     ]
    },
    {
     "name": "stderr",
     "output_type": "stream",
     "text": [
      "/home/wuh007/anaconda3/envs/keras/lib/python3.6/site-packages/ipykernel_launcher.py:6: DeprecationWarning: elementwise comparison failed; this will raise an error in the future.\n",
      "  \n"
     ]
    }
   ],
   "source": [
    "y_pred_3sec = model_3sec.predict(one_test)\n",
    "y_pred_TopToTwo = model_TopToTwo.predict(one_test[y_pred_3sec.argmax(axis=1) == 0])\n",
    "y_pred_MiddleToTwo = model_MiddleToTwo.predict(one_test[y_pred_3sec.argmax(axis=1) == 1])\n",
    "y_pred_ButtomToTwo = model_ButtomToTwo.predict(one_test[y_pred_3sec.argmax(axis=1) == 2])\n",
    "\n",
    "if y_pred_TopToTwo != []:\n",
    "    y_pred_TopTopToThree = model_TopTopToThree.predict(one_test[y_pred_3sec.argmax(axis=1) == 0][y_pred_TopToTwo.argmax(axis=1) == 0])\n",
    "    y_pred_TopButtomToThree = model_TopButtomToThree.predict(one_test[y_pred_3sec.argmax(axis=1) == 0][y_pred_TopToTwo.argmax(axis=1) == 1])\n",
    "    if y_pred_TopTopToThree != []:\n",
    "        print(y_pred_TopTopToThree.argmax(axis=1))\n",
    "    else:\n",
    "        print(y_pred_TopButtomToThree.argmax(axis=1))\n",
    "if y_pred_MiddleToTwo != []:\n",
    "    y_pred_MiddleTopToThree = model_MiddleTopToThree.predict(one_test[y_pred_3sec.argmax(axis=1) == 1][y_pred_MiddleToTwo.argmax(axis=1) == 0])\n",
    "    y_pred_MiddleButtomToThree = model_MiddleButtomToThree.predict(one_test[y_pred_3sec.argmax(axis=1) == 1][y_pred_MiddleToTwo.argmax(axis=1) == 1])\n",
    "    if y_pred_MiddleTopToThree != []:\n",
    "        print(y_pred_MiddleTopToThree.argmax(axis=1))\n",
    "    else:\n",
    "        print(y_pred_MiddleButtomToThree.argmax(axis=1))    \n",
    "if y_pred_ButtomToTwo != []:    \n",
    "    y_pred_ButtomTopToThree = model_ButtomTopToThree.predict(one_test[y_pred_3sec.argmax(axis=1) == 2][y_pred_ButtomToTwo.argmax(axis=1) == 0])\n",
    "    y_pred_ButtomButtomToThree = model_ButtomButtomToThree.predict(one_test[y_pred_3sec.argmax(axis=1) == 2][y_pred_ButtomToTwo.argmax(axis=1) == 1])\n",
    "    if y_pred_ButtomTopToThree != []:\n",
    "        print(y_pred_ButtomTopToThree)\n",
    "    else:\n",
    "        print(y_pred_ButtomButtomToThree)    "
   ]
  },
  {
   "cell_type": "code",
   "execution_count": 46,
   "metadata": {},
   "outputs": [
    {
     "data": {
      "text/plain": [
       "(array([[9.6238034e-07, 9.9999905e-01]], dtype=float32), [], [])"
      ]
     },
     "execution_count": 46,
     "metadata": {},
     "output_type": "execute_result"
    }
   ],
   "source": [
    "y_pred_TopToTwo, y_pred_MiddleToTwo, y_pred_ButtomToTwo"
   ]
  },
  {
   "cell_type": "code",
   "execution_count": 41,
   "metadata": {},
   "outputs": [
    {
     "data": {
      "text/plain": [
       "array([[9.6238034e-07, 9.9999905e-01]], dtype=float32)"
      ]
     },
     "execution_count": 41,
     "metadata": {},
     "output_type": "execute_result"
    }
   ],
   "source": [
    "y_pred_TopToTwo"
   ]
  },
  {
   "cell_type": "code",
   "execution_count": 32,
   "metadata": {},
   "outputs": [
    {
     "data": {
      "text/plain": [
       "array([ True])"
      ]
     },
     "execution_count": 32,
     "metadata": {},
     "output_type": "execute_result"
    }
   ],
   "source": [
    "y_pred_3sec.argmax(axis=1) == 0"
   ]
  },
  {
   "cell_type": "code",
   "execution_count": 37,
   "metadata": {},
   "outputs": [
    {
     "ename": "IndexError",
     "evalue": "boolean index did not match indexed array along dimension 0; dimension is 1692 but corresponding boolean dimension is 1",
     "output_type": "error",
     "traceback": [
      "\u001b[0;31m---------------------------------------------------------------------------\u001b[0m",
      "\u001b[0;31mIndexError\u001b[0m                                Traceback (most recent call last)",
      "\u001b[0;32m<ipython-input-37-f4209c669800>\u001b[0m in \u001b[0;36m<module>\u001b[0;34m\u001b[0m\n\u001b[0;32m----> 1\u001b[0;31m \u001b[0mX_test\u001b[0m\u001b[0;34m[\u001b[0m\u001b[0my_pred_3sec\u001b[0m\u001b[0;34m.\u001b[0m\u001b[0margmax\u001b[0m\u001b[0;34m(\u001b[0m\u001b[0maxis\u001b[0m\u001b[0;34m=\u001b[0m\u001b[0;36m1\u001b[0m\u001b[0;34m)\u001b[0m \u001b[0;34m==\u001b[0m \u001b[0;36m0\u001b[0m\u001b[0;34m]\u001b[0m\u001b[0;34m[\u001b[0m\u001b[0my_pred_MiddleToTwo\u001b[0m\u001b[0;34m.\u001b[0m\u001b[0margmax\u001b[0m\u001b[0;34m(\u001b[0m\u001b[0maxis\u001b[0m\u001b[0;34m=\u001b[0m\u001b[0;36m1\u001b[0m\u001b[0;34m)\u001b[0m \u001b[0;34m==\u001b[0m \u001b[0;36m0\u001b[0m\u001b[0;34m]\u001b[0m\u001b[0;34m\u001b[0m\u001b[0;34m\u001b[0m\u001b[0m\n\u001b[0m",
      "\u001b[0;31mIndexError\u001b[0m: boolean index did not match indexed array along dimension 0; dimension is 1692 but corresponding boolean dimension is 1"
     ]
    }
   ],
   "source": [
    "X_test[y_pred_3sec.argmax(axis=1) == 0][y_pred_MiddleToTwo.argmax(axis=1) == 0]"
   ]
  }
 ],
 "metadata": {
  "kernelspec": {
   "display_name": "Python 3",
   "language": "python",
   "name": "python3"
  },
  "language_info": {
   "codemirror_mode": {
    "name": "ipython",
    "version": 3
   },
   "file_extension": ".py",
   "mimetype": "text/x-python",
   "name": "python",
   "nbconvert_exporter": "python",
   "pygments_lexer": "ipython3",
   "version": "3.6.9"
  }
 },
 "nbformat": 4,
 "nbformat_minor": 2
}
